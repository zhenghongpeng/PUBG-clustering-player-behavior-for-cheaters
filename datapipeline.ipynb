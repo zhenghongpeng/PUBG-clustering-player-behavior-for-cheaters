{
 "cells": [
  {
   "cell_type": "markdown",
   "metadata": {},
   "source": [
    "# Credit card fraud detector"
   ]
  },
  {
   "cell_type": "markdown",
   "metadata": {},
   "source": [
    "In this solution we will build the core of a credit card fraud detection system using SageMaker. We will start by training an anomaly detection algorithm, then proceed to train two XGBoost models for supervised training. To deal with the highly unbalanced data common in fraud detection, our first model will use re-weighting of the data, and the second will use re-sampling, using the popular SMOTE technique for oversampling the rare fraud data.\n",
    "\n",
    "Our solution includes an example of making calls to a REST API to simulate a real deployment, using AWS Lambda to trigger both the anomaly detection and XGBoost model."
   ]
  },
  {
   "cell_type": "markdown",
   "metadata": {},
   "source": [
    "## Investigate and process the data"
   ]
  },
  {
   "cell_type": "markdown",
   "metadata": {},
   "source": [
    "Let's start by reading in the credit card fraud data set."
   ]
  },
  {
   "cell_type": "code",
   "execution_count": 4,
   "metadata": {},
   "outputs": [],
   "source": [
    "#!pip install -r /home/ec2-user/SageMaker/source/notebooks/pubgclustering/requirements.txt"
   ]
  },
  {
   "cell_type": "code",
   "execution_count": 5,
   "metadata": {},
   "outputs": [],
   "source": [
    "#!aws s3 cp s3://sagemaker-fraud-machine-learning-inputbucket-ee-x-pod-lab-kp /home/ec2-user/SageMaker/source/notebooks --recursive\n"
   ]
  },
  {
   "cell_type": "code",
   "execution_count": 6,
   "metadata": {},
   "outputs": [],
   "source": [
    "#!aws s3 ls s3://sagemaker-fraud-machine-learning-inputbucket-ee-x-pod-lab-kp/pubgclustering/data/PUBG_Player_Statistics.csv"
   ]
  },
  {
   "cell_type": "code",
   "execution_count": null,
   "metadata": {},
   "outputs": [],
   "source": []
  },
  {
   "cell_type": "code",
   "execution_count": 7,
   "metadata": {},
   "outputs": [],
   "source": [
    "from sklearn import metrics\n",
    "from sklearn.model_selection import train_test_split\n",
    "from sklearn.covariance import EllipticEnvelope\n",
    "from sklearn.decomposition import PCA\n",
    "from sklearn.ensemble import IsolationForest\n",
    "from sklearn.neighbors import LocalOutlierFactor\n",
    "from sklearn.preprocessing import StandardScaler\n",
    "\n",
    "import matplotlib as mpl\n",
    "import matplotlib.pyplot as plt\n",
    "import numpy as np\n",
    "import pandas as pd\n",
    "import plotly.express as px\n",
    "import seaborn as sns\n",
    "import boto"
   ]
  },
  {
   "cell_type": "code",
   "execution_count": 9,
   "metadata": {},
   "outputs": [],
   "source": [
    "# data = pd.read_csv('creditcard.csv', delimiter=',')\n",
    "file = \"/home/ec2-user/SageMaker/source/notebooks/pubgclustering/data/PUBG_Player_Statistics.csv\"\n",
    "data = pd.read_csv(file, delimiter=',')"
   ]
  },
  {
   "cell_type": "markdown",
   "metadata": {},
   "source": [
    "Let's take a peek at our data (we only show a subset of the columns in the table):"
   ]
  },
  {
   "cell_type": "code",
   "execution_count": 10,
   "metadata": {},
   "outputs": [
    {
     "name": "stdout",
     "output_type": "stream",
     "text": [
      "Index(['player_name', 'tracker_id', 'solo_KillDeathRatio', 'solo_WinRatio',\n",
      "       'solo_TimeSurvived', 'solo_RoundsPlayed', 'solo_Wins',\n",
      "       'solo_WinTop10Ratio', 'solo_Top10s', 'solo_Top10Ratio',\n",
      "       ...\n",
      "       'squad_RideDistance', 'squad_MoveDistance', 'squad_AvgWalkDistance',\n",
      "       'squad_AvgRideDistance', 'squad_LongestKill', 'squad_Heals',\n",
      "       'squad_Revives', 'squad_Boosts', 'squad_DamageDealt', 'squad_DBNOs'],\n",
      "      dtype='object', length=152)\n"
     ]
    }
   ],
   "source": [
    "print(data.columns)\n",
    "# data[['Time', 'V1', 'V2', 'V27', 'V28', 'Amount', 'Class']].describe()"
   ]
  },
  {
   "cell_type": "code",
   "execution_count": 11,
   "metadata": {},
   "outputs": [],
   "source": [
    "#---------Preprocessing\n",
    "## Create a copy of the dataframe\n",
    "df = data.copy()\n",
    "cols = np.arange(52, 152, 1)\n",
    "\n",
    "# Drop entries if they have null values\n",
    "df.dropna(inplace = True)\n",
    "\n",
    "## Drop columns after the 52nd index\n",
    "df.drop(df.columns[cols], axis = 1, inplace = True)\n",
    "\n",
    "## Drop player_name and tracker id\n",
    "df.drop(df.columns[[0, 1]], axis = 1, inplace = True)\n",
    "\n",
    "## Drop Knockout and Revives\n",
    "df.drop(df.columns[[49]], axis = 1, inplace = True)\n",
    "df.drop(columns = ['solo_Revives'], inplace = True)\n",
    "\n",
    "## Drop the string solo from all strings\n",
    "df.rename(columns = lambda x: x.lstrip('solo_').rstrip(''), inplace = True)\n",
    "\n",
    "## Combine a few columns \n",
    "df['TotalDistance'] = df['WalkDistance'] + df['RideDistance']\n",
    "df['AvgTotalDistance'] = df['AvgWalkDistance'] + df['AvgRideDistance']\n",
    "\n",
    "# Remove Outliers\n",
    "df = df.drop(df[df['RoundsPlayed'] < df['RoundsPlayed'].mean()].index)"
   ]
  },
  {
   "cell_type": "code",
   "execution_count": 12,
   "metadata": {},
   "outputs": [
    {
     "data": {
      "text/plain": [
       "Index(['KillDeathRatio', 'WinRatio', 'TimeSurvived', 'RoundsPlayed', 'Wins',\n",
       "       'WinTop10Ratio', 'Top10s', 'Top10Ratio', 'Losses', 'Rating',\n",
       "       'BestRating', 'DamagePg', 'HeadshotKillsPg', 'HealsPg', 'KillsPg',\n",
       "       'MoveDistancePg', 'RevivesPg', 'RoadKillsPg', 'TeamKillsPg',\n",
       "       'TimeSurvivedPg', 'Top10sPg', 'Kills', 'Assists', 'Suicides',\n",
       "       'TeamKills', 'HeadshotKills', 'HeadshotKillRatio', 'VehicleDestroys',\n",
       "       'RoadKills', 'DailyKills', 'WeeklyKills', 'RoundMostKills',\n",
       "       'MaxKillStreaks', 'WeaponAcquired', 'Days', 'LongestTimeSurvived',\n",
       "       'MostSurvivalTime', 'AvgSurvivalTime', 'WinPoints', 'WalkDistance',\n",
       "       'RideDistance', 'MoveDistance', 'AvgWalkDistance', 'AvgRideDistance',\n",
       "       'LongestKill', 'Heals', 'Boosts', 'DamageDealt', 'TotalDistance',\n",
       "       'AvgTotalDistance'],\n",
       "      dtype='object')"
      ]
     },
     "execution_count": 12,
     "metadata": {},
     "output_type": "execute_result"
    }
   ],
   "source": [
    "df.columns"
   ]
  },
  {
   "cell_type": "code",
   "execution_count": null,
   "metadata": {},
   "outputs": [],
   "source": []
  },
  {
   "cell_type": "code",
   "execution_count": 13,
   "metadata": {},
   "outputs": [
    {
     "name": "stdout",
     "output_type": "stream",
     "text": [
      "The number of training samples is 20771\n",
      "The number of development samples is 7121\n",
      "The number of testing samples is 1781\n"
     ]
    }
   ],
   "source": [
    "# Create train and test set using Sci-Kit Learn\n",
    "train, test = train_test_split(df, test_size=0.3, random_state = 10)\n",
    "dev, test = train_test_split(test, test_size = 0.2, random_state = 10)\n",
    "data = train\n",
    "\n",
    "print(\"The number of training samples is\", len(train))\n",
    "print(\"The number of development samples is\", len(dev))\n",
    "print(\"The number of testing samples is\", len(test))"
   ]
  },
  {
   "cell_type": "code",
   "execution_count": 14,
   "metadata": {},
   "outputs": [
    {
     "name": "stdout",
     "output_type": "stream",
     "text": [
      "       KillDeathRatio      WinRatio  TimeSurvived  RoundsPlayed          Wins  \\\n",
      "count    20771.000000  20771.000000  2.077100e+04  20771.000000  20771.000000   \n",
      "mean         1.289158      2.204012  1.484172e+05    174.985894      3.554475   \n",
      "std          0.602602      2.510500  9.339460e+04    113.147056      4.939222   \n",
      "min          0.100000      0.000000  3.813548e+04     80.000000      0.000000   \n",
      "25%          0.900000      0.680000  9.091498e+04    104.000000      1.000000   \n",
      "50%          1.160000      1.460000  1.195404e+05    139.000000      2.000000   \n",
      "75%          1.520000      2.910000  1.733681e+05    205.000000      4.000000   \n",
      "max         17.410000     40.210000  1.219536e+06   1552.000000    102.000000   \n",
      "\n",
      "       WinTop10Ratio        Top10s    Top10Ratio        Losses        Rating  \\\n",
      "count   20771.000000  20771.000000  20771.000000  20771.000000  20771.000000   \n",
      "mean        0.138708     23.884743     14.369067    171.431419   2059.159131   \n",
      "std         0.137145     19.214653      7.396966    111.734872    256.747029   \n",
      "min         0.000000      1.000000      0.700000     58.000000   1165.510000   \n",
      "25%         0.040000     13.000000      9.300000    101.000000   1882.635000   \n",
      "50%         0.100000     19.000000     12.800000    136.000000   2074.280000   \n",
      "75%         0.200000     28.000000     17.600000    201.000000   2240.980000   \n",
      "max         1.000000    386.000000     69.300000   1541.000000   2967.090000   \n",
      "\n",
      "         BestRating      DamagePg  HeadshotKillsPg       HealsPg  \\\n",
      "count  20771.000000  20771.000000     20771.000000  20771.000000   \n",
      "mean    2084.405850    152.375769         0.269829      1.387851   \n",
      "std      248.783836     58.102445         0.171563      0.613690   \n",
      "min     1279.220000     15.590000         0.010000      0.070000   \n",
      "25%     1909.505000    113.610000         0.170000      1.020000   \n",
      "50%     2100.270000    141.620000         0.230000      1.280000   \n",
      "75%     2257.935000    178.490000         0.330000      1.620000   \n",
      "max     2963.690000   1054.120000         5.220000     15.720000   \n",
      "\n",
      "            KillsPg  MoveDistancePg  RevivesPg   RoadKillsPg   TeamKillsPg  \\\n",
      "count  20771.000000    20771.000000    20771.0  20771.000000  20771.000000   \n",
      "mean       1.249489     2564.498896        0.0      0.018677      0.007097   \n",
      "std        0.534357      914.865530        0.0      0.019422      0.008446   \n",
      "min        0.100000      603.150000        0.0      0.000000      0.000000   \n",
      "25%        0.890000     1939.505000        0.0      0.010000      0.000000   \n",
      "50%        1.140000     2393.870000        0.0      0.010000      0.010000   \n",
      "75%        1.480000     2988.270000        0.0      0.030000      0.010000   \n",
      "max       10.410000    14527.380000        0.0      0.350000      0.160000   \n",
      "\n",
      "       TimeSurvivedPg      Top10sPg         Kills       Assists      Suicides  \\\n",
      "count    20771.000000  20771.000000  20771.000000  20771.000000  20771.000000   \n",
      "mean       866.861773      0.143653    212.706129     13.568533      1.189302   \n",
      "std        165.230571      0.074049    169.973630     10.984160      1.520992   \n",
      "min        384.860000      0.010000     20.000000      0.000000      0.000000   \n",
      "25%        751.730000      0.090000    119.000000      7.000000      0.000000   \n",
      "50%        855.710000      0.130000    166.000000     11.000000      1.000000   \n",
      "75%        966.225000      0.180000    247.000000     16.000000      2.000000   \n",
      "max       1669.600000      0.690000   4023.000000    185.000000     67.000000   \n",
      "\n",
      "          TeamKills  HeadshotKills  HeadshotKillRatio  VehicleDestroys  \\\n",
      "count  20771.000000   20771.000000       20771.000000     20771.000000   \n",
      "mean       1.189351      45.870011           0.208889         1.556930   \n",
      "std        1.521128      43.602108           0.053425         2.605163   \n",
      "min        0.000000       2.000000           0.040000         0.000000   \n",
      "25%        0.000000      23.000000           0.170000         0.000000   \n",
      "50%        1.000000      34.000000           0.210000         1.000000   \n",
      "75%        2.000000      54.000000           0.240000         2.000000   \n",
      "max       67.000000    1494.000000           0.760000       138.000000   \n",
      "\n",
      "          RoadKills    DailyKills   WeeklyKills  RoundMostKills  \\\n",
      "count  20771.000000  20771.000000  20771.000000    20771.000000   \n",
      "mean       3.249242      8.490925     21.468538        8.319002   \n",
      "std        4.340528     10.347829     27.086182        2.941070   \n",
      "min        0.000000      0.000000      0.000000        2.000000   \n",
      "25%        1.000000      2.000000      6.000000        6.000000   \n",
      "50%        2.000000      5.000000     13.000000        8.000000   \n",
      "75%        4.000000     11.000000     27.000000       10.000000   \n",
      "max      171.000000    174.000000    491.000000       87.000000   \n",
      "\n",
      "       MaxKillStreaks  WeaponAcquired          Days  LongestTimeSurvived  \\\n",
      "count    20771.000000         20771.0  20771.000000         20771.000000   \n",
      "mean         2.468634             0.0     33.988012          2025.299524   \n",
      "std          1.347912             0.0     12.724328           103.533922   \n",
      "min          1.000000             0.0      4.000000          1612.800000   \n",
      "25%          2.000000             0.0     25.000000          1960.120000   \n",
      "50%          2.000000             0.0     32.000000          1991.500000   \n",
      "75%          3.000000             0.0     40.000000          2100.150000   \n",
      "max         87.000000             0.0    173.000000          3067.930000   \n",
      "\n",
      "       MostSurvivalTime  AvgSurvivalTime     WinPoints  WalkDistance  \\\n",
      "count      20771.000000     20771.000000  20771.000000  2.077100e+04   \n",
      "mean        2025.299524       906.716177   3085.571037  2.183727e+05   \n",
      "std          103.533922       210.977929   1536.193318  1.403832e+05   \n",
      "min         1612.800000       242.940000    959.000000  4.848569e+04   \n",
      "25%         1960.120000       761.985000   1803.000000  1.339626e+05   \n",
      "50%         1991.500000       888.930000   2764.000000  1.767646e+05   \n",
      "75%         2100.150000      1038.490000   3952.000000  2.553466e+05   \n",
      "max         3067.930000      1797.320000  10143.000000  2.457887e+06   \n",
      "\n",
      "       RideDistance  MoveDistance  AvgWalkDistance  AvgRideDistance  \\\n",
      "count  2.077100e+04  2.077100e+04     20771.000000     20771.000000   \n",
      "mean   2.230056e+05  4.413784e+05      1346.563388      1354.913718   \n",
      "std    2.099482e+05  3.280358e+05       494.991381       858.724381   \n",
      "min    5.001280e+03  6.091792e+04       236.830000        30.810000   \n",
      "25%    1.051215e+05  2.486792e+05      1068.300000       745.990000   \n",
      "50%    1.637230e+05  3.458146e+05      1293.540000      1157.880000   \n",
      "75%    2.662136e+05  5.169522e+05      1558.880000      1744.530000   \n",
      "max    3.453278e+06  4.592642e+06     28756.940000      9127.700000   \n",
      "\n",
      "        LongestKill         Heals        Boosts    DamageDealt  TotalDistance  \\\n",
      "count  20771.000000  20771.000000  20771.000000   20771.000000   2.077100e+04   \n",
      "mean     324.427150    243.003226    215.759087   26040.816089   4.413784e+05   \n",
      "std      118.718927    204.151779    172.743355   19913.848424   3.280358e+05   \n",
      "min       19.820000     23.000000      9.000000    3219.700000   6.091792e+04   \n",
      "25%      250.585000    129.000000    115.000000   14826.670000   2.486791e+05   \n",
      "50%      306.840000    185.000000    167.000000   20426.280000   3.458145e+05   \n",
      "75%      375.460000    284.000000    255.000000   30325.895000   5.169522e+05   \n",
      "max     4694.110000   6341.000000   2923.000000  442283.700000   4.592642e+06   \n",
      "\n",
      "       AvgTotalDistance  \n",
      "count      20771.000000  \n",
      "mean        2701.477106  \n",
      "std         1112.561617  \n",
      "min          354.890000  \n",
      "25%         1936.070000  \n",
      "50%         2506.620000  \n",
      "75%         3267.805000  \n",
      "max        30077.250000  \n"
     ]
    }
   ],
   "source": [
    "with pd.option_context('display.max_columns', 52):\n",
    "    print(data.describe(include = 'all'))"
   ]
  },
  {
   "cell_type": "markdown",
   "metadata": {},
   "source": [
    "Next, we will prepare our data for loading and training."
   ]
  },
  {
   "cell_type": "code",
   "execution_count": null,
   "metadata": {},
   "outputs": [],
   "source": []
  },
  {
   "cell_type": "code",
   "execution_count": null,
   "metadata": {},
   "outputs": [],
   "source": [
    "# Scale the data (Normalize)\n",
    "scaler = StandardScaler()\n",
    "X_train_std = scaler.fit_transform(train)\n",
    "X_dev_std = scaler.transform(dev)\n",
    "X_test_std = scaler.transform(test)"
   ]
  },
  {
   "cell_type": "code",
   "execution_count": null,
   "metadata": {},
   "outputs": [],
   "source": []
  },
  {
   "cell_type": "code",
   "execution_count": 16,
   "metadata": {
    "scrolled": true
   },
   "outputs": [],
   "source": [
    "# Fitting the PCA algorithm with our Data\n",
    "pca = PCA().fit(X_train_std)\n",
    "pca_variance_components = np.cumsum(pca.explained_variance_ratio_)\n",
    "\n",
    "# Plotting the Cumulative Summation of the Explained Variance\n",
    "## Plot Parameters\n",
    "plt.figure(figsize=(20,10))\n",
    "plt.plot(pca_variance_components, '-o')\n",
    "plt.xlabel('Number of Components', fontsize = 24)\n",
    "plt.xticks(range(0,51))\n",
    "plt.ylabel('Variance (%)', fontsize = 24) \n",
    "plt.title('Variance of Principle Components', fontsize = 24)\n",
    "\n",
    "## Annotate plot \n",
    "plt.text(4, pca_variance_components[11] + 0.015,\n",
    "         '85% cutoff', size = 14, color = 'red', weight = 'semibold')\n",
    "\n",
    "plt.hlines(y = 0.85, color='red', linestyle = '-', xmin = 0.0, xmax = 11)\n",
    "\n",
    "plt.text(10, pca_variance_components[11] + 0.015,\n",
    "         str(round(pca_variance_components[11], 3)), size = 14, color = 'blue', weight = 'semibold')\n",
    "\n",
    "plt.text(12, 0.4,\n",
    "         '11 components are sufficient', size = 14, color = 'red', weight = 'semibold')\n",
    "\n",
    "plt.vlines(x=11, color='red', linestyle = '-', ymin = 0.0, ymax = 0.85)\n",
    "\n",
    "plt.show()"
   ]
  },
  {
   "cell_type": "code",
   "execution_count": null,
   "metadata": {},
   "outputs": [],
   "source": []
  },
  {
   "cell_type": "code",
   "execution_count": 17,
   "metadata": {},
   "outputs": [
    {
     "data": {
      "image/png": "[encoded data removed]",
      "text/plain": [
       "<Figure size 1080x720 with 1 Axes>"
      ]
     },
     "metadata": {
      "needs_background": "light"
     },
     "output_type": "display_data"
    }
   ],
   "source": [
    "## Principle Components Analysis\n",
    "# Set PCA parameters\n",
    "pca = PCA(n_components = 12, random_state = 10)\n",
    "\n",
    "# Fit and transform\n",
    "principalComponents = pca.fit(X_train_std)\n",
    "features = range(pca.n_components_)\n",
    "principalComponents_variance = principalComponents.explained_variance_ratio_\n",
    "\n",
    "# Plot the expected variance\n",
    "plt.figure(figsize = (15,10))\n",
    "sns.set(style = \"white\", rc = {\"lines.linewidth\": 3})\n",
    "ax = sns.barplot(x = np.array(features), y = principalComponents.explained_variance_ratio_, palette = \"bright\")\n",
    "plt.xlabel('PCA features', fontsize = 24)\n",
    "plt.ylabel('Variance %', fontsize = 24)\n",
    "plt.title('PCA Variance', fontsize = 24)\n",
    "plt.xticks(features, fontsize = 16)\n",
    "plt.yticks(fontsize = 16)\n",
    "\n",
    "# Function to add labels to bar chart\n",
    "def add_value_labels(ax, spacing=5):\n",
    "    \"\"\"Add labels to the end of each bar in a bar chart.\n",
    "\n",
    "    Arguments:\n",
    "        ax (matplotlib.axes.Axes): The matplotlib object containing the axes\n",
    "            of the plot to annotate.\n",
    "        spacing (int): The distance between the labels and the bars.\n",
    "    \"\"\"\n",
    "    # For each bar: Place a label\n",
    "    for rect in ax.patches:\n",
    "        # Get X and Y placement of label from rect.\n",
    "        y_value = rect.get_height()\n",
    "        x_value = rect.get_x() + rect.get_width() / 2\n",
    "\n",
    "        # Number of points between bar and label. Change to your liking.\n",
    "        space = spacing\n",
    "        # Vertical alignment for positive values\n",
    "        va = 'bottom'\n",
    "\n",
    "        # If value of bar is negative: Place label below bar\n",
    "        if y_value < 0:\n",
    "            # Invert space to place label below\n",
    "            space *= -1\n",
    "            # Vertically align label at top\n",
    "            va = 'top'\n",
    "\n",
    "        # Use Y value as label and format number with one decimal place\n",
    "        label = \"{:.3f}\".format(y_value)\n",
    "\n",
    "        # Create annotation\n",
    "        ax.annotate(\n",
    "            label,                      # Use `label` as label\n",
    "            (x_value, y_value),         # Place label at end of the bar\n",
    "            xytext=(0, space),          # Vertically shift label by `space`\n",
    "            textcoords=\"offset points\", # Interpret `xytext` as offset in points\n",
    "            ha='center',                # Horizontally center label\n",
    "            fontsize = '16',            # Font size\n",
    "            va=va)                      # Vertically align label differently for\n",
    "                                        # positive and negative values.\n",
    "\n",
    "# Call the function above\n",
    "add_value_labels(ax)\n",
    "\n",
    "plt.show()"
   ]
  },
  {
   "cell_type": "code",
   "execution_count": 18,
   "metadata": {},
   "outputs": [],
   "source": [
    "# Set PCA number of components\n",
    "pca = PCA(n_components = 12, random_state = 10)"
   ]
  },
  {
   "cell_type": "markdown",
   "metadata": {},
   "source": [
    "## Training"
   ]
  },
  {
   "cell_type": "code",
   "execution_count": 19,
   "metadata": {},
   "outputs": [],
   "source": [
    "def pca_Fit_Transform(df):\n",
    "    \"\"\"Function to fit and transform the dataframe and rename the PCA components\"\"\"\n",
    "    PCA_DF = pca.fit_transform(df)\n",
    "    PCA_DF = pd.DataFrame(PCA_DF)\n",
    "    \n",
    "    # Rename PCA column names\n",
    "    x = (np.array(PCA_DF.columns)+1)\n",
    "    columns = []\n",
    "    for i in x:\n",
    "        columns.append('PCA' + ' ' + str(i))\n",
    "    PCA_DF.columns = columns\n",
    "    \n",
    "    return PCA_DF"
   ]
  },
  {
   "cell_type": "markdown",
   "metadata": {},
   "source": [
    "We will split our dataset into a train and test to evaluate the performance of our models. It's important to do so _before_ any techniques meant to alleviate the class imbalance are used. This ensures that we don't leak information from the test set into the train set."
   ]
  },
  {
   "cell_type": "code",
   "execution_count": 20,
   "metadata": {},
   "outputs": [],
   "source": [
    "def pca_Transform(df):\n",
    "    \"\"\"Function to transform the dataframe and rename the PCA components\"\"\"\n",
    "    PCA_DF = pca.transform(df)\n",
    "    PCA_DF = pd.DataFrame(PCA_DF)\n",
    "    \n",
    "    # Rename PCA column names\n",
    "    x = (np.array(PCA_DF.columns)+1)\n",
    "    columns = []\n",
    "    for i in x:\n",
    "        columns.append('PCA' + ' ' + str(i))\n",
    "    PCA_DF.columns = columns\n",
    "    \n",
    "    return PCA_DF"
   ]
  },
  {
   "cell_type": "code",
   "execution_count": 21,
   "metadata": {},
   "outputs": [],
   "source": [
    "PCA_components_train = pca_Fit_Transform(X_train_std)\n",
    "PCA_components_dev = pca_Transform(X_dev_std)\n",
    "PCA_components_test = pca_Transform(X_test_std)\n",
    "\n",
    "o_PCA_components_train = pca_Fit_Transform(X_train_std)\n",
    "o_PCA_components_dev = pca_Transform(X_dev_std)\n",
    "o_PCA_components_test = pca_Transform(X_test_std)"
   ]
  },
  {
   "cell_type": "code",
   "execution_count": 22,
   "metadata": {},
   "outputs": [
    {
     "data": {
      "text/html": [
       "<div>\n",
       "<style scoped>\n",
       "    .dataframe tbody tr th:only-of-type {\n",
       "        vertical-align: middle;\n",
       "    }\n",
       "\n",
       "    .dataframe tbody tr th {\n",
       "        vertical-align: top;\n",
       "    }\n",
       "\n",
       "    .dataframe thead th {\n",
       "        text-align: right;\n",
       "    }\n",
       "</style>\n",
       "<table border=\"1\" class=\"dataframe\">\n",
       "  <thead>\n",
       "    <tr style=\"text-align: right;\">\n",
       "      <th></th>\n",
       "      <th>PCA 1</th>\n",
       "      <th>PCA 2</th>\n",
       "      <th>PCA 3</th>\n",
       "      <th>PCA 4</th>\n",
       "      <th>PCA 5</th>\n",
       "      <th>PCA 6</th>\n",
       "      <th>PCA 7</th>\n",
       "      <th>PCA 8</th>\n",
       "      <th>PCA 9</th>\n",
       "      <th>PCA 10</th>\n",
       "      <th>PCA 11</th>\n",
       "      <th>PCA 12</th>\n",
       "    </tr>\n",
       "  </thead>\n",
       "  <tbody>\n",
       "    <tr>\n",
       "      <th>0</th>\n",
       "      <td>0.029202</td>\n",
       "      <td>1.166994</td>\n",
       "      <td>0.692736</td>\n",
       "      <td>-1.038024</td>\n",
       "      <td>0.590053</td>\n",
       "      <td>0.566876</td>\n",
       "      <td>-0.256914</td>\n",
       "      <td>-0.786274</td>\n",
       "      <td>0.039994</td>\n",
       "      <td>0.503477</td>\n",
       "      <td>-0.060966</td>\n",
       "      <td>0.031919</td>\n",
       "    </tr>\n",
       "    <tr>\n",
       "      <th>1</th>\n",
       "      <td>-2.642665</td>\n",
       "      <td>1.188550</td>\n",
       "      <td>0.758204</td>\n",
       "      <td>-0.477206</td>\n",
       "      <td>1.776892</td>\n",
       "      <td>0.452127</td>\n",
       "      <td>0.626411</td>\n",
       "      <td>-0.160166</td>\n",
       "      <td>0.063098</td>\n",
       "      <td>-0.044402</td>\n",
       "      <td>-0.891144</td>\n",
       "      <td>-0.323134</td>\n",
       "    </tr>\n",
       "    <tr>\n",
       "      <th>2</th>\n",
       "      <td>-1.368235</td>\n",
       "      <td>-2.627419</td>\n",
       "      <td>3.393088</td>\n",
       "      <td>1.823258</td>\n",
       "      <td>2.886049</td>\n",
       "      <td>0.525289</td>\n",
       "      <td>0.012377</td>\n",
       "      <td>1.507577</td>\n",
       "      <td>1.338185</td>\n",
       "      <td>1.215196</td>\n",
       "      <td>-0.770324</td>\n",
       "      <td>1.583089</td>\n",
       "    </tr>\n",
       "    <tr>\n",
       "      <th>3</th>\n",
       "      <td>-1.872638</td>\n",
       "      <td>1.402459</td>\n",
       "      <td>1.158141</td>\n",
       "      <td>-1.063965</td>\n",
       "      <td>0.230473</td>\n",
       "      <td>0.746996</td>\n",
       "      <td>1.508065</td>\n",
       "      <td>1.242009</td>\n",
       "      <td>-0.080744</td>\n",
       "      <td>0.479792</td>\n",
       "      <td>-0.111172</td>\n",
       "      <td>-0.304696</td>\n",
       "    </tr>\n",
       "    <tr>\n",
       "      <th>4</th>\n",
       "      <td>-3.936463</td>\n",
       "      <td>-1.909842</td>\n",
       "      <td>0.257585</td>\n",
       "      <td>0.277624</td>\n",
       "      <td>0.067161</td>\n",
       "      <td>0.824738</td>\n",
       "      <td>0.480635</td>\n",
       "      <td>-0.474878</td>\n",
       "      <td>-0.083235</td>\n",
       "      <td>-0.370123</td>\n",
       "      <td>-0.155033</td>\n",
       "      <td>-0.371181</td>\n",
       "    </tr>\n",
       "    <tr>\n",
       "      <th>...</th>\n",
       "      <td>...</td>\n",
       "      <td>...</td>\n",
       "      <td>...</td>\n",
       "      <td>...</td>\n",
       "      <td>...</td>\n",
       "      <td>...</td>\n",
       "      <td>...</td>\n",
       "      <td>...</td>\n",
       "      <td>...</td>\n",
       "      <td>...</td>\n",
       "      <td>...</td>\n",
       "      <td>...</td>\n",
       "    </tr>\n",
       "    <tr>\n",
       "      <th>1776</th>\n",
       "      <td>-1.984405</td>\n",
       "      <td>0.588859</td>\n",
       "      <td>2.200471</td>\n",
       "      <td>0.700448</td>\n",
       "      <td>1.049490</td>\n",
       "      <td>-0.405484</td>\n",
       "      <td>0.903564</td>\n",
       "      <td>2.081145</td>\n",
       "      <td>-0.152914</td>\n",
       "      <td>-0.800287</td>\n",
       "      <td>0.061023</td>\n",
       "      <td>-1.191867</td>\n",
       "    </tr>\n",
       "    <tr>\n",
       "      <th>1777</th>\n",
       "      <td>-0.399044</td>\n",
       "      <td>0.838744</td>\n",
       "      <td>-3.293990</td>\n",
       "      <td>-0.929256</td>\n",
       "      <td>1.006438</td>\n",
       "      <td>0.893367</td>\n",
       "      <td>-0.703606</td>\n",
       "      <td>0.913536</td>\n",
       "      <td>0.430414</td>\n",
       "      <td>-2.191593</td>\n",
       "      <td>0.351660</td>\n",
       "      <td>0.051995</td>\n",
       "    </tr>\n",
       "    <tr>\n",
       "      <th>1778</th>\n",
       "      <td>-2.450265</td>\n",
       "      <td>1.300891</td>\n",
       "      <td>1.189687</td>\n",
       "      <td>-0.659707</td>\n",
       "      <td>-1.587333</td>\n",
       "      <td>0.314472</td>\n",
       "      <td>-1.994045</td>\n",
       "      <td>1.137869</td>\n",
       "      <td>-0.320263</td>\n",
       "      <td>0.267824</td>\n",
       "      <td>0.040433</td>\n",
       "      <td>-0.171652</td>\n",
       "    </tr>\n",
       "    <tr>\n",
       "      <th>1779</th>\n",
       "      <td>0.779984</td>\n",
       "      <td>-1.095394</td>\n",
       "      <td>0.183052</td>\n",
       "      <td>-2.564177</td>\n",
       "      <td>0.259306</td>\n",
       "      <td>0.318239</td>\n",
       "      <td>2.218078</td>\n",
       "      <td>-0.628337</td>\n",
       "      <td>-0.089439</td>\n",
       "      <td>1.813843</td>\n",
       "      <td>3.104438</td>\n",
       "      <td>-0.903595</td>\n",
       "    </tr>\n",
       "    <tr>\n",
       "      <th>1780</th>\n",
       "      <td>0.054956</td>\n",
       "      <td>3.844346</td>\n",
       "      <td>-0.288099</td>\n",
       "      <td>0.328844</td>\n",
       "      <td>-0.030832</td>\n",
       "      <td>-0.722277</td>\n",
       "      <td>0.315204</td>\n",
       "      <td>-2.483527</td>\n",
       "      <td>0.071185</td>\n",
       "      <td>0.147365</td>\n",
       "      <td>0.662330</td>\n",
       "      <td>0.457678</td>\n",
       "    </tr>\n",
       "  </tbody>\n",
       "</table>\n",
       "<p>1781 rows × 12 columns</p>\n",
       "</div>"
      ],
      "text/plain": [
       "         PCA 1     PCA 2     PCA 3     PCA 4     PCA 5     PCA 6     PCA 7  \\\n",
       "0     0.029202  1.166994  0.692736 -1.038024  0.590053  0.566876 -0.256914   \n",
       "1    -2.642665  1.188550  0.758204 -0.477206  1.776892  0.452127  0.626411   \n",
       "2    -1.368235 -2.627419  3.393088  1.823258  2.886049  0.525289  0.012377   \n",
       "3    -1.872638  1.402459  1.158141 -1.063965  0.230473  0.746996  1.508065   \n",
       "4    -3.936463 -1.909842  0.257585  0.277624  0.067161  0.824738  0.480635   \n",
       "...        ...       ...       ...       ...       ...       ...       ...   \n",
       "1776 -1.984405  0.588859  2.200471  0.700448  1.049490 -0.405484  0.903564   \n",
       "1777 -0.399044  0.838744 -3.293990 -0.929256  1.006438  0.893367 -0.703606   \n",
       "1778 -2.450265  1.300891  1.189687 -0.659707 -1.587333  0.314472 -1.994045   \n",
       "1779  0.779984 -1.095394  0.183052 -2.564177  0.259306  0.318239  2.218078   \n",
       "1780  0.054956  3.844346 -0.288099  0.328844 -0.030832 -0.722277  0.315204   \n",
       "\n",
       "         PCA 8     PCA 9    PCA 10    PCA 11    PCA 12  \n",
       "0    -0.786274  0.039994  0.503477 -0.060966  0.031919  \n",
       "1    -0.160166  0.063098 -0.044402 -0.891144 -0.323134  \n",
       "2     1.507577  1.338185  1.215196 -0.770324  1.583089  \n",
       "3     1.242009 -0.080744  0.479792 -0.111172 -0.304696  \n",
       "4    -0.474878 -0.083235 -0.370123 -0.155033 -0.371181  \n",
       "...        ...       ...       ...       ...       ...  \n",
       "1776  2.081145 -0.152914 -0.800287  0.061023 -1.191867  \n",
       "1777  0.913536  0.430414 -2.191593  0.351660  0.051995  \n",
       "1778  1.137869 -0.320263  0.267824  0.040433 -0.171652  \n",
       "1779 -0.628337 -0.089439  1.813843  3.104438 -0.903595  \n",
       "1780 -2.483527  0.071185  0.147365  0.662330  0.457678  \n",
       "\n",
       "[1781 rows x 12 columns]"
      ]
     },
     "execution_count": 22,
     "metadata": {},
     "output_type": "execute_result"
    }
   ],
   "source": [
    "o_PCA_components_test"
   ]
  },
  {
   "cell_type": "code",
   "execution_count": 23,
   "metadata": {},
   "outputs": [
    {
     "data": {
      "text/html": [
       "<div>\n",
       "<style scoped>\n",
       "    .dataframe tbody tr th:only-of-type {\n",
       "        vertical-align: middle;\n",
       "    }\n",
       "\n",
       "    .dataframe tbody tr th {\n",
       "        vertical-align: top;\n",
       "    }\n",
       "\n",
       "    .dataframe thead th {\n",
       "        text-align: right;\n",
       "    }\n",
       "</style>\n",
       "<table border=\"1\" class=\"dataframe\">\n",
       "  <thead>\n",
       "    <tr style=\"text-align: right;\">\n",
       "      <th></th>\n",
       "      <th>PCA 1</th>\n",
       "      <th>PCA 2</th>\n",
       "      <th>PCA 3</th>\n",
       "      <th>PCA 4</th>\n",
       "      <th>PCA 5</th>\n",
       "      <th>PCA 6</th>\n",
       "      <th>PCA 7</th>\n",
       "      <th>PCA 8</th>\n",
       "      <th>PCA 9</th>\n",
       "      <th>PCA 10</th>\n",
       "      <th>PCA 11</th>\n",
       "      <th>PCA 12</th>\n",
       "    </tr>\n",
       "  </thead>\n",
       "  <tbody>\n",
       "    <tr>\n",
       "      <th>0</th>\n",
       "      <td>-0.231919</td>\n",
       "      <td>-0.793814</td>\n",
       "      <td>-3.315366</td>\n",
       "      <td>-0.039491</td>\n",
       "      <td>0.511434</td>\n",
       "      <td>0.311731</td>\n",
       "      <td>-0.427144</td>\n",
       "      <td>-0.851506</td>\n",
       "      <td>1.508537</td>\n",
       "      <td>-0.726566</td>\n",
       "      <td>0.222791</td>\n",
       "      <td>-0.135525</td>\n",
       "    </tr>\n",
       "    <tr>\n",
       "      <th>1</th>\n",
       "      <td>-1.730653</td>\n",
       "      <td>0.182706</td>\n",
       "      <td>-0.667626</td>\n",
       "      <td>-0.341359</td>\n",
       "      <td>-0.884679</td>\n",
       "      <td>-0.685243</td>\n",
       "      <td>0.534786</td>\n",
       "      <td>0.138530</td>\n",
       "      <td>-0.753507</td>\n",
       "      <td>-0.084712</td>\n",
       "      <td>0.173296</td>\n",
       "      <td>0.682240</td>\n",
       "    </tr>\n",
       "    <tr>\n",
       "      <th>2</th>\n",
       "      <td>-4.161540</td>\n",
       "      <td>-0.125872</td>\n",
       "      <td>0.489058</td>\n",
       "      <td>-1.323240</td>\n",
       "      <td>-0.556812</td>\n",
       "      <td>0.023358</td>\n",
       "      <td>0.598413</td>\n",
       "      <td>-1.665713</td>\n",
       "      <td>-0.906954</td>\n",
       "      <td>-1.069552</td>\n",
       "      <td>0.017188</td>\n",
       "      <td>1.322915</td>\n",
       "    </tr>\n",
       "    <tr>\n",
       "      <th>3</th>\n",
       "      <td>1.296373</td>\n",
       "      <td>-1.984858</td>\n",
       "      <td>-0.056820</td>\n",
       "      <td>-2.100544</td>\n",
       "      <td>-0.702913</td>\n",
       "      <td>0.201367</td>\n",
       "      <td>-0.161280</td>\n",
       "      <td>2.312175</td>\n",
       "      <td>-0.068826</td>\n",
       "      <td>0.561699</td>\n",
       "      <td>-0.096820</td>\n",
       "      <td>-0.433989</td>\n",
       "    </tr>\n",
       "    <tr>\n",
       "      <th>4</th>\n",
       "      <td>-3.919657</td>\n",
       "      <td>-1.716910</td>\n",
       "      <td>2.071802</td>\n",
       "      <td>0.703630</td>\n",
       "      <td>0.901225</td>\n",
       "      <td>0.938944</td>\n",
       "      <td>0.643042</td>\n",
       "      <td>-0.129490</td>\n",
       "      <td>0.215138</td>\n",
       "      <td>0.015134</td>\n",
       "      <td>-0.436335</td>\n",
       "      <td>1.019538</td>\n",
       "    </tr>\n",
       "    <tr>\n",
       "      <th>...</th>\n",
       "      <td>...</td>\n",
       "      <td>...</td>\n",
       "      <td>...</td>\n",
       "      <td>...</td>\n",
       "      <td>...</td>\n",
       "      <td>...</td>\n",
       "      <td>...</td>\n",
       "      <td>...</td>\n",
       "      <td>...</td>\n",
       "      <td>...</td>\n",
       "      <td>...</td>\n",
       "      <td>...</td>\n",
       "    </tr>\n",
       "    <tr>\n",
       "      <th>20766</th>\n",
       "      <td>-3.200049</td>\n",
       "      <td>-2.818664</td>\n",
       "      <td>2.869018</td>\n",
       "      <td>-1.328333</td>\n",
       "      <td>-2.362243</td>\n",
       "      <td>0.119290</td>\n",
       "      <td>-2.276568</td>\n",
       "      <td>-0.210177</td>\n",
       "      <td>-0.872207</td>\n",
       "      <td>-0.571229</td>\n",
       "      <td>1.202293</td>\n",
       "      <td>-0.611482</td>\n",
       "    </tr>\n",
       "    <tr>\n",
       "      <th>20767</th>\n",
       "      <td>5.304774</td>\n",
       "      <td>5.024004</td>\n",
       "      <td>-1.020849</td>\n",
       "      <td>2.968125</td>\n",
       "      <td>0.022175</td>\n",
       "      <td>-0.462249</td>\n",
       "      <td>-3.401617</td>\n",
       "      <td>-0.402143</td>\n",
       "      <td>3.430401</td>\n",
       "      <td>-2.532722</td>\n",
       "      <td>-1.162031</td>\n",
       "      <td>0.215141</td>\n",
       "    </tr>\n",
       "    <tr>\n",
       "      <th>20768</th>\n",
       "      <td>-3.160915</td>\n",
       "      <td>0.481352</td>\n",
       "      <td>-1.324606</td>\n",
       "      <td>-0.661881</td>\n",
       "      <td>1.025713</td>\n",
       "      <td>1.135028</td>\n",
       "      <td>-0.056527</td>\n",
       "      <td>0.976859</td>\n",
       "      <td>0.140107</td>\n",
       "      <td>-0.275412</td>\n",
       "      <td>-0.770296</td>\n",
       "      <td>-0.852035</td>\n",
       "    </tr>\n",
       "    <tr>\n",
       "      <th>20769</th>\n",
       "      <td>-1.787401</td>\n",
       "      <td>-2.457450</td>\n",
       "      <td>-3.168436</td>\n",
       "      <td>0.064329</td>\n",
       "      <td>0.358442</td>\n",
       "      <td>-0.522107</td>\n",
       "      <td>0.882133</td>\n",
       "      <td>-0.174576</td>\n",
       "      <td>0.056538</td>\n",
       "      <td>0.071605</td>\n",
       "      <td>-0.976537</td>\n",
       "      <td>1.013609</td>\n",
       "    </tr>\n",
       "    <tr>\n",
       "      <th>20770</th>\n",
       "      <td>-2.938991</td>\n",
       "      <td>0.478954</td>\n",
       "      <td>1.075303</td>\n",
       "      <td>1.000018</td>\n",
       "      <td>-0.666279</td>\n",
       "      <td>0.374342</td>\n",
       "      <td>-1.445480</td>\n",
       "      <td>0.178520</td>\n",
       "      <td>0.029568</td>\n",
       "      <td>0.139819</td>\n",
       "      <td>0.337707</td>\n",
       "      <td>-1.081626</td>\n",
       "    </tr>\n",
       "  </tbody>\n",
       "</table>\n",
       "<p>20771 rows × 12 columns</p>\n",
       "</div>"
      ],
      "text/plain": [
       "          PCA 1     PCA 2     PCA 3     PCA 4     PCA 5     PCA 6     PCA 7  \\\n",
       "0     -0.231919 -0.793814 -3.315366 -0.039491  0.511434  0.311731 -0.427144   \n",
       "1     -1.730653  0.182706 -0.667626 -0.341359 -0.884679 -0.685243  0.534786   \n",
       "2     -4.161540 -0.125872  0.489058 -1.323240 -0.556812  0.023358  0.598413   \n",
       "3      1.296373 -1.984858 -0.056820 -2.100544 -0.702913  0.201367 -0.161280   \n",
       "4     -3.919657 -1.716910  2.071802  0.703630  0.901225  0.938944  0.643042   \n",
       "...         ...       ...       ...       ...       ...       ...       ...   \n",
       "20766 -3.200049 -2.818664  2.869018 -1.328333 -2.362243  0.119290 -2.276568   \n",
       "20767  5.304774  5.024004 -1.020849  2.968125  0.022175 -0.462249 -3.401617   \n",
       "20768 -3.160915  0.481352 -1.324606 -0.661881  1.025713  1.135028 -0.056527   \n",
       "20769 -1.787401 -2.457450 -3.168436  0.064329  0.358442 -0.522107  0.882133   \n",
       "20770 -2.938991  0.478954  1.075303  1.000018 -0.666279  0.374342 -1.445480   \n",
       "\n",
       "          PCA 8     PCA 9    PCA 10    PCA 11    PCA 12  \n",
       "0     -0.851506  1.508537 -0.726566  0.222791 -0.135525  \n",
       "1      0.138530 -0.753507 -0.084712  0.173296  0.682240  \n",
       "2     -1.665713 -0.906954 -1.069552  0.017188  1.322915  \n",
       "3      2.312175 -0.068826  0.561699 -0.096820 -0.433989  \n",
       "4     -0.129490  0.215138  0.015134 -0.436335  1.019538  \n",
       "...         ...       ...       ...       ...       ...  \n",
       "20766 -0.210177 -0.872207 -0.571229  1.202293 -0.611482  \n",
       "20767 -0.402143  3.430401 -2.532722 -1.162031  0.215141  \n",
       "20768  0.976859  0.140107 -0.275412 -0.770296 -0.852035  \n",
       "20769 -0.174576  0.056538  0.071605 -0.976537  1.013609  \n",
       "20770  0.178520  0.029568  0.139819  0.337707 -1.081626  \n",
       "\n",
       "[20771 rows x 12 columns]"
      ]
     },
     "execution_count": 23,
     "metadata": {},
     "output_type": "execute_result"
    }
   ],
   "source": [
    "o_PCA_components_train"
   ]
  },
  {
   "cell_type": "code",
   "execution_count": null,
   "metadata": {},
   "outputs": [],
   "source": []
  },
  {
   "cell_type": "markdown",
   "metadata": {},
   "source": [
    "## Unsupervised Learning"
   ]
  },
  {
   "cell_type": "markdown",
   "metadata": {},
   "source": [
    "In a fraud detection scenario, commonly we will have very few labeled examples, and it's possible that labeling fraud takes a very long time. We would like then to extract information from the unlabeled data we have at hand as well. _Anomaly detection_ is a form of unsupervised learning where we try to identify anomalous examples based solely on their feature characteristics. Random Cut Forest is a state-of-the-art anomaly detection algorithm that is both accurate and scalable. We will train such a model on our training data and evaluate its performance on our test set."
   ]
  },
  {
   "cell_type": "code",
   "execution_count": 26,
   "metadata": {},
   "outputs": [],
   "source": [
    "session = sagemaker.Session()\n",
    "bucket = config.MODEL_DATA_S3_BUCKET\n",
    "prefix = 'fraud-classifier-rcf'"
   ]
  },
  {
   "cell_type": "code",
   "execution_count": 27,
   "metadata": {},
   "outputs": [
    {
     "name": "stdout",
     "output_type": "stream",
     "text": [
      "Training input/output will be stored in: s3://sagemaker-fraud-machine-learning-modeldatabucket-14xyy5p17ag8g/fraud-classifier-rcf\n"
     ]
    }
   ],
   "source": [
    "# check if the bucket exists\n",
    "try:\n",
    "    boto3.Session().client('s3').head_bucket(Bucket=bucket)\n",
    "except botocore.exceptions.ParamValidationError as e:\n",
    "    print('Hey! You either forgot to specify your S3 bucket'\n",
    "          ' or you gave your bucket an invalid name!')\n",
    "except botocore.exceptions.ClientError as e:\n",
    "    if e.response['Error']['Code'] == '403':\n",
    "        print(\"Hey! You don't have permission to access the bucket, {}.\".format(bucket))\n",
    "    elif e.response['Error']['Code'] == '404':\n",
    "        print(\"Hey! Your bucket, {}, doesn't exist!\".format(bucket))\n",
    "    else:\n",
    "        raise\n",
    "else:\n",
    "    print('Training input/output will be stored in: s3://{}/{}'.format(bucket, prefix))"
   ]
  },
  {
   "cell_type": "code",
   "execution_count": 28,
   "metadata": {},
   "outputs": [],
   "source": [
    "from sagemaker import RandomCutForest\n",
    "\n",
    "# specify general training job information\n",
    "rcf = RandomCutForest(role=get_execution_role(),\n",
    "                      train_instance_count=1,\n",
    "                      train_instance_type='ml.c4.xlarge',\n",
    "                      data_location='s3://{}/{}/'.format(bucket, prefix),\n",
    "                      output_path='s3://{}/{}/output'.format(bucket, prefix),\n",
    "                      num_samples_per_tree=512,\n",
    "                      num_trees=50)"
   ]
  },
  {
   "cell_type": "markdown",
   "metadata": {
    "pycharm": {
     "name": "#%% md\n"
    }
   },
   "source": [
    "Now we are ready to fit the model. The below cell should take around 5 minutes to complete."
   ]
  },
  {
   "cell_type": "code",
   "execution_count": 29,
   "metadata": {
    "pycharm": {
     "name": "#%%\n"
    }
   },
   "outputs": [
    {
     "name": "stderr",
     "output_type": "stream",
     "text": [
      "'get_image_uri' method will be deprecated in favor of 'ImageURIProvider' class in SageMaker Python SDK v2.\n",
      "'s3_input' class will be renamed to 'TrainingInput' in SageMaker Python SDK v2.\n",
      "'get_image_uri' method will be deprecated in favor of 'ImageURIProvider' class in SageMaker Python SDK v2.\n"
     ]
    },
    {
     "name": "stdout",
     "output_type": "stream",
     "text": [
      "2020-09-21 20:37:18 Starting - Starting the training job...\n",
      "2020-09-21 20:37:21 Starting - Launching requested ML instances.........\n",
      "2020-09-21 20:38:55 Starting - Preparing the instances for training...\n",
      "2020-09-21 20:39:49 Downloading - Downloading input data......\n",
      "2020-09-21 20:40:32 Training - Downloading the training image.\u001b[34mDocker entrypoint called with argument(s): train\u001b[0m\n",
      "\u001b[34mRunning default environment configuration script\u001b[0m\n",
      "\u001b[34m/opt/amazon/lib/python2.7/site-packages/scipy/_lib/_numpy_compat.py:10: DeprecationWarning: Importing from numpy.testing.nosetester is deprecated, import from numpy.testing instead.\n",
      "  from numpy.testing.nosetester import import_nose\u001b[0m\n",
      "\u001b[34m/opt/amazon/lib/python2.7/site-packages/scipy/stats/morestats.py:12: DeprecationWarning: Importing from numpy.testing.decorators is deprecated, import from numpy.testing instead.\n",
      "  from numpy.testing.decorators import setastest\u001b[0m\n",
      "\u001b[34m[09/21/2020 20:40:56 INFO 140509781178176] Reading default configuration from /opt/amazon/lib/python2.7/site-packages/algorithm/resources/default-conf.json: {u'_ftp_port': 8999, u'num_samples_per_tree': 256, u'_tuning_objective_metric': u'', u'_num_gpus': u'auto', u'_log_level': u'info', u'_kvstore': u'dist_async', u'force_dense': u'true', u'epochs': 1, u'num_trees': 100, u'eval_metrics': [u'accuracy', u'precision_recall_fscore'], u'_num_kv_servers': u'auto', u'mini_batch_size': 1000}\u001b[0m\n",
      "\u001b[34m[09/21/2020 20:40:56 INFO 140509781178176] Merging with provided configuration from /opt/ml/input/config/hyperparameters.json: {u'mini_batch_size': u'1000', u'feature_dim': u'12', u'num_samples_per_tree': u'512', u'num_trees': u'50'}\u001b[0m\n",
      "\u001b[34m[09/21/2020 20:40:56 INFO 140509781178176] Final configuration: {u'_ftp_port': 8999, u'num_samples_per_tree': u'512', u'_tuning_objective_metric': u'', u'_num_gpus': u'auto', u'_log_level': u'info', u'_kvstore': u'dist_async', u'force_dense': u'true', u'epochs': 1, u'feature_dim': u'12', u'num_trees': u'50', u'eval_metrics': [u'accuracy', u'precision_recall_fscore'], u'_num_kv_servers': u'auto', u'mini_batch_size': u'1000'}\u001b[0m\n",
      "\u001b[34m[09/21/2020 20:40:56 WARNING 140509781178176] Loggers have already been setup.\u001b[0m\n",
      "\u001b[34m[09/21/2020 20:40:56 INFO 140509781178176] Launching parameter server for role scheduler\u001b[0m\n",
      "\u001b[34m[09/21/2020 20:40:56 INFO 140509781178176] {'ECS_CONTAINER_METADATA_URI': 'http://169.254.170.2/v3/6c15fbef-3450-4471-bdeb-d10ce3d72fc8', 'ECS_CONTAINER_METADATA_URI_V4': 'http://169.254.170.2/v4/6c15fbef-3450-4471-bdeb-d10ce3d72fc8', 'PROTOCOL_BUFFERS_PYTHON_IMPLEMENTATION_VERSION': '2', 'PATH': '/opt/amazon/bin:/usr/local/nvidia/bin:/usr/local/sbin:/usr/local/bin:/usr/sbin:/usr/bin:/sbin:/bin:/opt/amazon/bin:/opt/amazon/bin', 'SAGEMAKER_HTTP_PORT': '8080', 'HOME': '/root', 'PYTHONUNBUFFERED': 'TRUE', 'CANONICAL_ENVROOT': '/opt/amazon', 'LD_LIBRARY_PATH': '/opt/amazon/lib/python2.7/site-packages/cv2/../../../../lib:/usr/local/nvidia/lib64:/opt/amazon/lib', 'MXNET_KVSTORE_BIGARRAY_BOUND': '400000000', 'LANG': 'en_US.utf8', 'DMLC_INTERFACE': 'eth0', 'SHLVL': '1', 'AWS_REGION': 'us-east-1', 'SAGEMAKER_METRICS_DIRECTORY': '/opt/ml/output/metrics/sagemaker', 'NVIDIA_VISIBLE_DEVICES': 'void', 'TRAINING_JOB_NAME': 'randomcutforest-2020-09-21-20-37-17-999', 'PROTOCOL_BUFFERS_PYTHON_IMPLEMENTATION': 'cpp', 'ENVROOT': '/opt/amazon', 'SAGEMAKER_DATA_PATH': '/opt/ml', 'NVIDIA_DRIVER_CAPABILITIES': 'compute,utility', 'NVIDIA_REQUIRE_CUDA': 'cuda>=9.0', 'OMP_NUM_THREADS': '2', 'HOSTNAME': 'ip-10-0-197-249.ec2.internal', 'AWS_CONTAINER_CREDENTIALS_RELATIVE_URI': '/v2/credentials/ac720ba2-c3e6-4d0f-b7b9-ddf4d181d08e', 'PWD': '/', 'TRAINING_JOB_ARN': 'arn:aws:sagemaker:us-east-1:508172423638:training-job/randomcutforest-2020-09-21-20-37-17-999', 'AWS_EXECUTION_ENV': 'AWS_ECS_EC2'}\u001b[0m\n",
      "\u001b[34m[09/21/2020 20:40:56 INFO 140509781178176] envs={'ECS_CONTAINER_METADATA_URI': 'http://169.254.170.2/v3/6c15fbef-3450-4471-bdeb-d10ce3d72fc8', 'ECS_CONTAINER_METADATA_URI_V4': 'http://169.254.170.2/v4/6c15fbef-3450-4471-bdeb-d10ce3d72fc8', 'PROTOCOL_BUFFERS_PYTHON_IMPLEMENTATION_VERSION': '2', 'DMLC_NUM_WORKER': '1', 'DMLC_PS_ROOT_PORT': '9000', 'PATH': '/opt/amazon/bin:/usr/local/nvidia/bin:/usr/local/sbin:/usr/local/bin:/usr/sbin:/usr/bin:/sbin:/bin:/opt/amazon/bin:/opt/amazon/bin', 'SAGEMAKER_HTTP_PORT': '8080', 'HOME': '/root', 'PYTHONUNBUFFERED': 'TRUE', 'CANONICAL_ENVROOT': '/opt/amazon', 'LD_LIBRARY_PATH': '/opt/amazon/lib/python2.7/site-packages/cv2/../../../../lib:/usr/local/nvidia/lib64:/opt/amazon/lib', 'MXNET_KVSTORE_BIGARRAY_BOUND': '400000000', 'LANG': 'en_US.utf8', 'DMLC_INTERFACE': 'eth0', 'SHLVL': '1', 'DMLC_PS_ROOT_URI': '10.0.197.249', 'AWS_REGION': 'us-east-1', 'SAGEMAKER_METRICS_DIRECTORY': '/opt/ml/output/metrics/sagemaker', 'NVIDIA_VISIBLE_DEVICES': 'void', 'TRAINING_JOB_NAME': 'randomcutforest-2020-09-21-20-37-17-999', 'PROTOCOL_BUFFERS_PYTHON_IMPLEMENTATION': 'cpp', 'ENVROOT': '/opt/amazon', 'SAGEMAKER_DATA_PATH': '/opt/ml', 'NVIDIA_DRIVER_CAPABILITIES': 'compute,utility', 'NVIDIA_REQUIRE_CUDA': 'cuda>=9.0', 'OMP_NUM_THREADS': '2', 'HOSTNAME': 'ip-10-0-197-249.ec2.internal', 'AWS_CONTAINER_CREDENTIALS_RELATIVE_URI': '/v2/credentials/ac720ba2-c3e6-4d0f-b7b9-ddf4d181d08e', 'DMLC_ROLE': 'scheduler', 'PWD': '/', 'DMLC_NUM_SERVER': '1', 'TRAINING_JOB_ARN': 'arn:aws:sagemaker:us-east-1:508172423638:training-job/randomcutforest-2020-09-21-20-37-17-999', 'AWS_EXECUTION_ENV': 'AWS_ECS_EC2'}\u001b[0m\n",
      "\u001b[34m[09/21/2020 20:40:56 INFO 140509781178176] Launching parameter server for role server\u001b[0m\n",
      "\u001b[34m[09/21/2020 20:40:56 INFO 140509781178176] {'ECS_CONTAINER_METADATA_URI': 'http://169.254.170.2/v3/6c15fbef-3450-4471-bdeb-d10ce3d72fc8', 'ECS_CONTAINER_METADATA_URI_V4': 'http://169.254.170.2/v4/6c15fbef-3450-4471-bdeb-d10ce3d72fc8', 'PROTOCOL_BUFFERS_PYTHON_IMPLEMENTATION_VERSION': '2', 'PATH': '/opt/amazon/bin:/usr/local/nvidia/bin:/usr/local/sbin:/usr/local/bin:/usr/sbin:/usr/bin:/sbin:/bin:/opt/amazon/bin:/opt/amazon/bin', 'SAGEMAKER_HTTP_PORT': '8080', 'HOME': '/root', 'PYTHONUNBUFFERED': 'TRUE', 'CANONICAL_ENVROOT': '/opt/amazon', 'LD_LIBRARY_PATH': '/opt/amazon/lib/python2.7/site-packages/cv2/../../../../lib:/usr/local/nvidia/lib64:/opt/amazon/lib', 'MXNET_KVSTORE_BIGARRAY_BOUND': '400000000', 'LANG': 'en_US.utf8', 'DMLC_INTERFACE': 'eth0', 'SHLVL': '1', 'AWS_REGION': 'us-east-1', 'SAGEMAKER_METRICS_DIRECTORY': '/opt/ml/output/metrics/sagemaker', 'NVIDIA_VISIBLE_DEVICES': 'void', 'TRAINING_JOB_NAME': 'randomcutforest-2020-09-21-20-37-17-999', 'PROTOCOL_BUFFERS_PYTHON_IMPLEMENTATION': 'cpp', 'ENVROOT': '/opt/amazon', 'SAGEMAKER_DATA_PATH': '/opt/ml', 'NVIDIA_DRIVER_CAPABILITIES': 'compute,utility', 'NVIDIA_REQUIRE_CUDA': 'cuda>=9.0', 'OMP_NUM_THREADS': '2', 'HOSTNAME': 'ip-10-0-197-249.ec2.internal', 'AWS_CONTAINER_CREDENTIALS_RELATIVE_URI': '/v2/credentials/ac720ba2-c3e6-4d0f-b7b9-ddf4d181d08e', 'PWD': '/', 'TRAINING_JOB_ARN': 'arn:aws:sagemaker:us-east-1:508172423638:training-job/randomcutforest-2020-09-21-20-37-17-999', 'AWS_EXECUTION_ENV': 'AWS_ECS_EC2'}\u001b[0m\n",
      "\u001b[34m[09/21/2020 20:40:56 INFO 140509781178176] envs={'ECS_CONTAINER_METADATA_URI': 'http://169.254.170.2/v3/6c15fbef-3450-4471-bdeb-d10ce3d72fc8', 'ECS_CONTAINER_METADATA_URI_V4': 'http://169.254.170.2/v4/6c15fbef-3450-4471-bdeb-d10ce3d72fc8', 'PROTOCOL_BUFFERS_PYTHON_IMPLEMENTATION_VERSION': '2', 'DMLC_NUM_WORKER': '1', 'DMLC_PS_ROOT_PORT': '9000', 'PATH': '/opt/amazon/bin:/usr/local/nvidia/bin:/usr/local/sbin:/usr/local/bin:/usr/sbin:/usr/bin:/sbin:/bin:/opt/amazon/bin:/opt/amazon/bin', 'SAGEMAKER_HTTP_PORT': '8080', 'HOME': '/root', 'PYTHONUNBUFFERED': 'TRUE', 'CANONICAL_ENVROOT': '/opt/amazon', 'LD_LIBRARY_PATH': '/opt/amazon/lib/python2.7/site-packages/cv2/../../../../lib:/usr/local/nvidia/lib64:/opt/amazon/lib', 'MXNET_KVSTORE_BIGARRAY_BOUND': '400000000', 'LANG': 'en_US.utf8', 'DMLC_INTERFACE': 'eth0', 'SHLVL': '1', 'DMLC_PS_ROOT_URI': '10.0.197.249', 'AWS_REGION': 'us-east-1', 'SAGEMAKER_METRICS_DIRECTORY': '/opt/ml/output/metrics/sagemaker', 'NVIDIA_VISIBLE_DEVICES': 'void', 'TRAINING_JOB_NAME': 'randomcutforest-2020-09-21-20-37-17-999', 'PROTOCOL_BUFFERS_PYTHON_IMPLEMENTATION': 'cpp', 'ENVROOT': '/opt/amazon', 'SAGEMAKER_DATA_PATH': '/opt/ml', 'NVIDIA_DRIVER_CAPABILITIES': 'compute,utility', 'NVIDIA_REQUIRE_CUDA': 'cuda>=9.0', 'OMP_NUM_THREADS': '2', 'HOSTNAME': 'ip-10-0-197-249.ec2.internal', 'AWS_CONTAINER_CREDENTIALS_RELATIVE_URI': '/v2/credentials/ac720ba2-c3e6-4d0f-b7b9-ddf4d181d08e', 'DMLC_ROLE': 'server', 'PWD': '/', 'DMLC_NUM_SERVER': '1', 'TRAINING_JOB_ARN': 'arn:aws:sagemaker:us-east-1:508172423638:training-job/randomcutforest-2020-09-21-20-37-17-999', 'AWS_EXECUTION_ENV': 'AWS_ECS_EC2'}\u001b[0m\n",
      "\u001b[34m[09/21/2020 20:40:56 INFO 140509781178176] Environment: {'ECS_CONTAINER_METADATA_URI': 'http://169.254.170.2/v3/6c15fbef-3450-4471-bdeb-d10ce3d72fc8', 'ECS_CONTAINER_METADATA_URI_V4': 'http://169.254.170.2/v4/6c15fbef-3450-4471-bdeb-d10ce3d72fc8', 'PROTOCOL_BUFFERS_PYTHON_IMPLEMENTATION_VERSION': '2', 'DMLC_PS_ROOT_PORT': '9000', 'DMLC_NUM_WORKER': '1', 'SAGEMAKER_HTTP_PORT': '8080', 'PATH': '/opt/amazon/bin:/usr/local/nvidia/bin:/usr/local/sbin:/usr/local/bin:/usr/sbin:/usr/bin:/sbin:/bin:/opt/amazon/bin:/opt/amazon/bin', 'PYTHONUNBUFFERED': 'TRUE', 'CANONICAL_ENVROOT': '/opt/amazon', 'LD_LIBRARY_PATH': '/opt/amazon/lib/python2.7/site-packages/cv2/../../../../lib:/usr/local/nvidia/lib64:/opt/amazon/lib', 'MXNET_KVSTORE_BIGARRAY_BOUND': '400000000', 'LANG': 'en_US.utf8', 'DMLC_INTERFACE': 'eth0', 'SHLVL': '1', 'DMLC_PS_ROOT_URI': '10.0.197.249', 'AWS_REGION': 'us-east-1', 'SAGEMAKER_METRICS_DIRECTORY': '/opt/ml/output/metrics/sagemaker', 'NVIDIA_VISIBLE_DEVICES': 'void', 'TRAINING_JOB_NAME': 'randomcutforest-2020-09-21-20-37-17-999', 'HOME': '/root', 'PROTOCOL_BUFFERS_PYTHON_IMPLEMENTATION': 'cpp', 'ENVROOT': '/opt/amazon', 'SAGEMAKER_DATA_PATH': '/opt/ml', 'NVIDIA_DRIVER_CAPABILITIES': 'compute,utility', 'NVIDIA_REQUIRE_CUDA': 'cuda>=9.0', 'OMP_NUM_THREADS': '2', 'HOSTNAME': 'ip-10-0-197-249.ec2.internal', 'AWS_CONTAINER_CREDENTIALS_RELATIVE_URI': '/v2/credentials/ac720ba2-c3e6-4d0f-b7b9-ddf4d181d08e', 'DMLC_ROLE': 'worker', 'PWD': '/', 'DMLC_NUM_SERVER': '1', 'TRAINING_JOB_ARN': 'arn:aws:sagemaker:us-east-1:508172423638:training-job/randomcutforest-2020-09-21-20-37-17-999', 'AWS_EXECUTION_ENV': 'AWS_ECS_EC2'}\u001b[0m\n",
      "\u001b[34mProcess 32 is a shell:scheduler.\u001b[0m\n",
      "\u001b[34mProcess 33 is a shell:server.\u001b[0m\n",
      "\u001b[34mProcess 1 is a worker.\u001b[0m\n",
      "\u001b[34m[09/21/2020 20:40:56 INFO 140509781178176] Using default worker.\u001b[0m\n",
      "\u001b[34m[09/21/2020 20:40:56 INFO 140509781178176] Loaded iterator creator application/x-recordio-protobuf for content type ('application/x-recordio-protobuf', '1.0')\u001b[0m\n",
      "\u001b[34m[09/21/2020 20:40:56 INFO 140509781178176] Checkpoint loading and saving are disabled.\u001b[0m\n",
      "\u001b[34m[09/21/2020 20:40:56 INFO 140509781178176] Verifying hyperparamemters...\u001b[0m\n",
      "\u001b[34m[09/21/2020 20:40:56 INFO 140509781178176] Hyperparameters are correct.\u001b[0m\n",
      "\u001b[34m[09/21/2020 20:40:56 INFO 140509781178176] Validating that feature_dim agrees with dimensions in training data...\u001b[0m\n",
      "\u001b[34m[09/21/2020 20:40:56 INFO 140509781178176] feature_dim is correct.\u001b[0m\n",
      "\u001b[34m[09/21/2020 20:40:56 INFO 140509781178176] Validating memory limits...\u001b[0m\n",
      "\u001b[34m[09/21/2020 20:40:56 INFO 140509781178176] Available memory in bytes: 6340333568\u001b[0m\n",
      "\u001b[34m[09/21/2020 20:40:56 INFO 140509781178176] Estimated sample size in bytes: 4915200\u001b[0m\n",
      "\u001b[34m[09/21/2020 20:40:56 INFO 140509781178176] Estimated memory needed to build the forest in bytes: 12288000\u001b[0m\n",
      "\u001b[34m[09/21/2020 20:40:56 INFO 140509781178176] Memory limits validated.\u001b[0m\n",
      "\u001b[34m[09/21/2020 20:40:56 INFO 140509781178176] Starting cluster sharing facilities...\u001b[0m\n",
      "\u001b[34m[09/21/2020 20:40:56 INFO 140509781178176] Create Store: dist_async\u001b[0m\n",
      "\u001b[34m[I 20-09-21 20:40:56] >>> starting FTP server on 0.0.0.0:8999, pid=1 <<<\u001b[0m\n",
      "\u001b[34m[09/21/2020 20:40:56 INFO 140508303189760] >>> starting FTP server on 0.0.0.0:8999, pid=1 <<<\u001b[0m\n",
      "\u001b[34m[I 20-09-21 20:40:56] poller: <class 'pyftpdlib.ioloop.Epoll'>\u001b[0m\n",
      "\u001b[34m[09/21/2020 20:40:56 INFO 140508303189760] poller: <class 'pyftpdlib.ioloop.Epoll'>\u001b[0m\n",
      "\u001b[34m[I 20-09-21 20:40:56] masquerade (NAT) address: None\u001b[0m\n",
      "\u001b[34m[I 20-09-21 20:40:56] passive ports: None\u001b[0m\n",
      "\u001b[34m[09/21/2020 20:40:56 INFO 140508303189760] masquerade (NAT) address: None\u001b[0m\n",
      "\u001b[34m[09/21/2020 20:40:56 INFO 140508303189760] passive ports: None\u001b[0m\n",
      "\u001b[34m[09/21/2020 20:40:56 INFO 140508303189760] use sendfile(2): False\u001b[0m\n",
      "\u001b[34m[I 20-09-21 20:40:56] use sendfile(2): False\u001b[0m\n",
      "\u001b[34m[09/21/2020 20:40:57 INFO 140509781178176] Cluster sharing facilities started.\u001b[0m\n",
      "\u001b[34m[09/21/2020 20:40:57 INFO 140509781178176] Verifying all workers are accessible...\u001b[0m\n",
      "\u001b[34m[09/21/2020 20:40:57 INFO 140509781178176] All workers accessible.\u001b[0m\n",
      "\u001b[34m[09/21/2020 20:40:57 INFO 140509781178176] Initializing Sampler...\u001b[0m\n",
      "\u001b[34m[09/21/2020 20:40:57 INFO 140509781178176] Sampler correctly initialized.\u001b[0m\n",
      "\u001b[34m#metrics {\"Metrics\": {\"initialize.time\": {\"count\": 1, \"max\": 679.4908046722412, \"sum\": 679.4908046722412, \"min\": 679.4908046722412}}, \"EndTime\": 1600720857.485575, \"Dimensions\": {\"Host\": \"algo-1\", \"Operation\": \"training\", \"Algorithm\": \"RandomCutForest\"}, \"StartTime\": 1600720856.789787}\n",
      "\u001b[0m\n",
      "\u001b[34m#metrics {\"Metrics\": {\"Max Batches Seen Between Resets\": {\"count\": 1, \"max\": 0, \"sum\": 0.0, \"min\": 0}, \"Number of Batches Since Last Reset\": {\"count\": 1, \"max\": 0, \"sum\": 0.0, \"min\": 0}, \"Number of Records Since Last Reset\": {\"count\": 1, \"max\": 0, \"sum\": 0.0, \"min\": 0}, \"Total Batches Seen\": {\"count\": 1, \"max\": 0, \"sum\": 0.0, \"min\": 0}, \"Total Records Seen\": {\"count\": 1, \"max\": 0, \"sum\": 0.0, \"min\": 0}, \"Max Records Seen Between Resets\": {\"count\": 1, \"max\": 0, \"sum\": 0.0, \"min\": 0}, \"Reset Count\": {\"count\": 1, \"max\": 0, \"sum\": 0.0, \"min\": 0}}, \"EndTime\": 1600720857.485778, \"Dimensions\": {\"Host\": \"algo-1\", \"Meta\": \"init_train_data_iter\", \"Operation\": \"training\", \"Algorithm\": \"RandomCutForest\"}, \"StartTime\": 1600720857.485733}\n",
      "\u001b[0m\n",
      "\u001b[34m[2020-09-21 20:40:57.486] [tensorio] [info] epoch_stats={\"data_pipeline\": \"/opt/ml/input/data/train\", \"epoch\": 0, \"duration\": 695, \"num_examples\": 1, \"num_bytes\": 120000}\u001b[0m\n",
      "\u001b[34m[09/21/2020 20:40:57 INFO 140509781178176] Sampling training data...\u001b[0m\n",
      "\u001b[34m[2020-09-21 20:40:57.521] [tensorio] [info] epoch_stats={\"data_pipeline\": \"/opt/ml/input/data/train\", \"epoch\": 1, \"duration\": 34, \"num_examples\": 21, \"num_bytes\": 2492520}\u001b[0m\n",
      "\u001b[34m[09/21/2020 20:40:57 INFO 140509781178176] Sampling training data completed.\u001b[0m\n",
      "\u001b[34m#metrics {\"Metrics\": {\"epochs\": {\"count\": 1, \"max\": 1, \"sum\": 1.0, \"min\": 1}, \"update.time\": {\"count\": 1, \"max\": 44.55399513244629, \"sum\": 44.55399513244629, \"min\": 44.55399513244629}}, \"EndTime\": 1600720857.530758, \"Dimensions\": {\"Host\": \"algo-1\", \"Operation\": \"training\", \"Algorithm\": \"RandomCutForest\"}, \"StartTime\": 1600720857.485666}\n",
      "\u001b[0m\n",
      "\u001b[34m[09/21/2020 20:40:57 INFO 140509781178176] Early stop condition met. Stopping training.\u001b[0m\n",
      "\u001b[34m[09/21/2020 20:40:57 INFO 140509781178176] #progress_metric: host=algo-1, completed 100 % epochs\u001b[0m\n",
      "\u001b[34m#metrics {\"Metrics\": {\"Max Batches Seen Between Resets\": {\"count\": 1, \"max\": 21, \"sum\": 21.0, \"min\": 21}, \"Number of Batches Since Last Reset\": {\"count\": 1, \"max\": 21, \"sum\": 21.0, \"min\": 21}, \"Number of Records Since Last Reset\": {\"count\": 1, \"max\": 20771, \"sum\": 20771.0, \"min\": 20771}, \"Total Batches Seen\": {\"count\": 1, \"max\": 21, \"sum\": 21.0, \"min\": 21}, \"Total Records Seen\": {\"count\": 1, \"max\": 20771, \"sum\": 20771.0, \"min\": 20771}, \"Max Records Seen Between Resets\": {\"count\": 1, \"max\": 20771, \"sum\": 20771.0, \"min\": 20771}, \"Reset Count\": {\"count\": 1, \"max\": 1, \"sum\": 1.0, \"min\": 1}}, \"EndTime\": 1600720857.531126, \"Dimensions\": {\"Host\": \"algo-1\", \"Meta\": \"training_data_iter\", \"Operation\": \"training\", \"Algorithm\": \"RandomCutForest\", \"epoch\": 0}, \"StartTime\": 1600720857.486164}\n",
      "\u001b[0m\n",
      "\u001b[34m[09/21/2020 20:40:57 INFO 140509781178176] #throughput_metric: host=algo-1, train throughput=460522.943629 records/second\u001b[0m\n",
      "\u001b[34m[09/21/2020 20:40:57 INFO 140509781178176] Master node: building Random Cut Forest...\u001b[0m\n",
      "\u001b[34m[09/21/2020 20:40:57 INFO 140509781178176] Gathering samples...\u001b[0m\n",
      "\u001b[34m[09/21/2020 20:40:57 INFO 140509781178176] 20771 samples gathered\u001b[0m\n",
      "\u001b[34m[09/21/2020 20:40:57 INFO 140509781178176] Building Random Cut Forest...\u001b[0m\n",
      "\u001b[34m[09/21/2020 20:40:57 INFO 140509781178176] Random Cut Forest built: \n",
      "\u001b[0m\n",
      "\u001b[34mForestInfo{num_trees: 50, num_samples_in_forest: 20750, num_samples_per_tree: 415, sample_dim: 12, shingle_size: 1, trees_num_nodes: [829, 829, 829, 829, 829, 829, 829, 829, 829, 829, 829, 829, 829, 829, 829, 829, 829, 829, 829, 829, 829, 829, 829, 829, 829, 829, 829, 829, 829, 829, 829, 829, 829, 829, 829, 829, 829, 829, 829, 829, 829, 829, 829, 829, 829, 829, 829, 829, 829, 829, ], trees_depth: [29, 27, 28, 27, 38, 23, 33, 32, 32, 30, 25, 22, 33, 26, 29, 32, 31, 22, 35, 27, 27, 25, 33, 24, 29, 26, 25, 23, 29, 29, 25, 31, 27, 24, 29, 26, 29, 28, 25, 27, 30, 33, 30, 30, 35, 37, 25, 38, 37, 29, ], max_num_nodes: 829, min_num_nodes: 829, avg_num_nodes: 829, max_tree_depth: 38, min_tree_depth: 22, avg_tree_depth: 28, mem_size: 11606448}\u001b[0m\n",
      "\u001b[34m#metrics {\"Metrics\": {\"finalize.time\": {\"count\": 1, \"max\": 53.24196815490723, \"sum\": 53.24196815490723, \"min\": 53.24196815490723}, \"model.bytes\": {\"count\": 1, \"max\": 11606448, \"sum\": 11606448.0, \"min\": 11606448}, \"fit_model.time\": {\"count\": 1, \"max\": 31.520843505859375, \"sum\": 31.520843505859375, \"min\": 31.520843505859375}}, \"EndTime\": 1600720857.584668, \"Dimensions\": {\"Host\": \"algo-1\", \"Operation\": \"training\", \"Algorithm\": \"RandomCutForest\"}, \"StartTime\": 1600720857.530839}\n",
      "\u001b[0m\n",
      "\u001b[34m[09/21/2020 20:40:57 INFO 140509781178176] Master node: Serializing the RandomCutForest model\u001b[0m\n",
      "\u001b[34m#metrics {\"Metrics\": {\"serialize_model.time\": {\"count\": 1, \"max\": 245.73612213134766, \"sum\": 245.73612213134766, \"min\": 245.73612213134766}}, \"EndTime\": 1600720857.830517, \"Dimensions\": {\"Host\": \"algo-1\", \"Operation\": \"training\", \"Algorithm\": \"RandomCutForest\"}, \"StartTime\": 1600720857.584739}\n",
      "\u001b[0m\n",
      "\u001b[34m[09/21/2020 20:40:57 INFO 140509781178176] Test data is not provided.\u001b[0m\n",
      "\u001b[34m[I 20-09-21 20:40:57] >>> shutting down FTP server (0 active fds) <<<\u001b[0m\n",
      "\u001b[34m[09/21/2020 20:40:57 INFO 140508303189760] >>> shutting down FTP server (0 active fds) <<<\u001b[0m\n",
      "\u001b[34m#metrics {\"Metrics\": {\"totaltime\": {\"count\": 1, \"max\": 1856.3458919525146, \"sum\": 1856.3458919525146, \"min\": 1856.3458919525146}, \"setuptime\": {\"count\": 1, \"max\": 558.1979751586914, \"sum\": 558.1979751586914, \"min\": 558.1979751586914}}, \"EndTime\": 1600720857.94118, \"Dimensions\": {\"Host\": \"algo-1\", \"Operation\": \"training\", \"Algorithm\": \"RandomCutForest\"}, \"StartTime\": 1600720857.830606}\n",
      "\u001b[0m\n",
      "\n",
      "2020-09-21 20:41:05 Uploading - Uploading generated training model\n",
      "2020-09-21 20:41:05 Completed - Training job completed\n",
      "Training seconds: 76\n",
      "Billable seconds: 76\n"
     ]
    }
   ],
   "source": [
    "rcf.fit(rcf.record_set(o_PCA_components_train.values))"
   ]
  },
  {
   "cell_type": "markdown",
   "metadata": {},
   "source": [
    "### Host Random Cut Forest"
   ]
  },
  {
   "cell_type": "markdown",
   "metadata": {
    "pycharm": {
     "name": "#%% md\n"
    }
   },
   "source": [
    "Once we have a trained model we can deploy it and get some predictions for our test set. SageMaker will spin up an instance for us and deploy the model, the whole process should take around 10 minutes, you will see progress being made with each `-` and an exclamation point when the process is finished."
   ]
  },
  {
   "cell_type": "code",
   "execution_count": 36,
   "metadata": {},
   "outputs": [
    {
     "name": "stderr",
     "output_type": "stream",
     "text": [
      "Parameter image will be renamed to image_uri in SageMaker Python SDK v2.\n",
      "Using already existing model: SageMaker-Fraud-Machine-Learning-rcf-gametech\n"
     ]
    },
    {
     "name": "stdout",
     "output_type": "stream",
     "text": [
      "-----------------!"
     ]
    }
   ],
   "source": [
    "rcf_predictor = rcf.deploy(\n",
    "    model_name=\"{}-rcf-gametech\".format(config.STACK_NAME),\n",
    "    endpoint_name=\"{}-rcf-gametech\".format(config.STACK_NAME),\n",
    "    initial_instance_count=1,\n",
    "    instance_type='ml.c4.xlarge')"
   ]
  },
  {
   "cell_type": "code",
   "execution_count": null,
   "metadata": {},
   "outputs": [],
   "source": []
  },
  {
   "cell_type": "code",
   "execution_count": null,
   "metadata": {
    "pycharm": {
     "name": "#%%\n"
    }
   },
   "outputs": [],
   "source": []
  },
  {
   "cell_type": "code",
   "execution_count": 37,
   "metadata": {},
   "outputs": [],
   "source": [
    "# rcf_predictor.delete_model()"
   ]
  },
  {
   "cell_type": "code",
   "execution_count": 38,
   "metadata": {
    "pycharm": {
     "name": "#%%\n"
    }
   },
   "outputs": [],
   "source": [
    "from sagemaker.predictor import csv_serializer, json_deserializer\n",
    "\n",
    "rcf_predictor.content_type = 'text/csv'\n",
    "rcf_predictor.serializer = csv_serializer\n",
    "rcf_predictor.accept = 'application/json'\n",
    "rcf_predictor.deserializer = json_deserializer"
   ]
  },
  {
   "cell_type": "markdown",
   "metadata": {},
   "source": [
    "### Test Random Cut Forest"
   ]
  },
  {
   "cell_type": "markdown",
   "metadata": {
    "pycharm": {
     "name": "#%% md\n"
    }
   },
   "source": [
    "With the model deployed, let's see how it performs in terms of separating fraudulent from legitimate transactions."
   ]
  },
  {
   "cell_type": "code",
   "execution_count": 39,
   "metadata": {},
   "outputs": [],
   "source": [
    "def predict_rcf(current_predictor, data, rows=500):\n",
    "    split_array = np.array_split(data, int(data.shape[0] / float(rows) + 1))\n",
    "    predictions = []\n",
    "    for array in split_array:\n",
    "        array_preds = [s['score'] for s in current_predictor.predict(array)['scores']]\n",
    "        predictions.append(array_preds)\n",
    "\n",
    "    return np.concatenate([np.array(batch) for batch in predictions])"
   ]
  },
  {
   "cell_type": "code",
   "execution_count": 40,
   "metadata": {},
   "outputs": [],
   "source": [
    "\n",
    "scores = predict_rcf(rcf_predictor, o_PCA_components_test.values)"
   ]
  },
  {
   "cell_type": "code",
   "execution_count": 41,
   "metadata": {},
   "outputs": [],
   "source": [
    "import seaborn as sns\n",
    "import matplotlib.pyplot as plt\n",
    "sns.set(color_codes=True)"
   ]
  },
  {
   "cell_type": "code",
   "execution_count": 43,
   "metadata": {
    "pycharm": {
     "name": "#%%\n"
    }
   },
   "outputs": [
    {
     "data": {
      "text/plain": [
       "<matplotlib.legend.Legend at 0x7fb93ecaeb00>"
      ]
     },
     "execution_count": 43,
     "metadata": {},
     "output_type": "execute_result"
    },
    {
     "data": {
      "image/png": "[encoded data removed]",
      "text/plain": [
       "<Figure size 432x288 with 1 Axes>"
      ]
     },
     "metadata": {},
     "output_type": "display_data"
    }
   ],
   "source": [
    "sns.distplot(scores, label='score', bins=20)\n",
    "# sns.distplot(negatives_scores, label='not-fraud', bins=20)\n",
    "plt.legend()"
   ]
  },
  {
   "cell_type": "code",
   "execution_count": 46,
   "metadata": {},
   "outputs": [
    {
     "data": {
      "text/plain": [
       "1781"
      ]
     },
     "execution_count": 46,
     "metadata": {},
     "output_type": "execute_result"
    }
   ],
   "source": [
    "len(scores)"
   ]
  },
  {
   "cell_type": "code",
   "execution_count": 49,
   "metadata": {},
   "outputs": [
    {
     "data": {
      "text/plain": [
       "5"
      ]
     },
     "execution_count": 49,
     "metadata": {},
     "output_type": "execute_result"
    }
   ],
   "source": [
    "len(scores[scores>2])"
   ]
  },
  {
   "cell_type": "code",
   "execution_count": 30,
   "metadata": {},
   "outputs": [
    {
     "data": {
      "text/plain": [
       "'SageMaker-Fraud-Machine-Learning'"
      ]
     },
     "execution_count": 30,
     "metadata": {},
     "output_type": "execute_result"
    }
   ],
   "source": [
    "rcf_predictor"
   ]
  },
  {
   "cell_type": "markdown",
   "metadata": {},
   "source": [
    "The unsupervised model already can achieve some separation between the classes, with higher anomaly scores being correlated to fraud."
   ]
  },
  {
   "cell_type": "markdown",
   "metadata": {},
   "source": [
    "## Supervised Learning"
   ]
  },
  {
   "cell_type": "markdown",
   "metadata": {},
   "source": [
    "Once we have gathered an adequate amount of labeled training data, we can use a supervised learning algorithm that discovers relationships between the features and the dependent class.\n",
    "\n",
    "We will use Gradient Boosted Trees as our model, as they have a proven track record, are highly scalable and can deal with missing data, reducing the need to pre-process datasets."
   ]
  },
  {
   "cell_type": "markdown",
   "metadata": {},
   "source": [
    "### Prepare Data and Upload to S3"
   ]
  },
  {
   "cell_type": "markdown",
   "metadata": {
    "pycharm": {
     "name": "#%% md\n"
    }
   },
   "source": [
    "First we copy the data to an in-memory buffer."
   ]
  },
  {
   "cell_type": "code",
   "execution_count": null,
   "metadata": {
    "pycharm": {
     "name": "#%%\n"
    }
   },
   "outputs": [],
   "source": [
    "import io\n",
    "import sklearn\n",
    "from sklearn.datasets import dump_svmlight_file   \n",
    "\n",
    "buf = io.BytesIO()\n",
    "\n",
    "sklearn.datasets.dump_svmlight_file(X_train, y_train, buf)\n",
    "buf.seek(0);"
   ]
  },
  {
   "cell_type": "markdown",
   "metadata": {
    "pycharm": {
     "name": "#%% md\n"
    }
   },
   "source": [
    "Now we upload the data to S3 using boto3."
   ]
  },
  {
   "cell_type": "code",
   "execution_count": null,
   "metadata": {
    "pycharm": {
     "name": "#%%\n"
    }
   },
   "outputs": [],
   "source": [
    "key = 'fraud-dataset'\n",
    "subdir = 'base'\n",
    "boto3.resource('s3').Bucket(bucket).Object(os.path.join(prefix, 'train', subdir, key)).upload_fileobj(buf)\n",
    "\n",
    "s3_train_data = 's3://{}/{}/train/{}/{}'.format(bucket, prefix, subdir, key)\n",
    "print('Uploaded training data location: {}'.format(s3_train_data))\n",
    "\n",
    "output_location = 's3://{}/{}/output'.format(bucket, prefix)\n",
    "print('Training artifacts will be uploaded to: {}'.format(output_location))"
   ]
  },
  {
   "cell_type": "markdown",
   "metadata": {
    "pycharm": {
     "name": "#%% md\n"
    }
   },
   "source": [
    "We can now train using SageMaker's built-in XGBoost algorithm. To specify the XGBoost algorithm, we use a utility function to obtain its URI. A complete list of built-in algorithms is found here: https://docs.aws.amazon.com/sagemaker/latest/dg/algos.html"
   ]
  },
  {
   "cell_type": "code",
   "execution_count": null,
   "metadata": {
    "pycharm": {
     "name": "#%%\n"
    }
   },
   "outputs": [],
   "source": [
    "from sagemaker.amazon.amazon_estimator import get_image_uri\n",
    "\n",
    "container = get_image_uri(boto3.Session().region_name, 'xgboost', repo_version='0.90-2')"
   ]
  },
  {
   "cell_type": "markdown",
   "metadata": {
    "pycharm": {
     "name": "#%% md\n"
    }
   },
   "source": [
    "SageMaker abstracts training via Estimators. We can pass the classifier and parameters along with hyperparameters to the estimator, and fit the estimator to the data in S3. An important parameter here is `scale_pos_weight` which scales the weights of the positive vs. negative class examples. This is crucial to do in an imbalanced dataset like the one we are using here, otherwise the majority class would dominate the learning."
   ]
  },
  {
   "cell_type": "code",
   "execution_count": null,
   "metadata": {
    "pycharm": {
     "name": "#%%\n"
    },
    "scrolled": true
   },
   "outputs": [],
   "source": [
    "from math import sqrt\n",
    "from sagemaker import get_execution_role\n",
    "\n",
    "# Because the data set is so highly skewed, we set the scale position weight conservatively,\n",
    "# as sqrt(num_nonfraud/num_fraud).\n",
    "# Other recommendations for the scale_pos_weight are setting it to (num_nonfraud/num_fraud).\n",
    "scale_pos_weight = sqrt(np.count_nonzero(y_train==0)/np.count_nonzero(y_train))\n",
    "hyperparams = {\n",
    "    \"max_depth\":5,\n",
    "    \"subsample\":0.8,\n",
    "    \"num_round\":100,\n",
    "    \"eta\":0.2,\n",
    "    \"gamma\":4,\n",
    "    \"min_child_weight\":6,\n",
    "    \"silent\":0,\n",
    "    \"objective\":'binary:logistic',\n",
    "    \"eval_metric\":'auc',\n",
    "    \"scale_pos_weight\": scale_pos_weight\n",
    "}"
   ]
  },
  {
   "cell_type": "markdown",
   "metadata": {},
   "source": [
    "Let us explain the hyper-parameters used above. The one that's very relevant for learning from skewed data is `scale_pos_weight`. This is a ratio that weighs the examples of the positive class (fraud) against the negative class (legitimate). Commonly this is set to `(num_nonfraud/num_fraud)`, but our data is exteremely skewed so we will set it to `sqrt(num_nonfraud/num_fraud)`.  For the data in this example, this would be `sqrt(284,807/492)` which would give our fraud examples a weight of ~24.\n",
    "\n",
    "The rest of the hyper-parameters are as follows:\n",
    "\n",
    "* `max_depth`: This is the maximum depth of the trees that will be built for our ensemble. A max depth of 5 will give us trees with up to 32 leaves. Note that tree size grows exponentially when increasing this parameter (`num_leaves=2^max_depth`), so a max depth of 10 would give us trees with 1024 leaves, which are likely to overfit.\n",
    "* `subsample`: The subsample ratio that we use to select a subset of the complete data to train each tree in the ensemble. With a value of 0.8, each tree is trained on a random sample containing 80% of the complete data. This is used to prevent overfitting.\n",
    "* `num_round`: This is the size of the ensemble. We will for 100 \"rounds\", each training round adding a new tree to the ensemble.\n",
    "* `eta`: This is the step size shrinkage applied at each update. This value will shrink the weights of new features to prevent overfitting.\n",
    "* `gamma`: This is the minimum loss reduction to reach before splitting a leaf. Splitting a leaf can sometimes have a small benefit, and splitting such leaves can lead to overfitting. By setting `gamma` to values larger than zero, we ensure that there should be at least some non-negligible amount of accuracy gain before splitting a leaf.\n",
    "* `min_child_weight`: This parameter has a similar effect to gamma, setting it to higher values means we'll wait until enough gain will be possible before splitting a leaf.\n",
    "* `objective`: We are doing binary classification, so we use a logistic loss objective.\n",
    "* `eval_metric`: Having a good evaluation metric is crucial when dealing with imbalanced data (see discussion below). We use AUC here."
   ]
  },
  {
   "cell_type": "code",
   "execution_count": null,
   "metadata": {},
   "outputs": [],
   "source": [
    "clf = sagemaker.estimator.Estimator(container,\n",
    "                                    get_execution_role(),\n",
    "                                    hyperparameters=hyperparams,\n",
    "                                    train_instance_count=1, \n",
    "                                    train_instance_type='ml.m4.xlarge',\n",
    "                                    output_path=output_location,\n",
    "                                    sagemaker_session=session)"
   ]
  },
  {
   "cell_type": "markdown",
   "metadata": {},
   "source": [
    "We can now fit our supervised training model, the call to fit below should take around 5 minutes to complete."
   ]
  },
  {
   "cell_type": "code",
   "execution_count": null,
   "metadata": {
    "pycharm": {
     "name": "#%%\n"
    }
   },
   "outputs": [],
   "source": [
    "clf.fit({'train': s3_train_data})"
   ]
  },
  {
   "cell_type": "markdown",
   "metadata": {
    "pycharm": {
     "name": "#%% md\n"
    }
   },
   "source": [
    "### Host Classifier"
   ]
  },
  {
   "cell_type": "markdown",
   "metadata": {
    "pycharm": {
     "name": "#%% md\n"
    }
   },
   "source": [
    "Now we deploy the estimator to and endpoint. As before progress will be indicated by `-`, and the deployment should be done after 10 minutes."
   ]
  },
  {
   "cell_type": "code",
   "execution_count": null,
   "metadata": {
    "pycharm": {
     "name": "#%%\n"
    }
   },
   "outputs": [],
   "source": [
    "from sagemaker.predictor import csv_serializer\n",
    "\n",
    "predictor = clf.deploy(initial_instance_count=1,\n",
    "                       model_name=\"{}-xgb\".format(config.STACK_NAME),\n",
    "                       endpoint_name=\"{}-xgb\".format(config.STACK_NAME),\n",
    "                       instance_type='ml.m4.xlarge', \n",
    "                       serializer=csv_serializer,\n",
    "                       deserializer=None,\n",
    "                       content_type='text/csv')"
   ]
  },
  {
   "cell_type": "markdown",
   "metadata": {
    "pycharm": {
     "name": "#%% md\n"
    }
   },
   "source": [
    "## Evaluation"
   ]
  },
  {
   "cell_type": "markdown",
   "metadata": {},
   "source": [
    "Once we have trained the model we can use it to make predictions for the test set."
   ]
  },
  {
   "cell_type": "code",
   "execution_count": null,
   "metadata": {
    "pycharm": {
     "name": "#%%\n"
    }
   },
   "outputs": [],
   "source": [
    "# Because we have a large test set, we call predict on smaller batches\n",
    "def predict(current_predictor, data, rows=500):\n",
    "    split_array = np.array_split(data, int(data.shape[0] / float(rows) + 1))\n",
    "    predictions = ''\n",
    "    for array in split_array:\n",
    "        predictions = ','.join([predictions, current_predictor.predict(array).decode('utf-8')])\n",
    "\n",
    "    return np.fromstring(predictions[1:], sep=',')"
   ]
  },
  {
   "cell_type": "code",
   "execution_count": null,
   "metadata": {},
   "outputs": [],
   "source": [
    "raw_preds = predict(predictor, X_test)"
   ]
  },
  {
   "cell_type": "markdown",
   "metadata": {
    "pycharm": {
     "name": "#%% md\n"
    }
   },
   "source": [
    "We will use a few measures from the scikit-learn package to evaluate the performance of our model. When dealing with an imbalanced dataset, we need to choose metrics that take into account the frequency of each class in the data.\n",
    "\n",
    "Two such metrics are the [balanced accuracy score](https://scikit-learn.org/stable/modules/model_evaluation.html#balanced-accuracy-score), and [Cohen's Kappa](https://scikit-learn.org/stable/modules/model_evaluation.html#cohen-s-kappa)."
   ]
  },
  {
   "cell_type": "code",
   "execution_count": null,
   "metadata": {},
   "outputs": [],
   "source": [
    "from sklearn.metrics import balanced_accuracy_score, cohen_kappa_score\n",
    "\n",
    "# scikit-learn expects 0/1 predictions, so we threshold our raw predictions\n",
    "y_preds = np.where(raw_preds > 0.5, 1, 0)\n",
    "print(\"Balanced accuracy = {}\".format(balanced_accuracy_score(y_test, y_preds)))\n",
    "print(\"Cohen's Kappa = {}\".format(cohen_kappa_score(y_test, y_preds)))"
   ]
  },
  {
   "cell_type": "markdown",
   "metadata": {},
   "source": [
    "We can already see that our model performs very well in terms of both metrics, Cohen's Kappa scores above 0.8 are generally very favorable."
   ]
  },
  {
   "cell_type": "markdown",
   "metadata": {},
   "source": [
    "Apart from single-value metrics, it's also useful to look at metrics that indicate performance per class. A confusion matrix, and per-class precision, recall and f1-score can also provide more information about the model's performance."
   ]
  },
  {
   "cell_type": "code",
   "execution_count": null,
   "metadata": {},
   "outputs": [],
   "source": [
    "import matplotlib.pyplot as plt\n",
    "import seaborn as sns\n",
    "from sklearn.metrics import confusion_matrix\n",
    "\n",
    "def plot_confusion_matrix(y_true, y_predicted):\n",
    "\n",
    "    cm  = confusion_matrix(y_true, y_predicted)\n",
    "    # Get the per-class normalized value for each cell\n",
    "    cm_norm = cm.astype('float') / cm.sum(axis=1)[:, np.newaxis]\n",
    "    \n",
    "    # We color each cell according to its normalized value, annotate with exact counts.\n",
    "    ax = sns.heatmap(cm_norm, annot=cm, fmt=\"d\")\n",
    "    ax.set(xticklabels=[\"non-fraud\", \"fraud\"], yticklabels=[\"non-fraud\", \"fraud\"])\n",
    "    ax.set_ylim([0,2])\n",
    "    plt.title('Confusion Matrix')\n",
    "    plt.ylabel('Real Classes')\n",
    "    plt.xlabel('Predicted Classes')\n",
    "    plt.show()"
   ]
  },
  {
   "cell_type": "code",
   "execution_count": null,
   "metadata": {
    "pycharm": {
     "name": "#%%\n"
    }
   },
   "outputs": [],
   "source": [
    "plot_confusion_matrix(y_test, y_preds)"
   ]
  },
  {
   "cell_type": "code",
   "execution_count": null,
   "metadata": {
    "pycharm": {
     "name": "#%%\n"
    }
   },
   "outputs": [],
   "source": [
    "from sklearn.metrics import classification_report\n",
    "\n",
    "print(classification_report(\n",
    "    y_test, y_preds, target_names=['non-fraud', 'fraud']))"
   ]
  },
  {
   "cell_type": "markdown",
   "metadata": {
    "pycharm": {
     "name": "#%% md\n"
    }
   },
   "source": [
    "### Keep sending test traffic to the endpoint via lambda"
   ]
  },
  {
   "cell_type": "markdown",
   "metadata": {},
   "source": [
    "We can now show how we could use both of these models in a production system, using HTTP requests to an AWS Lambda function that invokes both the unsupervised and the supervised SageMaker endpoints.\n",
    "\n",
    "We create a background thread that will constantly create HTTP requests to invoke the Lambda, using our test data as input. See the included `generate_endpoint_traffic.py` file to see how that is done.\n",
    "The output will be logged to an S3 bucket through Kinesis, and you can also observe it in the Lambda function's CloudWatch logs."
   ]
  },
  {
   "cell_type": "code",
   "execution_count": null,
   "metadata": {},
   "outputs": [],
   "source": [
    "from threading import Thread\n",
    "from package.generate_endpoint_traffic import generate_traffic\n",
    "\n",
    "thread = Thread(target = generate_traffic, args=[np.copy(X_test)])\n",
    "thread.start()\n"
   ]
  },
  {
   "cell_type": "markdown",
   "metadata": {},
   "source": [
    "### SMOTE"
   ]
  },
  {
   "cell_type": "markdown",
   "metadata": {},
   "source": [
    "Now that we have a baseline model using XGBoost, we can try to see if sampling techniques that are designed specifically for imbalanced problems can improve the performance of the model.\n",
    "\n",
    "For that purpose we will be using the [imbalanced-learn](https://imbalanced-learn.readthedocs.io/en/stable/index.html) package that works well with scikit-learn. We have pre-installed the package for this kernel, but if you need it for a different Jupyter kernel you can install it by running `pip install --upgrade imbalanced-learn` within the conda environment you need.\n",
    "\n",
    "We will be using [Sythetic Minority Over-sampling](https://arxiv.org/abs/1106.1813) (SMOTE), which oversamples the minority class by interpolating new data points between existing ones."
   ]
  },
  {
   "cell_type": "code",
   "execution_count": null,
   "metadata": {},
   "outputs": [],
   "source": [
    "from imblearn.over_sampling import SMOTE\n",
    "\n",
    "smote = SMOTE(random_state=42)\n",
    "X_smote, y_smote = smote.fit_resample(X_train, y_train)"
   ]
  },
  {
   "cell_type": "markdown",
   "metadata": {
    "pycharm": {
     "name": "#%% md\n"
    }
   },
   "source": [
    "We can see that SMOTE has now balanced the two classes:"
   ]
  },
  {
   "cell_type": "code",
   "execution_count": null,
   "metadata": {},
   "outputs": [],
   "source": [
    "from collections import Counter\n",
    "print(sorted(Counter(y_smote).items()))"
   ]
  },
  {
   "cell_type": "markdown",
   "metadata": {},
   "source": [
    "We note that this is a case of extreme oversampling of the the minority class, we went from ~0.17% to 50%. An alternative would be to use a smaller resampling ratio, such as having one minority cl\n",
    "ass sample for every `sqrt(non_fraud/fraud)` majority samples, or using more advanced resampling techniques. See the [comparison](https://imbalanced-learn.readthedocs.io/en/stable/auto_examples/over-sampling/plot_comparison_over_sampling.html#sphx-glr-auto-examples-over-sampling-plot-comparison-over-sampling-py) provided by imbalanced-learn for more over-sampling options."
   ]
  },
  {
   "cell_type": "markdown",
   "metadata": {
    "pycharm": {
     "name": "#%% md\n"
    }
   },
   "source": [
    "In our case we'll use the SMOTE dataset we just created and upload it to S3 for training."
   ]
  },
  {
   "cell_type": "code",
   "execution_count": null,
   "metadata": {},
   "outputs": [],
   "source": [
    "smote_buf = io.BytesIO()\n",
    "\n",
    "# Dump the SMOTE data into a buffer\n",
    "sklearn.datasets.dump_svmlight_file(X_smote, y_smote, smote_buf)\n",
    "smote_buf.seek(0);\n",
    "\n",
    "# Upload from the buffer to S3\n",
    "key = 'fraud-dataset-smote'\n",
    "subdir = 'smote'\n",
    "boto3.resource('s3').Bucket(bucket).Object(os.path.join(prefix, 'train', subdir, key)).upload_fileobj(smote_buf)\n",
    "\n",
    "s3_smote_train_data = 's3://{}/{}/train/{}/{}'.format(bucket, prefix, subdir, key)\n",
    "print('Uploaded training data location: {}'.format(s3_smote_train_data))\n",
    "\n",
    "smote_output_location = 's3://{}/{}/smote-output'.format(bucket, prefix)\n",
    "print('Training artifacts will be uploaded to: {}'.format(smote_output_location))"
   ]
  },
  {
   "cell_type": "code",
   "execution_count": null,
   "metadata": {},
   "outputs": [],
   "source": [
    "# No need to scale weights after SMOTE resampling, so we remove that parameter\n",
    "hyperparams.pop(\"scale_pos_weight\", None)\n",
    "smote_xgb = sagemaker.estimator.Estimator(container,\n",
    "                                        get_execution_role(),\n",
    "                                        hyperparameters=hyperparams,\n",
    "                                        train_instance_count=1, \n",
    "                                        train_instance_type='ml.m4.xlarge',\n",
    "                                        output_path=smote_output_location,\n",
    "                                        sagemaker_session=session)"
   ]
  },
  {
   "cell_type": "markdown",
   "metadata": {
    "pycharm": {
     "name": "#%% md\n"
    }
   },
   "source": [
    "We are now ready to fit the model, which should take around 5 minutes to complete."
   ]
  },
  {
   "cell_type": "code",
   "execution_count": null,
   "metadata": {},
   "outputs": [],
   "source": [
    "smote_xgb.fit({'train': s3_smote_train_data})"
   ]
  },
  {
   "cell_type": "markdown",
   "metadata": {},
   "source": [
    "After fitting the model we can check its performance to compare it against the base XGBoost model. The deployment will take around 10 minutes."
   ]
  },
  {
   "cell_type": "code",
   "execution_count": null,
   "metadata": {
    "pycharm": {
     "name": "#%%\n"
    }
   },
   "outputs": [],
   "source": [
    "smote_predictor = smote_xgb.deploy(initial_instance_count=1,\n",
    "                       model_name=\"{}-xgb-smote\".format(config.STACK_NAME),\n",
    "                       endpoint_name=\"{}-xgb-smote\".format(config.STACK_NAME),\n",
    "                       instance_type='ml.m4.xlarge')\n",
    "\n",
    "# Specify input and output formats.\n",
    "smote_predictor.content_type = 'text/csv'\n",
    "smote_predictor.serializer = csv_serializer\n",
    "smote_predictor.deserializer = None"
   ]
  },
  {
   "cell_type": "code",
   "execution_count": null,
   "metadata": {},
   "outputs": [],
   "source": [
    "smote_raw_preds = predict(smote_predictor, X_test)\n",
    "smote_preds = np.where(smote_raw_preds > 0.5, 1, 0)"
   ]
  },
  {
   "cell_type": "code",
   "execution_count": null,
   "metadata": {
    "pycharm": {
     "name": "#%%\n"
    }
   },
   "outputs": [],
   "source": [
    "print(\"Balanced accuracy = {}\".format(balanced_accuracy_score(y_test, smote_preds)))\n",
    "print(\"Cohen's Kappa = {}\".format(cohen_kappa_score(y_test, smote_preds)))"
   ]
  },
  {
   "cell_type": "code",
   "execution_count": null,
   "metadata": {
    "pycharm": {
     "name": "#%%\n"
    }
   },
   "outputs": [],
   "source": [
    "plot_confusion_matrix(y_test, smote_preds)"
   ]
  },
  {
   "cell_type": "code",
   "execution_count": null,
   "metadata": {},
   "outputs": [],
   "source": [
    "print(classification_report(\n",
    "    y_test, smote_preds, target_names=['non-fraud', 'fraud']))"
   ]
  },
  {
   "cell_type": "markdown",
   "metadata": {},
   "source": [
    "Due to the randomness of XGBoost your results may vary, but overall, you should see a large increase in non-fraud cases being classified as fraud (false positives). The reason this happens is because SMOTE has oversampled the fraud class so much that it's increased its overlap in feature space with the non-fraud cases.\n",
    "Since Cohen's Kappa gives more weight to false positives than balanced accuracy does, the metric drops significantly, as does the precision and F1 score for fraud cases. However, we can bring a balance between the metrics again by adjusting our classification threshold."
   ]
  },
  {
   "cell_type": "markdown",
   "metadata": {},
   "source": [
    "So far we've been using 0.5 as the threshold between labeling a point as fraud or not. We can try different thresholds to see if they affect the result of the classification. To evaluate we'll use the balanced accuracy and Cohen's Kappa metrics."
   ]
  },
  {
   "cell_type": "code",
   "execution_count": null,
   "metadata": {
    "pycharm": {
     "name": "#%%\n"
    }
   },
   "outputs": [],
   "source": [
    "for thres in np.linspace(0.1, 0.9, num=9):\n",
    "    smote_thres_preds = np.where(smote_raw_preds > thres, 1, 0)\n",
    "    print(\"Threshold: {:.1f}\".format(thres))\n",
    "    print(\"Balanced accuracy = {:.3f}\".format(balanced_accuracy_score(y_test, smote_thres_preds)))\n",
    "    print(\"Cohen's Kappa = {:.3f}\\n\".format(cohen_kappa_score(y_test, smote_thres_preds)))"
   ]
  },
  {
   "cell_type": "markdown",
   "metadata": {},
   "source": [
    "We see that Cohen's Kappa keeps increasing along with the threshold, without a significant loss in balanced accuracy. This adds a useful knob to our model: We can keep a low threshold if we care more about not missing any fraudulent cases, or we can increase the threshold to try to minimize the number of false positives."
   ]
  },
  {
   "cell_type": "markdown",
   "metadata": {},
   "source": [
    "## Clean up\n",
    "\n",
    "We will leave the unsupervised and base XGBoost endpoints running at the end of this notebook so we can handle incoming event streams. However, don't forget to delete the prediction endpoints when you're done. You can do that at the Amazon SageMaker console in the Endpoints page. Or you can run `predictor_name.delete_endpoint()`"
   ]
  },
  {
   "cell_type": "code",
   "execution_count": null,
   "metadata": {},
   "outputs": [],
   "source": [
    "# Uncomment to clean up endpoints\n",
    "# rcf_predictor.delete_model()\n",
    "# rcf_predictor.delete_endpoint()\n",
    "# predictor.delete_endpoint()\n",
    "# predictor.delete_model()\n",
    "smote_predictor.delete_model()\n",
    "smote_predictor.delete_endpoint()"
   ]
  },
  {
   "cell_type": "markdown",
   "metadata": {},
   "source": [
    "\n",
    "## Data Acknowledgements\n",
    "\n",
    "The dataset used to demonstrated the fraud detection solution has been collected and analysed during a research collaboration of Worldline and the Machine Learning Group (http://mlg.ulb.ac.be) of ULB (Université Libre de Bruxelles) on big data mining and fraud detection. More details on current and past projects on related topics are available on https://www.researchgate.net/project/Fraud-detection-5 and the page of the [DefeatFraud](https://mlg.ulb.ac.be/wordpress/portfolio_page/defeatfraud-assessment-and-validation-of-deep-feature-engineering-and-learning-solutions-for-fraud-detection/) project\n",
    "We cite the following works:\n",
    "* Andrea Dal Pozzolo, Olivier Caelen, Reid A. Johnson and Gianluca Bontempi. Calibrating Probability with Undersampling for Unbalanced Classification. In Symposium on Computational Intelligence and Data Mining (CIDM), IEEE, 2015\n",
    "* Dal Pozzolo, Andrea; Caelen, Olivier; Le Borgne, Yann-Ael; Waterschoot, Serge; Bontempi, Gianluca. Learned lessons in credit card fraud detection from a practitioner perspective, Expert systems with applications,41,10,4915-4928,2014, Pergamon\n",
    "* Dal Pozzolo, Andrea; Boracchi, Giacomo; Caelen, Olivier; Alippi, Cesare; Bontempi, Gianluca. Credit card fraud detection: a realistic modeling and a novel learning strategy, IEEE transactions on neural networks and learning systems,29,8,3784-3797,2018,IEEE\n",
    "* Dal Pozzolo, Andrea Adaptive Machine learning for credit card fraud detection ULB MLG PhD thesis (supervised by G. Bontempi)\n",
    "* Carcillo, Fabrizio; Dal Pozzolo, Andrea; Le Borgne, Yann-Aël; Caelen, Olivier; Mazzer, Yannis; Bontempi, Gianluca. Scarff: a scalable framework for streaming credit card fraud detection with Spark, Information fusion,41, 182-194,2018,Elsevier\n",
    "* Carcillo, Fabrizio; Le Borgne, Yann-Aël; Caelen, Olivier; Bontempi, Gianluca. Streaming active learning strategies for real-life credit card fraud detection: assessment and visualization, International Journal of Data Science and Analytics, 5,4,285-300,2018,Springer International Publishing"
   ]
  },
  {
   "cell_type": "code",
   "execution_count": null,
   "metadata": {},
   "outputs": [],
   "source": []
  },
  {
   "cell_type": "code",
   "execution_count": null,
   "metadata": {},
   "outputs": [],
   "source": []
  }
 ],
 "metadata": {
  "kernelspec": {
   "display_name": "conda_python3",
   "language": "python",
   "name": "conda_python3"
  },
  "language_info": {
   "codemirror_mode": {
    "name": "ipython",
    "version": 3
   },
   "file_extension": ".py",
   "mimetype": "text/x-python",
   "name": "python",
   "nbconvert_exporter": "python",
   "pygments_lexer": "ipython3",
   "version": "3.6.10"
  }
 },
 "nbformat": 4,
 "nbformat_minor": 4
}
