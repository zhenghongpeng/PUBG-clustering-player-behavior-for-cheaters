{
 "cells": [
  {
   "cell_type": "markdown",
   "metadata": {},
   "source": [
    "# Credit card fraud detector"
   ]
  },
  {
   "cell_type": "markdown",
   "metadata": {},
   "source": [
    "In this solution we will build the core of a credit card fraud detection system using SageMaker. We will start by training an anomaly detection algorithm, then proceed to train two XGBoost models for supervised training. To deal with the highly unbalanced data common in fraud detection, our first model will use re-weighting of the data, and the second will use re-sampling, using the popular SMOTE technique for oversampling the rare fraud data.\n",
    "\n",
    "Our solution includes an example of making calls to a REST API to simulate a real deployment, using AWS Lambda to trigger both the anomaly detection and XGBoost model."
   ]
  },
  {
   "cell_type": "markdown",
   "metadata": {},
   "source": [
    "## Investigate and process the data"
   ]
  },
  {
   "cell_type": "markdown",
   "metadata": {},
   "source": [
    "Let's start by reading in the credit card fraud data set."
   ]
  },
  {
   "cell_type": "code",
   "execution_count": 1,
   "metadata": {},
   "outputs": [],
   "source": [
    "import numpy as np \n",
    "import pandas as pd\n",
    "\n",
    "data = pd.read_csv('creditcard.csv', delimiter=',')"
   ]
  },
  {
   "cell_type": "markdown",
   "metadata": {},
   "source": [
    "Let's take a peek at our data (we only show a subset of the columns in the table):"
   ]
  },
  {
   "cell_type": "code",
   "execution_count": 2,
   "metadata": {},
   "outputs": [
    {
     "name": "stdout",
     "output_type": "stream",
     "text": [
      "Index(['Time', 'V1', 'V2', 'V3', 'V4', 'V5', 'V6', 'V7', 'V8', 'V9', 'V10',\n",
      "       'V11', 'V12', 'V13', 'V14', 'V15', 'V16', 'V17', 'V18', 'V19', 'V20',\n",
      "       'V21', 'V22', 'V23', 'V24', 'V25', 'V26', 'V27', 'V28', 'Amount',\n",
      "       'Class'],\n",
      "      dtype='object')\n"
     ]
    },
    {
     "data": {
      "text/html": [
       "<div>\n",
       "<style scoped>\n",
       "    .dataframe tbody tr th:only-of-type {\n",
       "        vertical-align: middle;\n",
       "    }\n",
       "\n",
       "    .dataframe tbody tr th {\n",
       "        vertical-align: top;\n",
       "    }\n",
       "\n",
       "    .dataframe thead th {\n",
       "        text-align: right;\n",
       "    }\n",
       "</style>\n",
       "<table border=\"1\" class=\"dataframe\">\n",
       "  <thead>\n",
       "    <tr style=\"text-align: right;\">\n",
       "      <th></th>\n",
       "      <th>Time</th>\n",
       "      <th>V1</th>\n",
       "      <th>V2</th>\n",
       "      <th>V27</th>\n",
       "      <th>V28</th>\n",
       "      <th>Amount</th>\n",
       "      <th>Class</th>\n",
       "    </tr>\n",
       "  </thead>\n",
       "  <tbody>\n",
       "    <tr>\n",
       "      <th>count</th>\n",
       "      <td>284807.000000</td>\n",
       "      <td>2.848070e+05</td>\n",
       "      <td>2.848070e+05</td>\n",
       "      <td>2.848070e+05</td>\n",
       "      <td>2.848070e+05</td>\n",
       "      <td>284807.000000</td>\n",
       "      <td>284807.000000</td>\n",
       "    </tr>\n",
       "    <tr>\n",
       "      <th>mean</th>\n",
       "      <td>94813.859575</td>\n",
       "      <td>3.919560e-15</td>\n",
       "      <td>5.688174e-16</td>\n",
       "      <td>-3.660161e-16</td>\n",
       "      <td>-1.206049e-16</td>\n",
       "      <td>88.349619</td>\n",
       "      <td>0.001727</td>\n",
       "    </tr>\n",
       "    <tr>\n",
       "      <th>std</th>\n",
       "      <td>47488.145955</td>\n",
       "      <td>1.958696e+00</td>\n",
       "      <td>1.651309e+00</td>\n",
       "      <td>4.036325e-01</td>\n",
       "      <td>3.300833e-01</td>\n",
       "      <td>250.120109</td>\n",
       "      <td>0.041527</td>\n",
       "    </tr>\n",
       "    <tr>\n",
       "      <th>min</th>\n",
       "      <td>0.000000</td>\n",
       "      <td>-5.640751e+01</td>\n",
       "      <td>-7.271573e+01</td>\n",
       "      <td>-2.256568e+01</td>\n",
       "      <td>-1.543008e+01</td>\n",
       "      <td>0.000000</td>\n",
       "      <td>0.000000</td>\n",
       "    </tr>\n",
       "    <tr>\n",
       "      <th>25%</th>\n",
       "      <td>54201.500000</td>\n",
       "      <td>-9.203734e-01</td>\n",
       "      <td>-5.985499e-01</td>\n",
       "      <td>-7.083953e-02</td>\n",
       "      <td>-5.295979e-02</td>\n",
       "      <td>5.600000</td>\n",
       "      <td>0.000000</td>\n",
       "    </tr>\n",
       "    <tr>\n",
       "      <th>50%</th>\n",
       "      <td>84692.000000</td>\n",
       "      <td>1.810880e-02</td>\n",
       "      <td>6.548556e-02</td>\n",
       "      <td>1.342146e-03</td>\n",
       "      <td>1.124383e-02</td>\n",
       "      <td>22.000000</td>\n",
       "      <td>0.000000</td>\n",
       "    </tr>\n",
       "    <tr>\n",
       "      <th>75%</th>\n",
       "      <td>139320.500000</td>\n",
       "      <td>1.315642e+00</td>\n",
       "      <td>8.037239e-01</td>\n",
       "      <td>9.104512e-02</td>\n",
       "      <td>7.827995e-02</td>\n",
       "      <td>77.165000</td>\n",
       "      <td>0.000000</td>\n",
       "    </tr>\n",
       "    <tr>\n",
       "      <th>max</th>\n",
       "      <td>172792.000000</td>\n",
       "      <td>2.454930e+00</td>\n",
       "      <td>2.205773e+01</td>\n",
       "      <td>3.161220e+01</td>\n",
       "      <td>3.384781e+01</td>\n",
       "      <td>25691.160000</td>\n",
       "      <td>1.000000</td>\n",
       "    </tr>\n",
       "  </tbody>\n",
       "</table>\n",
       "</div>"
      ],
      "text/plain": [
       "                Time            V1            V2           V27           V28  \\\n",
       "count  284807.000000  2.848070e+05  2.848070e+05  2.848070e+05  2.848070e+05   \n",
       "mean    94813.859575  3.919560e-15  5.688174e-16 -3.660161e-16 -1.206049e-16   \n",
       "std     47488.145955  1.958696e+00  1.651309e+00  4.036325e-01  3.300833e-01   \n",
       "min         0.000000 -5.640751e+01 -7.271573e+01 -2.256568e+01 -1.543008e+01   \n",
       "25%     54201.500000 -9.203734e-01 -5.985499e-01 -7.083953e-02 -5.295979e-02   \n",
       "50%     84692.000000  1.810880e-02  6.548556e-02  1.342146e-03  1.124383e-02   \n",
       "75%    139320.500000  1.315642e+00  8.037239e-01  9.104512e-02  7.827995e-02   \n",
       "max    172792.000000  2.454930e+00  2.205773e+01  3.161220e+01  3.384781e+01   \n",
       "\n",
       "              Amount          Class  \n",
       "count  284807.000000  284807.000000  \n",
       "mean       88.349619       0.001727  \n",
       "std       250.120109       0.041527  \n",
       "min         0.000000       0.000000  \n",
       "25%         5.600000       0.000000  \n",
       "50%        22.000000       0.000000  \n",
       "75%        77.165000       0.000000  \n",
       "max     25691.160000       1.000000  "
      ]
     },
     "execution_count": 2,
     "metadata": {},
     "output_type": "execute_result"
    }
   ],
   "source": [
    "print(data.columns)\n",
    "data[['Time', 'V1', 'V2', 'V27', 'V28', 'Amount', 'Class']].describe()"
   ]
  },
  {
   "cell_type": "markdown",
   "metadata": {},
   "source": [
    "The dataset contains\n",
    "only numerical features, because the original features have been transformed for confidentiality using PCA. As a result,\n",
    "the dataset contains 28 PCA components, V1-V28, and two features that haven't been transformed, _Amount_ and _Time_.\n",
    "_Amount_ refers to the transaction amount, and _Time_ is the seconds elapsed between any transaction in the data\n",
    "and the first transaction.\n",
    "\n",
    "The class column corresponds to whether or not a transaction is fraudulent. We see that the majority of data is non-fraudulent with only $492$ ($0.173\\%$) of the data corresponding to fraudulent examples, out of the total of 284,807 examples in the data."
   ]
  },
  {
   "cell_type": "code",
   "execution_count": 3,
   "metadata": {},
   "outputs": [
    {
     "name": "stdout",
     "output_type": "stream",
     "text": [
      "Number of frauds:  492\n",
      "Number of non-frauds:  284315\n",
      "Percentage of fradulent data: 0.1727485630620034\n"
     ]
    }
   ],
   "source": [
    "nonfrauds, frauds = data.groupby('Class').size()\n",
    "print('Number of frauds: ', frauds)\n",
    "print('Number of non-frauds: ', nonfrauds)\n",
    "print('Percentage of fradulent data:', 100.*frauds/(frauds + nonfrauds))"
   ]
  },
  {
   "cell_type": "markdown",
   "metadata": {},
   "source": [
    "We already know that the columns $V_i$ have been normalized to have $0$ mean and unit standard deviation as the result of a PCA."
   ]
  },
  {
   "cell_type": "code",
   "execution_count": 4,
   "metadata": {},
   "outputs": [],
   "source": [
    "feature_columns = data.columns[:-1]\n",
    "label_column = data.columns[-1]\n",
    "\n",
    "features = data[feature_columns].values.astype('float32')\n",
    "labels = (data[label_column].values).astype('float32')"
   ]
  },
  {
   "cell_type": "markdown",
   "metadata": {},
   "source": [
    "Next, we will prepare our data for loading and training."
   ]
  },
  {
   "cell_type": "markdown",
   "metadata": {},
   "source": [
    "## Training"
   ]
  },
  {
   "cell_type": "markdown",
   "metadata": {},
   "source": [
    "We will split our dataset into a train and test to evaluate the performance of our models. It's important to do so _before_ any techniques meant to alleviate the class imbalance are used. This ensures that we don't leak information from the test set into the train set."
   ]
  },
  {
   "cell_type": "code",
   "execution_count": 5,
   "metadata": {},
   "outputs": [],
   "source": [
    "from sklearn.model_selection import train_test_split\n",
    "\n",
    "X_train, X_test, y_train, y_test = train_test_split(\n",
    "    features, labels, test_size=0.1, random_state=42)"
   ]
  },
  {
   "cell_type": "markdown",
   "metadata": {},
   "source": [
    "> Note: If you are bringing your own data to this solution and they include categorical data, that have strings as values, you'd need to one-hot encode these values first using for example sklearn's [OneHotEncoder](https://scikit-learn.org/stable/modules/preprocessing.html#preprocessing-categorical-features), as XGBoost only supports numerical data."
   ]
  },
  {
   "cell_type": "markdown",
   "metadata": {},
   "source": [
    "## Unsupervised Learning"
   ]
  },
  {
   "cell_type": "markdown",
   "metadata": {},
   "source": [
    "In a fraud detection scenario, commonly we will have very few labeled examples, and it's possible that labeling fraud takes a very long time. We would like then to extract information from the unlabeled data we have at hand as well. _Anomaly detection_ is a form of unsupervised learning where we try to identify anomalous examples based solely on their feature characteristics. Random Cut Forest is a state-of-the-art anomaly detection algorithm that is both accurate and scalable. We will train such a model on our training data and evaluate its performance on our test set."
   ]
  },
  {
   "cell_type": "code",
   "execution_count": 6,
   "metadata": {},
   "outputs": [],
   "source": [
    "import boto3\n",
    "import os\n",
    "import sagemaker\n",
    "from sagemaker import get_execution_role\n",
    "from package import config\n",
    "\n",
    "session = sagemaker.Session()\n",
    "bucket = config.MODEL_DATA_S3_BUCKET\n",
    "prefix = 'fraud-classifier'"
   ]
  },
  {
   "cell_type": "code",
   "execution_count": 7,
   "metadata": {},
   "outputs": [],
   "source": [
    "from sagemaker import RandomCutForest\n",
    "\n",
    "# specify general training job information\n",
    "rcf = RandomCutForest(role=get_execution_role(),\n",
    "                      train_instance_count=1,\n",
    "                      train_instance_type='ml.c4.xlarge',\n",
    "                      data_location='s3://{}/{}/'.format(bucket, prefix),\n",
    "                      output_path='s3://{}/{}/output'.format(bucket, prefix),\n",
    "                      num_samples_per_tree=512,\n",
    "                      num_trees=50)"
   ]
  },
  {
   "cell_type": "markdown",
   "metadata": {
    "pycharm": {
     "name": "#%% md\n"
    }
   },
   "source": [
    "Now we are ready to fit the model. The below cell should take around 5 minutes to complete."
   ]
  },
  {
   "cell_type": "code",
   "execution_count": 8,
   "metadata": {
    "pycharm": {
     "name": "#%%\n"
    }
   },
   "outputs": [
    {
     "name": "stderr",
     "output_type": "stream",
     "text": [
      "'get_image_uri' method will be deprecated in favor of 'ImageURIProvider' class in SageMaker Python SDK v2.\n",
      "'s3_input' class will be renamed to 'TrainingInput' in SageMaker Python SDK v2.\n",
      "'get_image_uri' method will be deprecated in favor of 'ImageURIProvider' class in SageMaker Python SDK v2.\n"
     ]
    },
    {
     "name": "stdout",
     "output_type": "stream",
     "text": [
      "2020-09-21 15:40:05 Starting - Starting the training job...\n",
      "2020-09-21 15:40:07 Starting - Launching requested ML instances............\n",
      "2020-09-21 15:42:06 Starting - Preparing the instances for training...\n",
      "2020-09-21 15:42:52 Downloading - Downloading input data...\n",
      "2020-09-21 15:43:10 Training - Downloading the training image...\n",
      "2020-09-21 15:44:05 Training - Training image download completed. Training in progress..\u001b[34mDocker entrypoint called with argument(s): train\u001b[0m\n",
      "\u001b[34mRunning default environment configuration script\u001b[0m\n",
      "\u001b[34m/opt/amazon/lib/python2.7/site-packages/scipy/_lib/_numpy_compat.py:10: DeprecationWarning: Importing from numpy.testing.nosetester is deprecated, import from numpy.testing instead.\n",
      "  from numpy.testing.nosetester import import_nose\u001b[0m\n",
      "\u001b[34m/opt/amazon/lib/python2.7/site-packages/scipy/stats/morestats.py:12: DeprecationWarning: Importing from numpy.testing.decorators is deprecated, import from numpy.testing instead.\n",
      "  from numpy.testing.decorators import setastest\u001b[0m\n",
      "\u001b[34m[09/21/2020 15:44:11 INFO 140665595836224] Reading default configuration from /opt/amazon/lib/python2.7/site-packages/algorithm/resources/default-conf.json: {u'_ftp_port': 8999, u'num_samples_per_tree': 256, u'_tuning_objective_metric': u'', u'_num_gpus': u'auto', u'_log_level': u'info', u'_kvstore': u'dist_async', u'force_dense': u'true', u'epochs': 1, u'num_trees': 100, u'eval_metrics': [u'accuracy', u'precision_recall_fscore'], u'_num_kv_servers': u'auto', u'mini_batch_size': 1000}\u001b[0m\n",
      "\u001b[34m[09/21/2020 15:44:11 INFO 140665595836224] Merging with provided configuration from /opt/ml/input/config/hyperparameters.json: {u'mini_batch_size': u'1000', u'feature_dim': u'30', u'num_samples_per_tree': u'512', u'num_trees': u'50'}\u001b[0m\n",
      "\u001b[34m[09/21/2020 15:44:11 INFO 140665595836224] Final configuration: {u'_ftp_port': 8999, u'num_samples_per_tree': u'512', u'_tuning_objective_metric': u'', u'_num_gpus': u'auto', u'_log_level': u'info', u'_kvstore': u'dist_async', u'force_dense': u'true', u'epochs': 1, u'feature_dim': u'30', u'num_trees': u'50', u'eval_metrics': [u'accuracy', u'precision_recall_fscore'], u'_num_kv_servers': u'auto', u'mini_batch_size': u'1000'}\u001b[0m\n",
      "\u001b[34m[09/21/2020 15:44:11 WARNING 140665595836224] Loggers have already been setup.\u001b[0m\n",
      "\u001b[34m[09/21/2020 15:44:11 INFO 140665595836224] Launching parameter server for role scheduler\u001b[0m\n",
      "\u001b[34m[09/21/2020 15:44:11 INFO 140665595836224] {'ECS_CONTAINER_METADATA_URI': 'http://169.254.170.2/v3/9d40ded5-85fc-4a6a-a49f-ff1a5989aede', 'ECS_CONTAINER_METADATA_URI_V4': 'http://169.254.170.2/v4/9d40ded5-85fc-4a6a-a49f-ff1a5989aede', 'PROTOCOL_BUFFERS_PYTHON_IMPLEMENTATION_VERSION': '2', 'PATH': '/opt/amazon/bin:/usr/local/nvidia/bin:/usr/local/sbin:/usr/local/bin:/usr/sbin:/usr/bin:/sbin:/bin:/opt/amazon/bin:/opt/amazon/bin', 'SAGEMAKER_HTTP_PORT': '8080', 'HOME': '/root', 'PYTHONUNBUFFERED': 'TRUE', 'CANONICAL_ENVROOT': '/opt/amazon', 'LD_LIBRARY_PATH': '/opt/amazon/lib/python2.7/site-packages/cv2/../../../../lib:/usr/local/nvidia/lib64:/opt/amazon/lib', 'MXNET_KVSTORE_BIGARRAY_BOUND': '400000000', 'LANG': 'en_US.utf8', 'DMLC_INTERFACE': 'eth0', 'SHLVL': '1', 'AWS_REGION': 'us-east-1', 'SAGEMAKER_METRICS_DIRECTORY': '/opt/ml/output/metrics/sagemaker', 'NVIDIA_VISIBLE_DEVICES': 'void', 'TRAINING_JOB_NAME': 'randomcutforest-2020-09-21-15-40-04-974', 'PROTOCOL_BUFFERS_PYTHON_IMPLEMENTATION': 'cpp', 'ENVROOT': '/opt/amazon', 'SAGEMAKER_DATA_PATH': '/opt/ml', 'NVIDIA_DRIVER_CAPABILITIES': 'compute,utility', 'NVIDIA_REQUIRE_CUDA': 'cuda>=9.0', 'OMP_NUM_THREADS': '2', 'HOSTNAME': 'ip-10-2-157-240.ec2.internal', 'AWS_CONTAINER_CREDENTIALS_RELATIVE_URI': '/v2/credentials/fe5369fa-e2ac-4f10-bfdf-f6fa510ef326', 'PWD': '/', 'TRAINING_JOB_ARN': 'arn:aws:sagemaker:us-east-1:508172423638:training-job/randomcutforest-2020-09-21-15-40-04-974', 'AWS_EXECUTION_ENV': 'AWS_ECS_EC2'}\u001b[0m\n",
      "\u001b[34m[09/21/2020 15:44:11 INFO 140665595836224] envs={'ECS_CONTAINER_METADATA_URI': 'http://169.254.170.2/v3/9d40ded5-85fc-4a6a-a49f-ff1a5989aede', 'ECS_CONTAINER_METADATA_URI_V4': 'http://169.254.170.2/v4/9d40ded5-85fc-4a6a-a49f-ff1a5989aede', 'PROTOCOL_BUFFERS_PYTHON_IMPLEMENTATION_VERSION': '2', 'DMLC_NUM_WORKER': '1', 'DMLC_PS_ROOT_PORT': '9000', 'PATH': '/opt/amazon/bin:/usr/local/nvidia/bin:/usr/local/sbin:/usr/local/bin:/usr/sbin:/usr/bin:/sbin:/bin:/opt/amazon/bin:/opt/amazon/bin', 'SAGEMAKER_HTTP_PORT': '8080', 'HOME': '/root', 'PYTHONUNBUFFERED': 'TRUE', 'CANONICAL_ENVROOT': '/opt/amazon', 'LD_LIBRARY_PATH': '/opt/amazon/lib/python2.7/site-packages/cv2/../../../../lib:/usr/local/nvidia/lib64:/opt/amazon/lib', 'MXNET_KVSTORE_BIGARRAY_BOUND': '400000000', 'LANG': 'en_US.utf8', 'DMLC_INTERFACE': 'eth0', 'SHLVL': '1', 'DMLC_PS_ROOT_URI': '10.2.157.240', 'AWS_REGION': 'us-east-1', 'SAGEMAKER_METRICS_DIRECTORY': '/opt/ml/output/metrics/sagemaker', 'NVIDIA_VISIBLE_DEVICES': 'void', 'TRAINING_JOB_NAME': 'randomcutforest-2020-09-21-15-40-04-974', 'PROTOCOL_BUFFERS_PYTHON_IMPLEMENTATION': 'cpp', 'ENVROOT': '/opt/amazon', 'SAGEMAKER_DATA_PATH': '/opt/ml', 'NVIDIA_DRIVER_CAPABILITIES': 'compute,utility', 'NVIDIA_REQUIRE_CUDA': 'cuda>=9.0', 'OMP_NUM_THREADS': '2', 'HOSTNAME': 'ip-10-2-157-240.ec2.internal', 'AWS_CONTAINER_CREDENTIALS_RELATIVE_URI': '/v2/credentials/fe5369fa-e2ac-4f10-bfdf-f6fa510ef326', 'DMLC_ROLE': 'scheduler', 'PWD': '/', 'DMLC_NUM_SERVER': '1', 'TRAINING_JOB_ARN': 'arn:aws:sagemaker:us-east-1:508172423638:training-job/randomcutforest-2020-09-21-15-40-04-974', 'AWS_EXECUTION_ENV': 'AWS_ECS_EC2'}\u001b[0m\n",
      "\u001b[34m[09/21/2020 15:44:11 INFO 140665595836224] Launching parameter server for role server\u001b[0m\n",
      "\u001b[34m[09/21/2020 15:44:11 INFO 140665595836224] {'ECS_CONTAINER_METADATA_URI': 'http://169.254.170.2/v3/9d40ded5-85fc-4a6a-a49f-ff1a5989aede', 'ECS_CONTAINER_METADATA_URI_V4': 'http://169.254.170.2/v4/9d40ded5-85fc-4a6a-a49f-ff1a5989aede', 'PROTOCOL_BUFFERS_PYTHON_IMPLEMENTATION_VERSION': '2', 'PATH': '/opt/amazon/bin:/usr/local/nvidia/bin:/usr/local/sbin:/usr/local/bin:/usr/sbin:/usr/bin:/sbin:/bin:/opt/amazon/bin:/opt/amazon/bin', 'SAGEMAKER_HTTP_PORT': '8080', 'HOME': '/root', 'PYTHONUNBUFFERED': 'TRUE', 'CANONICAL_ENVROOT': '/opt/amazon', 'LD_LIBRARY_PATH': '/opt/amazon/lib/python2.7/site-packages/cv2/../../../../lib:/usr/local/nvidia/lib64:/opt/amazon/lib', 'MXNET_KVSTORE_BIGARRAY_BOUND': '400000000', 'LANG': 'en_US.utf8', 'DMLC_INTERFACE': 'eth0', 'SHLVL': '1', 'AWS_REGION': 'us-east-1', 'SAGEMAKER_METRICS_DIRECTORY': '/opt/ml/output/metrics/sagemaker', 'NVIDIA_VISIBLE_DEVICES': 'void', 'TRAINING_JOB_NAME': 'randomcutforest-2020-09-21-15-40-04-974', 'PROTOCOL_BUFFERS_PYTHON_IMPLEMENTATION': 'cpp', 'ENVROOT': '/opt/amazon', 'SAGEMAKER_DATA_PATH': '/opt/ml', 'NVIDIA_DRIVER_CAPABILITIES': 'compute,utility', 'NVIDIA_REQUIRE_CUDA': 'cuda>=9.0', 'OMP_NUM_THREADS': '2', 'HOSTNAME': 'ip-10-2-157-240.ec2.internal', 'AWS_CONTAINER_CREDENTIALS_RELATIVE_URI': '/v2/credentials/fe5369fa-e2ac-4f10-bfdf-f6fa510ef326', 'PWD': '/', 'TRAINING_JOB_ARN': 'arn:aws:sagemaker:us-east-1:508172423638:training-job/randomcutforest-2020-09-21-15-40-04-974', 'AWS_EXECUTION_ENV': 'AWS_ECS_EC2'}\u001b[0m\n",
      "\u001b[34m[09/21/2020 15:44:11 INFO 140665595836224] envs={'ECS_CONTAINER_METADATA_URI': 'http://169.254.170.2/v3/9d40ded5-85fc-4a6a-a49f-ff1a5989aede', 'ECS_CONTAINER_METADATA_URI_V4': 'http://169.254.170.2/v4/9d40ded5-85fc-4a6a-a49f-ff1a5989aede', 'PROTOCOL_BUFFERS_PYTHON_IMPLEMENTATION_VERSION': '2', 'DMLC_NUM_WORKER': '1', 'DMLC_PS_ROOT_PORT': '9000', 'PATH': '/opt/amazon/bin:/usr/local/nvidia/bin:/usr/local/sbin:/usr/local/bin:/usr/sbin:/usr/bin:/sbin:/bin:/opt/amazon/bin:/opt/amazon/bin', 'SAGEMAKER_HTTP_PORT': '8080', 'HOME': '/root', 'PYTHONUNBUFFERED': 'TRUE', 'CANONICAL_ENVROOT': '/opt/amazon', 'LD_LIBRARY_PATH': '/opt/amazon/lib/python2.7/site-packages/cv2/../../../../lib:/usr/local/nvidia/lib64:/opt/amazon/lib', 'MXNET_KVSTORE_BIGARRAY_BOUND': '400000000', 'LANG': 'en_US.utf8', 'DMLC_INTERFACE': 'eth0', 'SHLVL': '1', 'DMLC_PS_ROOT_URI': '10.2.157.240', 'AWS_REGION': 'us-east-1', 'SAGEMAKER_METRICS_DIRECTORY': '/opt/ml/output/metrics/sagemaker', 'NVIDIA_VISIBLE_DEVICES': 'void', 'TRAINING_JOB_NAME': 'randomcutforest-2020-09-21-15-40-04-974', 'PROTOCOL_BUFFERS_PYTHON_IMPLEMENTATION': 'cpp', 'ENVROOT': '/opt/amazon', 'SAGEMAKER_DATA_PATH': '/opt/ml', 'NVIDIA_DRIVER_CAPABILITIES': 'compute,utility', 'NVIDIA_REQUIRE_CUDA': 'cuda>=9.0', 'OMP_NUM_THREADS': '2', 'HOSTNAME': 'ip-10-2-157-240.ec2.internal', 'AWS_CONTAINER_CREDENTIALS_RELATIVE_URI': '/v2/credentials/fe5369fa-e2ac-4f10-bfdf-f6fa510ef326', 'DMLC_ROLE': 'server', 'PWD': '/', 'DMLC_NUM_SERVER': '1', 'TRAINING_JOB_ARN': 'arn:aws:sagemaker:us-east-1:508172423638:training-job/randomcutforest-2020-09-21-15-40-04-974', 'AWS_EXECUTION_ENV': 'AWS_ECS_EC2'}\u001b[0m\n",
      "\u001b[34m[09/21/2020 15:44:11 INFO 140665595836224] Environment: {'ECS_CONTAINER_METADATA_URI': 'http://169.254.170.2/v3/9d40ded5-85fc-4a6a-a49f-ff1a5989aede', 'ECS_CONTAINER_METADATA_URI_V4': 'http://169.254.170.2/v4/9d40ded5-85fc-4a6a-a49f-ff1a5989aede', 'PROTOCOL_BUFFERS_PYTHON_IMPLEMENTATION_VERSION': '2', 'DMLC_PS_ROOT_PORT': '9000', 'DMLC_NUM_WORKER': '1', 'SAGEMAKER_HTTP_PORT': '8080', 'PATH': '/opt/amazon/bin:/usr/local/nvidia/bin:/usr/local/sbin:/usr/local/bin:/usr/sbin:/usr/bin:/sbin:/bin:/opt/amazon/bin:/opt/amazon/bin', 'PYTHONUNBUFFERED': 'TRUE', 'CANONICAL_ENVROOT': '/opt/amazon', 'LD_LIBRARY_PATH': '/opt/amazon/lib/python2.7/site-packages/cv2/../../../../lib:/usr/local/nvidia/lib64:/opt/amazon/lib', 'MXNET_KVSTORE_BIGARRAY_BOUND': '400000000', 'LANG': 'en_US.utf8', 'DMLC_INTERFACE': 'eth0', 'SHLVL': '1', 'DMLC_PS_ROOT_URI': '10.2.157.240', 'AWS_REGION': 'us-east-1', 'SAGEMAKER_METRICS_DIRECTORY': '/opt/ml/output/metrics/sagemaker', 'NVIDIA_VISIBLE_DEVICES': 'void', 'TRAINING_JOB_NAME': 'randomcutforest-2020-09-21-15-40-04-974', 'HOME': '/root', 'PROTOCOL_BUFFERS_PYTHON_IMPLEMENTATION': 'cpp', 'ENVROOT': '/opt/amazon', 'SAGEMAKER_DATA_PATH': '/opt/ml', 'NVIDIA_DRIVER_CAPABILITIES': 'compute,utility', 'NVIDIA_REQUIRE_CUDA': 'cuda>=9.0', 'OMP_NUM_THREADS': '2', 'HOSTNAME': 'ip-10-2-157-240.ec2.internal', 'AWS_CONTAINER_CREDENTIALS_RELATIVE_URI': '/v2/credentials/fe5369fa-e2ac-4f10-bfdf-f6fa510ef326', 'DMLC_ROLE': 'worker', 'PWD': '/', 'DMLC_NUM_SERVER': '1', 'TRAINING_JOB_ARN': 'arn:aws:sagemaker:us-east-1:508172423638:training-job/randomcutforest-2020-09-21-15-40-04-974', 'AWS_EXECUTION_ENV': 'AWS_ECS_EC2'}\u001b[0m\n",
      "\u001b[34mProcess 33 is a shell:scheduler.\u001b[0m\n",
      "\u001b[34mProcess 34 is a shell:server.\u001b[0m\n",
      "\u001b[34mProcess 1 is a worker.\u001b[0m\n",
      "\u001b[34m[09/21/2020 15:44:11 INFO 140665595836224] Using default worker.\u001b[0m\n",
      "\u001b[34m[09/21/2020 15:44:11 INFO 140665595836224] Loaded iterator creator application/x-recordio-protobuf for content type ('application/x-recordio-protobuf', '1.0')\u001b[0m\n",
      "\u001b[34m[09/21/2020 15:44:11 INFO 140665595836224] Checkpoint loading and saving are disabled.\u001b[0m\n",
      "\u001b[34m[09/21/2020 15:44:11 INFO 140665595836224] Verifying hyperparamemters...\u001b[0m\n",
      "\u001b[34m[09/21/2020 15:44:11 INFO 140665595836224] Hyperparameters are correct.\u001b[0m\n",
      "\u001b[34m[09/21/2020 15:44:11 INFO 140665595836224] Validating that feature_dim agrees with dimensions in training data...\u001b[0m\n",
      "\u001b[34m[09/21/2020 15:44:11 INFO 140665595836224] feature_dim is correct.\u001b[0m\n",
      "\u001b[34m[09/21/2020 15:44:11 INFO 140665595836224] Validating memory limits...\u001b[0m\n",
      "\u001b[34m[09/21/2020 15:44:11 INFO 140665595836224] Available memory in bytes: 6327209984\u001b[0m\n",
      "\u001b[34m[09/21/2020 15:44:11 INFO 140665595836224] Estimated sample size in bytes: 6144000\u001b[0m\n",
      "\u001b[34m[09/21/2020 15:44:11 INFO 140665595836224] Estimated memory needed to build the forest in bytes: 30720000\u001b[0m\n",
      "\u001b[34m[09/21/2020 15:44:11 INFO 140665595836224] Memory limits validated.\u001b[0m\n",
      "\u001b[34m[09/21/2020 15:44:11 INFO 140665595836224] Starting cluster sharing facilities...\u001b[0m\n",
      "\u001b[34m[I 20-09-21 15:44:11] >>> starting FTP server on 0.0.0.0:8999, pid=1 <<<\u001b[0m\n",
      "\u001b[34m[09/21/2020 15:44:11 INFO 140665595836224] Create Store: dist_async\u001b[0m\n",
      "\u001b[34m[09/21/2020 15:44:11 INFO 140663987361536] >>> starting FTP server on 0.0.0.0:8999, pid=1 <<<\u001b[0m\n",
      "\u001b[34m[I 20-09-21 15:44:11] poller: <class 'pyftpdlib.ioloop.Epoll'>\u001b[0m\n",
      "\u001b[34m[09/21/2020 15:44:11 INFO 140663987361536] poller: <class 'pyftpdlib.ioloop.Epoll'>\u001b[0m\n",
      "\u001b[34m[I 20-09-21 15:44:11] masquerade (NAT) address: None\u001b[0m\n",
      "\u001b[34m[09/21/2020 15:44:11 INFO 140663987361536] masquerade (NAT) address: None\u001b[0m\n",
      "\u001b[34m[I 20-09-21 15:44:11] passive ports: None\u001b[0m\n",
      "\u001b[34m[09/21/2020 15:44:11 INFO 140663987361536] passive ports: None\u001b[0m\n",
      "\u001b[34m[I 20-09-21 15:44:11] use sendfile(2): False\u001b[0m\n",
      "\u001b[34m[09/21/2020 15:44:11 INFO 140663987361536] use sendfile(2): False\u001b[0m\n",
      "\u001b[34m[09/21/2020 15:44:12 INFO 140665595836224] Cluster sharing facilities started.\u001b[0m\n",
      "\u001b[34m[09/21/2020 15:44:12 INFO 140665595836224] Verifying all workers are accessible...\u001b[0m\n",
      "\u001b[34m[09/21/2020 15:44:12 INFO 140665595836224] All workers accessible.\u001b[0m\n",
      "\u001b[34m[09/21/2020 15:44:12 INFO 140665595836224] Initializing Sampler...\u001b[0m\n",
      "\u001b[34m[09/21/2020 15:44:12 INFO 140665595836224] Sampler correctly initialized.\u001b[0m\n",
      "\u001b[34m#metrics {\"Metrics\": {\"initialize.time\": {\"count\": 1, \"max\": 693.6690807342529, \"sum\": 693.6690807342529, \"min\": 693.6690807342529}}, \"EndTime\": 1600703052.245031, \"Dimensions\": {\"Host\": \"algo-1\", \"Operation\": \"training\", \"Algorithm\": \"RandomCutForest\"}, \"StartTime\": 1600703051.536835}\n",
      "\u001b[0m\n",
      "\u001b[34m#metrics {\"Metrics\": {\"Max Batches Seen Between Resets\": {\"count\": 1, \"max\": 0, \"sum\": 0.0, \"min\": 0}, \"Number of Batches Since Last Reset\": {\"count\": 1, \"max\": 0, \"sum\": 0.0, \"min\": 0}, \"Number of Records Since Last Reset\": {\"count\": 1, \"max\": 0, \"sum\": 0.0, \"min\": 0}, \"Total Batches Seen\": {\"count\": 1, \"max\": 0, \"sum\": 0.0, \"min\": 0}, \"Total Records Seen\": {\"count\": 1, \"max\": 0, \"sum\": 0.0, \"min\": 0}, \"Max Records Seen Between Resets\": {\"count\": 1, \"max\": 0, \"sum\": 0.0, \"min\": 0}, \"Reset Count\": {\"count\": 1, \"max\": 0, \"sum\": 0.0, \"min\": 0}}, \"EndTime\": 1600703052.245226, \"Dimensions\": {\"Host\": \"algo-1\", \"Meta\": \"init_train_data_iter\", \"Operation\": \"training\", \"Algorithm\": \"RandomCutForest\"}, \"StartTime\": 1600703052.245195}\n",
      "\u001b[0m\n",
      "\u001b[34m[2020-09-21 15:44:12.245] [tensorio] [info] epoch_stats={\"data_pipeline\": \"/opt/ml/input/data/train\", \"epoch\": 0, \"duration\": 707, \"num_examples\": 1, \"num_bytes\": 148000}\u001b[0m\n",
      "\u001b[34m[09/21/2020 15:44:12 INFO 140665595836224] Sampling training data...\u001b[0m\n",
      "\u001b[34m[2020-09-21 15:44:12.669] [tensorio] [info] epoch_stats={\"data_pipeline\": \"/opt/ml/input/data/train\", \"epoch\": 1, \"duration\": 423, \"num_examples\": 257, \"num_bytes\": 37936248}\u001b[0m\n",
      "\u001b[34m[09/21/2020 15:44:12 INFO 140665595836224] Sampling training data completed.\u001b[0m\n",
      "\u001b[34m#metrics {\"Metrics\": {\"epochs\": {\"count\": 1, \"max\": 1, \"sum\": 1.0, \"min\": 1}, \"update.time\": {\"count\": 1, \"max\": 448.4891891479492, \"sum\": 448.4891891479492, \"min\": 448.4891891479492}}, \"EndTime\": 1600703052.694116, \"Dimensions\": {\"Host\": \"algo-1\", \"Operation\": \"training\", \"Algorithm\": \"RandomCutForest\"}, \"StartTime\": 1600703052.245141}\n",
      "\u001b[0m\n",
      "\u001b[34m[09/21/2020 15:44:12 INFO 140665595836224] Early stop condition met. Stopping training.\u001b[0m\n",
      "\u001b[34m[09/21/2020 15:44:12 INFO 140665595836224] #progress_metric: host=algo-1, completed 100 % epochs\u001b[0m\n",
      "\u001b[34m#metrics {\"Metrics\": {\"Max Batches Seen Between Resets\": {\"count\": 1, \"max\": 257, \"sum\": 257.0, \"min\": 257}, \"Number of Batches Since Last Reset\": {\"count\": 1, \"max\": 257, \"sum\": 257.0, \"min\": 257}, \"Number of Records Since Last Reset\": {\"count\": 1, \"max\": 256326, \"sum\": 256326.0, \"min\": 256326}, \"Total Batches Seen\": {\"count\": 1, \"max\": 257, \"sum\": 257.0, \"min\": 257}, \"Total Records Seen\": {\"count\": 1, \"max\": 256326, \"sum\": 256326.0, \"min\": 256326}, \"Max Records Seen Between Resets\": {\"count\": 1, \"max\": 256326, \"sum\": 256326.0, \"min\": 256326}, \"Reset Count\": {\"count\": 1, \"max\": 1, \"sum\": 1.0, \"min\": 1}}, \"EndTime\": 1600703052.694687, \"Dimensions\": {\"Host\": \"algo-1\", \"Meta\": \"training_data_iter\", \"Operation\": \"training\", \"Algorithm\": \"RandomCutForest\", \"epoch\": 0}, \"StartTime\": 1600703052.245591}\n",
      "\u001b[0m\n",
      "\u001b[34m[09/21/2020 15:44:12 INFO 140665595836224] #throughput_metric: host=algo-1, train throughput=570622.742078 records/second\u001b[0m\n",
      "\u001b[34m[09/21/2020 15:44:12 INFO 140665595836224] Master node: building Random Cut Forest...\u001b[0m\n",
      "\u001b[34m[09/21/2020 15:44:12 INFO 140665595836224] Gathering samples...\u001b[0m\n",
      "\u001b[34m[09/21/2020 15:44:12 INFO 140665595836224] 25600 samples gathered\u001b[0m\n",
      "\u001b[34m[09/21/2020 15:44:12 INFO 140665595836224] Building Random Cut Forest...\u001b[0m\n",
      "\u001b[34m[09/21/2020 15:44:12 INFO 140665595836224] Random Cut Forest built: \n",
      "\u001b[0m\n",
      "\u001b[34mForestInfo{num_trees: 50, num_samples_in_forest: 25600, num_samples_per_tree: 512, sample_dim: 30, shingle_size: 1, trees_num_nodes: [953, 919, 941, 955, 961, 907, 941, 929, 923, 913, 935, 921, 933, 939, 931, 943, 919, 941, 943, 929, 945, 935, 941, 915, 925, 917, 925, 933, 921, 917, 941, 925, 923, 929, 925, 937, 925, 939, 945, 921, 939, 923, 925, 921, 933, 915, 929, 945, 921, 929, ], trees_depth: [20, 19, 20, 19, 23, 20, 22, 23, 20, 18, 22, 21, 25, 21, 22, 25, 24, 22, 24, 20, 21, 25, 24, 21, 23, 25, 24, 24, 22, 21, 26, 24, 26, 20, 24, 22, 19, 21, 23, 20, 25, 20, 22, 21, 20, 21, 19, 24, 22, 19, ], max_num_nodes: 961, min_num_nodes: 907, avg_num_nodes: 930, max_tree_depth: 26, min_tree_depth: 18, avg_tree_depth: 21, mem_size: 26435168}\u001b[0m\n",
      "\u001b[34m#metrics {\"Metrics\": {\"finalize.time\": {\"count\": 1, \"max\": 97.34702110290527, \"sum\": 97.34702110290527, \"min\": 97.34702110290527}, \"model.bytes\": {\"count\": 1, \"max\": 26435168, \"sum\": 26435168.0, \"min\": 26435168}, \"fit_model.time\": {\"count\": 1, \"max\": 67.38901138305664, \"sum\": 67.38901138305664, \"min\": 67.38901138305664}}, \"EndTime\": 1600703052.792304, \"Dimensions\": {\"Host\": \"algo-1\", \"Operation\": \"training\", \"Algorithm\": \"RandomCutForest\"}, \"StartTime\": 1600703052.694215}\n",
      "\u001b[0m\n",
      "\u001b[34m[09/21/2020 15:44:13 INFO 140665595836224] Master node: Serializing the RandomCutForest model\u001b[0m\n",
      "\u001b[34m#metrics {\"Metrics\": {\"serialize_model.time\": {\"count\": 1, \"max\": 616.732120513916, \"sum\": 616.732120513916, \"min\": 616.732120513916}}, \"EndTime\": 1600703053.409174, \"Dimensions\": {\"Host\": \"algo-1\", \"Operation\": \"training\", \"Algorithm\": \"RandomCutForest\"}, \"StartTime\": 1600703052.792388}\n",
      "\u001b[0m\n",
      "\u001b[34m[09/21/2020 15:44:13 INFO 140665595836224] Test data is not provided.\u001b[0m\n",
      "\u001b[34m[I 20-09-21 15:44:13] >>> shutting down FTP server (0 active fds) <<<\u001b[0m\n",
      "\u001b[34m[09/21/2020 15:44:13 INFO 140663987361536] >>> shutting down FTP server (0 active fds) <<<\u001b[0m\n",
      "\u001b[34m#metrics {\"Metrics\": {\"totaltime\": {\"count\": 1, \"max\": 2016.3569450378418, \"sum\": 2016.3569450378418, \"min\": 2016.3569450378418}, \"setuptime\": {\"count\": 1, \"max\": 21.358013153076172, \"sum\": 21.358013153076172, \"min\": 21.358013153076172}}, \"EndTime\": 1600703053.518931, \"Dimensions\": {\"Host\": \"algo-1\", \"Operation\": \"training\", \"Algorithm\": \"RandomCutForest\"}, \"StartTime\": 1600703053.409253}\n",
      "\u001b[0m\n",
      "\n",
      "2020-09-21 15:44:16 Uploading - Uploading generated training model\n",
      "2020-09-21 15:44:43 Completed - Training job completed\n",
      "Training seconds: 111\n",
      "Billable seconds: 111\n"
     ]
    }
   ],
   "source": [
    "rcf.fit(rcf.record_set(X_train))"
   ]
  },
  {
   "cell_type": "markdown",
   "metadata": {},
   "source": [
    "### Host Random Cut Forest"
   ]
  },
  {
   "cell_type": "markdown",
   "metadata": {
    "pycharm": {
     "name": "#%% md\n"
    }
   },
   "source": [
    "Once we have a trained model we can deploy it and get some predictions for our test set. SageMaker will spin up an instance for us and deploy the model, the whole process should take around 10 minutes, you will see progress being made with each `-` and an exclamation point when the process is finished."
   ]
  },
  {
   "cell_type": "code",
   "execution_count": 9,
   "metadata": {},
   "outputs": [
    {
     "name": "stderr",
     "output_type": "stream",
     "text": [
      "Parameter image will be renamed to image_uri in SageMaker Python SDK v2.\n"
     ]
    },
    {
     "name": "stdout",
     "output_type": "stream",
     "text": [
      "------------------!"
     ]
    }
   ],
   "source": [
    "rcf_predictor = rcf.deploy(\n",
    "    model_name=\"{}-rcf\".format(config.STACK_NAME),\n",
    "    endpoint_name=\"{}-rcf\".format(config.STACK_NAME),\n",
    "    initial_instance_count=1,\n",
    "    instance_type='ml.c4.xlarge')"
   ]
  },
  {
   "cell_type": "code",
   "execution_count": 10,
   "metadata": {
    "pycharm": {
     "name": "#%%\n"
    }
   },
   "outputs": [],
   "source": [
    "from sagemaker.predictor import csv_serializer, json_deserializer\n",
    "\n",
    "rcf_predictor.content_type = 'text/csv'\n",
    "rcf_predictor.serializer = csv_serializer\n",
    "rcf_predictor.accept = 'application/json'\n",
    "rcf_predictor.deserializer = json_deserializer"
   ]
  },
  {
   "cell_type": "markdown",
   "metadata": {},
   "source": [
    "### Test Random Cut Forest"
   ]
  },
  {
   "cell_type": "markdown",
   "metadata": {
    "pycharm": {
     "name": "#%% md\n"
    }
   },
   "source": [
    "With the model deployed, let's see how it performs in terms of separating fraudulent from legitimate transactions."
   ]
  },
  {
   "cell_type": "code",
   "execution_count": 11,
   "metadata": {},
   "outputs": [],
   "source": [
    "def predict_rcf(current_predictor, data, rows=500):\n",
    "    split_array = np.array_split(data, int(data.shape[0] / float(rows) + 1))\n",
    "    predictions = []\n",
    "    for array in split_array:\n",
    "        array_preds = [s['score'] for s in current_predictor.predict(array)['scores']]\n",
    "        predictions.append(array_preds)\n",
    "\n",
    "    return np.concatenate([np.array(batch) for batch in predictions])"
   ]
  },
  {
   "cell_type": "code",
   "execution_count": 12,
   "metadata": {},
   "outputs": [],
   "source": [
    "positives = X_test[y_test == 1]\n",
    "positives_scores = predict_rcf(rcf_predictor, positives)\n",
    "\n",
    "negatives = X_test[y_test == 0]\n",
    "negatives_scores = predict_rcf(rcf_predictor, negatives)"
   ]
  },
  {
   "cell_type": "code",
   "execution_count": 13,
   "metadata": {},
   "outputs": [],
   "source": [
    "import seaborn as sns\n",
    "import matplotlib.pyplot as plt\n",
    "sns.set(color_codes=True)"
   ]
  },
  {
   "cell_type": "code",
   "execution_count": 14,
   "metadata": {
    "pycharm": {
     "name": "#%%\n"
    }
   },
   "outputs": [
    {
     "data": {
      "text/plain": [
       "<matplotlib.legend.Legend at 0x7f4b26cdedd8>"
      ]
     },
     "execution_count": 14,
     "metadata": {},
     "output_type": "execute_result"
    },
    {
     "data": {
      "image/png": "[encoded data removed]",
      "text/plain": [
       "<Figure size 432x288 with 1 Axes>"
      ]
     },
     "metadata": {},
     "output_type": "display_data"
    }
   ],
   "source": [
    "sns.distplot(positives_scores, label='fraud', bins=20)\n",
    "sns.distplot(negatives_scores, label='not-fraud', bins=20)\n",
    "plt.legend()"
   ]
  },
  {
   "cell_type": "markdown",
   "metadata": {},
   "source": [
    "The unsupervised model already can achieve some separation between the classes, with higher anomaly scores being correlated to fraud."
   ]
  },
  {
   "cell_type": "markdown",
   "metadata": {},
   "source": [
    "## Supervised Learning"
   ]
  },
  {
   "cell_type": "markdown",
   "metadata": {},
   "source": [
    "Once we have gathered an adequate amount of labeled training data, we can use a supervised learning algorithm that discovers relationships between the features and the dependent class.\n",
    "\n",
    "We will use Gradient Boosted Trees as our model, as they have a proven track record, are highly scalable and can deal with missing data, reducing the need to pre-process datasets."
   ]
  },
  {
   "cell_type": "markdown",
   "metadata": {},
   "source": [
    "### Prepare Data and Upload to S3"
   ]
  },
  {
   "cell_type": "markdown",
   "metadata": {
    "pycharm": {
     "name": "#%% md\n"
    }
   },
   "source": [
    "First we copy the data to an in-memory buffer."
   ]
  },
  {
   "cell_type": "code",
   "execution_count": 15,
   "metadata": {
    "pycharm": {
     "name": "#%%\n"
    }
   },
   "outputs": [],
   "source": [
    "import io\n",
    "import sklearn\n",
    "from sklearn.datasets import dump_svmlight_file   \n",
    "\n",
    "buf = io.BytesIO()\n",
    "\n",
    "sklearn.datasets.dump_svmlight_file(X_train, y_train, buf)\n",
    "buf.seek(0);"
   ]
  },
  {
   "cell_type": "markdown",
   "metadata": {
    "pycharm": {
     "name": "#%% md\n"
    }
   },
   "source": [
    "Now we upload the data to S3 using boto3."
   ]
  },
  {
   "cell_type": "code",
   "execution_count": 16,
   "metadata": {
    "pycharm": {
     "name": "#%%\n"
    }
   },
   "outputs": [
    {
     "name": "stdout",
     "output_type": "stream",
     "text": [
      "Uploaded training data location: s3://sagemaker-fraud-machine-learning-modeldatabucket-14xyy5p17ag8g/fraud-classifier/train/base/fraud-dataset\n",
      "Training artifacts will be uploaded to: s3://sagemaker-fraud-machine-learning-modeldatabucket-14xyy5p17ag8g/fraud-classifier/output\n"
     ]
    }
   ],
   "source": [
    "key = 'fraud-dataset'\n",
    "subdir = 'base'\n",
    "boto3.resource('s3').Bucket(bucket).Object(os.path.join(prefix, 'train', subdir, key)).upload_fileobj(buf)\n",
    "\n",
    "s3_train_data = 's3://{}/{}/train/{}/{}'.format(bucket, prefix, subdir, key)\n",
    "print('Uploaded training data location: {}'.format(s3_train_data))\n",
    "\n",
    "output_location = 's3://{}/{}/output'.format(bucket, prefix)\n",
    "print('Training artifacts will be uploaded to: {}'.format(output_location))"
   ]
  },
  {
   "cell_type": "markdown",
   "metadata": {
    "pycharm": {
     "name": "#%% md\n"
    }
   },
   "source": [
    "We can now train using SageMaker's built-in XGBoost algorithm. To specify the XGBoost algorithm, we use a utility function to obtain its URI. A complete list of built-in algorithms is found here: https://docs.aws.amazon.com/sagemaker/latest/dg/algos.html"
   ]
  },
  {
   "cell_type": "code",
   "execution_count": 17,
   "metadata": {
    "pycharm": {
     "name": "#%%\n"
    }
   },
   "outputs": [
    {
     "name": "stderr",
     "output_type": "stream",
     "text": [
      "'get_image_uri' method will be deprecated in favor of 'ImageURIProvider' class in SageMaker Python SDK v2.\n",
      "WARNING:root:There is a more up to date SageMaker XGBoost image. To use the newer image, please set 'repo_version'='1.0-1'. For example:\n",
      "\tget_image_uri(region, 'xgboost', '1.0-1').\n"
     ]
    }
   ],
   "source": [
    "from sagemaker.amazon.amazon_estimator import get_image_uri\n",
    "\n",
    "container = get_image_uri(boto3.Session().region_name, 'xgboost', repo_version='0.90-2')"
   ]
  },
  {
   "cell_type": "markdown",
   "metadata": {
    "pycharm": {
     "name": "#%% md\n"
    }
   },
   "source": [
    "SageMaker abstracts training via Estimators. We can pass the classifier and parameters along with hyperparameters to the estimator, and fit the estimator to the data in S3. An important parameter here is `scale_pos_weight` which scales the weights of the positive vs. negative class examples. This is crucial to do in an imbalanced dataset like the one we are using here, otherwise the majority class would dominate the learning."
   ]
  },
  {
   "cell_type": "code",
   "execution_count": 18,
   "metadata": {
    "pycharm": {
     "name": "#%%\n"
    },
    "scrolled": true
   },
   "outputs": [],
   "source": [
    "from math import sqrt\n",
    "from sagemaker import get_execution_role\n",
    "\n",
    "# Because the data set is so highly skewed, we set the scale position weight conservatively,\n",
    "# as sqrt(num_nonfraud/num_fraud).\n",
    "# Other recommendations for the scale_pos_weight are setting it to (num_nonfraud/num_fraud).\n",
    "scale_pos_weight = sqrt(np.count_nonzero(y_train==0)/np.count_nonzero(y_train))\n",
    "hyperparams = {\n",
    "    \"max_depth\":5,\n",
    "    \"subsample\":0.8,\n",
    "    \"num_round\":100,\n",
    "    \"eta\":0.2,\n",
    "    \"gamma\":4,\n",
    "    \"min_child_weight\":6,\n",
    "    \"silent\":0,\n",
    "    \"objective\":'binary:logistic',\n",
    "    \"eval_metric\":'auc',\n",
    "    \"scale_pos_weight\": scale_pos_weight\n",
    "}"
   ]
  },
  {
   "cell_type": "markdown",
   "metadata": {},
   "source": [
    "Let us explain the hyper-parameters used above. The one that's very relevant for learning from skewed data is `scale_pos_weight`. This is a ratio that weighs the examples of the positive class (fraud) against the negative class (legitimate). Commonly this is set to `(num_nonfraud/num_fraud)`, but our data is exteremely skewed so we will set it to `sqrt(num_nonfraud/num_fraud)`.  For the data in this example, this would be `sqrt(284,807/492)` which would give our fraud examples a weight of ~24.\n",
    "\n",
    "The rest of the hyper-parameters are as follows:\n",
    "\n",
    "* `max_depth`: This is the maximum depth of the trees that will be built for our ensemble. A max depth of 5 will give us trees with up to 32 leaves. Note that tree size grows exponentially when increasing this parameter (`num_leaves=2^max_depth`), so a max depth of 10 would give us trees with 1024 leaves, which are likely to overfit.\n",
    "* `subsample`: The subsample ratio that we use to select a subset of the complete data to train each tree in the ensemble. With a value of 0.8, each tree is trained on a random sample containing 80% of the complete data. This is used to prevent overfitting.\n",
    "* `num_round`: This is the size of the ensemble. We will for 100 \"rounds\", each training round adding a new tree to the ensemble.\n",
    "* `eta`: This is the step size shrinkage applied at each update. This value will shrink the weights of new features to prevent overfitting.\n",
    "* `gamma`: This is the minimum loss reduction to reach before splitting a leaf. Splitting a leaf can sometimes have a small benefit, and splitting such leaves can lead to overfitting. By setting `gamma` to values larger than zero, we ensure that there should be at least some non-negligible amount of accuracy gain before splitting a leaf.\n",
    "* `min_child_weight`: This parameter has a similar effect to gamma, setting it to higher values means we'll wait until enough gain will be possible before splitting a leaf.\n",
    "* `objective`: We are doing binary classification, so we use a logistic loss objective.\n",
    "* `eval_metric`: Having a good evaluation metric is crucial when dealing with imbalanced data (see discussion below). We use AUC here."
   ]
  },
  {
   "cell_type": "code",
   "execution_count": 19,
   "metadata": {},
   "outputs": [
    {
     "name": "stderr",
     "output_type": "stream",
     "text": [
      "WARNING:root:Parameter image_name will be renamed to image_uri in SageMaker Python SDK v2.\n"
     ]
    }
   ],
   "source": [
    "clf = sagemaker.estimator.Estimator(container,\n",
    "                                    get_execution_role(),\n",
    "                                    hyperparameters=hyperparams,\n",
    "                                    train_instance_count=1, \n",
    "                                    train_instance_type='ml.m4.xlarge',\n",
    "                                    output_path=output_location,\n",
    "                                    sagemaker_session=session)"
   ]
  },
  {
   "cell_type": "markdown",
   "metadata": {},
   "source": [
    "We can now fit our supervised training model, the call to fit below should take around 5 minutes to complete."
   ]
  },
  {
   "cell_type": "code",
   "execution_count": 20,
   "metadata": {
    "pycharm": {
     "name": "#%%\n"
    }
   },
   "outputs": [
    {
     "name": "stderr",
     "output_type": "stream",
     "text": [
      "WARNING:sagemaker:'s3_input' class will be renamed to 'TrainingInput' in SageMaker Python SDK v2.\n"
     ]
    },
    {
     "name": "stdout",
     "output_type": "stream",
     "text": [
      "2020-09-21 15:55:27 Starting - Starting the training job...\n",
      "2020-09-21 15:55:29 Starting - Launching requested ML instances............\n",
      "2020-09-21 15:57:30 Starting - Preparing the instances for training...\n",
      "2020-09-21 15:58:19 Downloading - Downloading input data......\n",
      "2020-09-21 15:59:23 Training - Training image download completed. Training in progress..\u001b[34mINFO:sagemaker-containers:Imported framework sagemaker_xgboost_container.training\u001b[0m\n",
      "\u001b[34mINFO:sagemaker-containers:Failed to parse hyperparameter eval_metric value auc to Json.\u001b[0m\n",
      "\u001b[34mReturning the value itself\u001b[0m\n",
      "\u001b[34mINFO:sagemaker-containers:Failed to parse hyperparameter objective value binary:logistic to Json.\u001b[0m\n",
      "\u001b[34mReturning the value itself\u001b[0m\n",
      "\u001b[34mINFO:sagemaker-containers:No GPUs detected (normal if no gpus installed)\u001b[0m\n",
      "\u001b[34mINFO:sagemaker_xgboost_container.training:Running XGBoost Sagemaker in algorithm mode\u001b[0m\n",
      "\u001b[34m[15:59:25] 256326x30 matrix with 7688153 entries loaded from /opt/ml/input/data/train\u001b[0m\n",
      "\u001b[34mINFO:root:Single node training.\u001b[0m\n",
      "\u001b[34mINFO:root:Train matrix has 256326 rows\u001b[0m\n",
      "\u001b[34m[0]#011train-auc:0.949304\u001b[0m\n",
      "\u001b[34m[1]#011train-auc:0.970153\u001b[0m\n",
      "\u001b[34m[2]#011train-auc:0.976339\u001b[0m\n",
      "\u001b[34m[3]#011train-auc:0.979237\u001b[0m\n",
      "\u001b[34m[4]#011train-auc:0.979121\u001b[0m\n",
      "\u001b[34m[5]#011train-auc:0.982229\u001b[0m\n",
      "\u001b[34m[6]#011train-auc:0.982265\u001b[0m\n",
      "\u001b[34m[7]#011train-auc:0.982364\u001b[0m\n",
      "\u001b[34m[8]#011train-auc:0.982511\u001b[0m\n",
      "\u001b[34m[9]#011train-auc:0.984091\u001b[0m\n",
      "\u001b[34m[10]#011train-auc:0.985393\u001b[0m\n",
      "\u001b[34m[11]#011train-auc:0.986369\u001b[0m\n",
      "\u001b[34m[12]#011train-auc:0.992521\u001b[0m\n",
      "\u001b[34m[13]#011train-auc:0.992637\u001b[0m\n",
      "\u001b[34m[14]#011train-auc:0.993284\u001b[0m\n",
      "\u001b[34m[15]#011train-auc:0.994226\u001b[0m\n",
      "\u001b[34m[16]#011train-auc:0.996567\u001b[0m\n",
      "\u001b[34m[17]#011train-auc:0.997222\u001b[0m\n",
      "\u001b[34m[18]#011train-auc:0.99788\u001b[0m\n",
      "\u001b[34m[19]#011train-auc:0.99883\u001b[0m\n",
      "\u001b[34m[20]#011train-auc:0.998995\u001b[0m\n",
      "\u001b[34m[21]#011train-auc:0.999144\u001b[0m\n",
      "\u001b[34m[22]#011train-auc:0.999097\u001b[0m\n",
      "\u001b[34m[23]#011train-auc:0.999722\u001b[0m\n",
      "\u001b[34m[24]#011train-auc:0.999731\u001b[0m\n",
      "\u001b[34m[25]#011train-auc:0.999838\u001b[0m\n",
      "\u001b[34m[26]#011train-auc:0.999885\u001b[0m\n",
      "\u001b[34m[27]#011train-auc:0.999887\u001b[0m\n",
      "\u001b[34m[28]#011train-auc:0.999902\u001b[0m\n",
      "\u001b[34m[29]#011train-auc:0.999914\u001b[0m\n",
      "\u001b[34m[30]#011train-auc:0.999931\u001b[0m\n",
      "\u001b[34m[31]#011train-auc:0.999936\u001b[0m\n",
      "\u001b[34m[32]#011train-auc:0.999946\u001b[0m\n",
      "\u001b[34m[33]#011train-auc:0.99995\u001b[0m\n",
      "\u001b[34m[34]#011train-auc:0.999957\u001b[0m\n",
      "\u001b[34m[35]#011train-auc:0.999959\u001b[0m\n",
      "\u001b[34m[36]#011train-auc:0.999961\u001b[0m\n",
      "\u001b[34m[37]#011train-auc:0.999962\u001b[0m\n",
      "\u001b[34m[38]#011train-auc:0.999963\u001b[0m\n",
      "\u001b[34m[39]#011train-auc:0.999965\u001b[0m\n",
      "\u001b[34m[40]#011train-auc:0.999966\u001b[0m\n",
      "\u001b[34m[41]#011train-auc:0.99997\u001b[0m\n",
      "\u001b[34m[42]#011train-auc:0.999973\u001b[0m\n",
      "\u001b[34m[43]#011train-auc:0.999975\u001b[0m\n",
      "\u001b[34m[44]#011train-auc:0.999975\u001b[0m\n",
      "\u001b[34m[45]#011train-auc:0.999976\u001b[0m\n",
      "\u001b[34m[46]#011train-auc:0.999979\u001b[0m\n",
      "\u001b[34m[47]#011train-auc:0.999981\u001b[0m\n",
      "\u001b[34m[48]#011train-auc:0.999983\u001b[0m\n",
      "\u001b[34m[49]#011train-auc:0.999983\u001b[0m\n",
      "\u001b[34m[50]#011train-auc:0.999985\u001b[0m\n",
      "\u001b[34m[51]#011train-auc:0.999986\u001b[0m\n",
      "\u001b[34m[52]#011train-auc:0.999987\u001b[0m\n",
      "\u001b[34m[53]#011train-auc:0.999987\u001b[0m\n",
      "\u001b[34m[54]#011train-auc:0.999988\u001b[0m\n",
      "\u001b[34m[55]#011train-auc:0.999988\u001b[0m\n",
      "\u001b[34m[56]#011train-auc:0.999988\u001b[0m\n",
      "\u001b[34m[57]#011train-auc:0.999989\u001b[0m\n",
      "\u001b[34m[58]#011train-auc:0.999989\u001b[0m\n",
      "\u001b[34m[59]#011train-auc:0.999989\u001b[0m\n",
      "\u001b[34m[60]#011train-auc:0.99999\u001b[0m\n",
      "\u001b[34m[61]#011train-auc:0.99999\u001b[0m\n",
      "\u001b[34m[62]#011train-auc:0.99999\u001b[0m\n",
      "\u001b[34m[63]#011train-auc:0.999991\u001b[0m\n",
      "\u001b[34m[64]#011train-auc:0.999992\u001b[0m\n",
      "\u001b[34m[65]#011train-auc:0.999993\u001b[0m\n",
      "\u001b[34m[66]#011train-auc:0.999993\u001b[0m\n",
      "\u001b[34m[67]#011train-auc:0.999993\u001b[0m\n",
      "\u001b[34m[68]#011train-auc:0.999993\u001b[0m\n",
      "\u001b[34m[69]#011train-auc:0.999994\u001b[0m\n",
      "\u001b[34m[70]#011train-auc:0.999993\u001b[0m\n",
      "\u001b[34m[71]#011train-auc:0.999994\u001b[0m\n",
      "\u001b[34m[72]#011train-auc:0.999994\u001b[0m\n",
      "\u001b[34m[73]#011train-auc:0.999995\u001b[0m\n",
      "\u001b[34m[74]#011train-auc:0.999995\u001b[0m\n",
      "\u001b[34m[75]#011train-auc:0.999995\u001b[0m\n",
      "\u001b[34m[76]#011train-auc:0.999996\u001b[0m\n",
      "\u001b[34m[77]#011train-auc:0.999996\u001b[0m\n",
      "\u001b[34m[78]#011train-auc:0.999996\u001b[0m\n",
      "\u001b[34m[79]#011train-auc:0.999996\u001b[0m\n",
      "\u001b[34m[80]#011train-auc:0.999996\u001b[0m\n",
      "\u001b[34m[81]#011train-auc:0.999996\u001b[0m\n",
      "\u001b[34m[82]#011train-auc:0.999997\u001b[0m\n",
      "\u001b[34m[83]#011train-auc:0.999997\u001b[0m\n",
      "\u001b[34m[84]#011train-auc:0.999997\u001b[0m\n",
      "\u001b[34m[85]#011train-auc:0.999997\u001b[0m\n",
      "\u001b[34m[86]#011train-auc:0.999997\u001b[0m\n",
      "\u001b[34m[87]#011train-auc:0.999997\u001b[0m\n",
      "\u001b[34m[88]#011train-auc:0.999998\u001b[0m\n",
      "\u001b[34m[89]#011train-auc:0.999998\u001b[0m\n",
      "\u001b[34m[90]#011train-auc:0.999998\u001b[0m\n",
      "\u001b[34m[91]#011train-auc:0.999998\u001b[0m\n",
      "\u001b[34m[92]#011train-auc:0.999998\u001b[0m\n",
      "\u001b[34m[93]#011train-auc:0.999998\u001b[0m\n",
      "\u001b[34m[94]#011train-auc:0.999998\u001b[0m\n",
      "\u001b[34m[95]#011train-auc:0.999998\u001b[0m\n",
      "\u001b[34m[96]#011train-auc:0.999998\u001b[0m\n",
      "\u001b[34m[97]#011train-auc:0.999998\u001b[0m\n",
      "\u001b[34m[98]#011train-auc:0.999998\u001b[0m\n",
      "\u001b[34m[99]#011train-auc:0.999999\u001b[0m\n",
      "\n",
      "2020-09-21 16:00:23 Uploading - Uploading generated training model\n",
      "2020-09-21 16:00:23 Completed - Training job completed\n",
      "Training seconds: 124\n",
      "Billable seconds: 124\n"
     ]
    }
   ],
   "source": [
    "clf.fit({'train': s3_train_data})"
   ]
  },
  {
   "cell_type": "markdown",
   "metadata": {
    "pycharm": {
     "name": "#%% md\n"
    }
   },
   "source": [
    "### Host Classifier"
   ]
  },
  {
   "cell_type": "markdown",
   "metadata": {
    "pycharm": {
     "name": "#%% md\n"
    }
   },
   "source": [
    "Now we deploy the estimator to and endpoint. As before progress will be indicated by `-`, and the deployment should be done after 10 minutes."
   ]
  },
  {
   "cell_type": "code",
   "execution_count": 21,
   "metadata": {
    "pycharm": {
     "name": "#%%\n"
    }
   },
   "outputs": [
    {
     "name": "stderr",
     "output_type": "stream",
     "text": [
      "WARNING:sagemaker:Parameter image will be renamed to image_uri in SageMaker Python SDK v2.\n"
     ]
    },
    {
     "name": "stdout",
     "output_type": "stream",
     "text": [
      "---------------!"
     ]
    }
   ],
   "source": [
    "from sagemaker.predictor import csv_serializer\n",
    "\n",
    "predictor = clf.deploy(initial_instance_count=1,\n",
    "                       model_name=\"{}-xgb\".format(config.STACK_NAME),\n",
    "                       endpoint_name=\"{}-xgb\".format(config.STACK_NAME),\n",
    "                       instance_type='ml.m4.xlarge', \n",
    "                       serializer=csv_serializer,\n",
    "                       deserializer=None,\n",
    "                       content_type='text/csv')"
   ]
  },
  {
   "cell_type": "markdown",
   "metadata": {
    "pycharm": {
     "name": "#%% md\n"
    }
   },
   "source": [
    "## Evaluation"
   ]
  },
  {
   "cell_type": "markdown",
   "metadata": {},
   "source": [
    "Once we have trained the model we can use it to make predictions for the test set."
   ]
  },
  {
   "cell_type": "code",
   "execution_count": 22,
   "metadata": {
    "pycharm": {
     "name": "#%%\n"
    }
   },
   "outputs": [],
   "source": [
    "# Because we have a large test set, we call predict on smaller batches\n",
    "def predict(current_predictor, data, rows=500):\n",
    "    split_array = np.array_split(data, int(data.shape[0] / float(rows) + 1))\n",
    "    predictions = ''\n",
    "    for array in split_array:\n",
    "        predictions = ','.join([predictions, current_predictor.predict(array).decode('utf-8')])\n",
    "\n",
    "    return np.fromstring(predictions[1:], sep=',')"
   ]
  },
  {
   "cell_type": "code",
   "execution_count": 23,
   "metadata": {},
   "outputs": [],
   "source": [
    "raw_preds = predict(predictor, X_test)"
   ]
  },
  {
   "cell_type": "markdown",
   "metadata": {
    "pycharm": {
     "name": "#%% md\n"
    }
   },
   "source": [
    "We will use a few measures from the scikit-learn package to evaluate the performance of our model. When dealing with an imbalanced dataset, we need to choose metrics that take into account the frequency of each class in the data.\n",
    "\n",
    "Two such metrics are the [balanced accuracy score](https://scikit-learn.org/stable/modules/model_evaluation.html#balanced-accuracy-score), and [Cohen's Kappa](https://scikit-learn.org/stable/modules/model_evaluation.html#cohen-s-kappa)."
   ]
  },
  {
   "cell_type": "code",
   "execution_count": 24,
   "metadata": {},
   "outputs": [
    {
     "name": "stdout",
     "output_type": "stream",
     "text": [
      "Balanced accuracy = 0.9021211611532022\n",
      "Cohen's Kappa = 0.860255159493083\n"
     ]
    }
   ],
   "source": [
    "from sklearn.metrics import balanced_accuracy_score, cohen_kappa_score\n",
    "\n",
    "# scikit-learn expects 0/1 predictions, so we threshold our raw predictions\n",
    "y_preds = np.where(raw_preds > 0.5, 1, 0)\n",
    "print(\"Balanced accuracy = {}\".format(balanced_accuracy_score(y_test, y_preds)))\n",
    "print(\"Cohen's Kappa = {}\".format(cohen_kappa_score(y_test, y_preds)))"
   ]
  },
  {
   "cell_type": "markdown",
   "metadata": {},
   "source": [
    "We can already see that our model performs very well in terms of both metrics, Cohen's Kappa scores above 0.8 are generally very favorable."
   ]
  },
  {
   "cell_type": "markdown",
   "metadata": {},
   "source": [
    "Apart from single-value metrics, it's also useful to look at metrics that indicate performance per class. A confusion matrix, and per-class precision, recall and f1-score can also provide more information about the model's performance."
   ]
  },
  {
   "cell_type": "code",
   "execution_count": 25,
   "metadata": {},
   "outputs": [],
   "source": [
    "import matplotlib.pyplot as plt\n",
    "import seaborn as sns\n",
    "from sklearn.metrics import confusion_matrix\n",
    "\n",
    "def plot_confusion_matrix(y_true, y_predicted):\n",
    "\n",
    "    cm  = confusion_matrix(y_true, y_predicted)\n",
    "    # Get the per-class normalized value for each cell\n",
    "    cm_norm = cm.astype('float') / cm.sum(axis=1)[:, np.newaxis]\n",
    "    \n",
    "    # We color each cell according to its normalized value, annotate with exact counts.\n",
    "    ax = sns.heatmap(cm_norm, annot=cm, fmt=\"d\")\n",
    "    ax.set(xticklabels=[\"non-fraud\", \"fraud\"], yticklabels=[\"non-fraud\", \"fraud\"])\n",
    "    ax.set_ylim([0,2])\n",
    "    plt.title('Confusion Matrix')\n",
    "    plt.ylabel('Real Classes')\n",
    "    plt.xlabel('Predicted Classes')\n",
    "    plt.show()"
   ]
  },
  {
   "cell_type": "code",
   "execution_count": 26,
   "metadata": {
    "pycharm": {
     "name": "#%%\n"
    }
   },
   "outputs": [
    {
     "data": {
      "image/png": "[encoded data removed]",
      "text/plain": [
       "<Figure size 432x288 with 2 Axes>"
      ]
     },
     "metadata": {},
     "output_type": "display_data"
    }
   ],
   "source": [
    "plot_confusion_matrix(y_test, y_preds)"
   ]
  },
  {
   "cell_type": "code",
   "execution_count": 27,
   "metadata": {
    "pycharm": {
     "name": "#%%\n"
    }
   },
   "outputs": [
    {
     "name": "stdout",
     "output_type": "stream",
     "text": [
      "              precision    recall  f1-score   support\n",
      "\n",
      "   non-fraud       1.00      1.00      1.00     28435\n",
      "       fraud       0.93      0.80      0.86        46\n",
      "\n",
      "    accuracy                           1.00     28481\n",
      "   macro avg       0.96      0.90      0.93     28481\n",
      "weighted avg       1.00      1.00      1.00     28481\n",
      "\n"
     ]
    }
   ],
   "source": [
    "from sklearn.metrics import classification_report\n",
    "\n",
    "print(classification_report(\n",
    "    y_test, y_preds, target_names=['non-fraud', 'fraud']))"
   ]
  },
  {
   "cell_type": "markdown",
   "metadata": {
    "pycharm": {
     "name": "#%% md\n"
    }
   },
   "source": [
    "### Keep sending test traffic to the endpoint via lambda"
   ]
  },
  {
   "cell_type": "markdown",
   "metadata": {},
   "source": [
    "We can now show how we could use both of these models in a production system, using HTTP requests to an AWS Lambda function that invokes both the unsupervised and the supervised SageMaker endpoints.\n",
    "\n",
    "We create a background thread that will constantly create HTTP requests to invoke the Lambda, using our test data as input. See the included `generate_endpoint_traffic.py` file to see how that is done.\n",
    "The output will be logged to an S3 bucket through Kinesis, and you can also observe it in the Lambda function's CloudWatch logs."
   ]
  },
  {
   "cell_type": "code",
   "execution_count": 28,
   "metadata": {},
   "outputs": [],
   "source": [
    "from threading import Thread\n",
    "from package.generate_endpoint_traffic import generate_traffic\n",
    "\n",
    "thread = Thread(target = generate_traffic, args=[np.copy(X_test)])\n",
    "thread.start()\n"
   ]
  },
  {
   "cell_type": "markdown",
   "metadata": {},
   "source": [
    "### SMOTE"
   ]
  },
  {
   "cell_type": "markdown",
   "metadata": {},
   "source": [
    "Now that we have a baseline model using XGBoost, we can try to see if sampling techniques that are designed specifically for imbalanced problems can improve the performance of the model.\n",
    "\n",
    "For that purpose we will be using the [imbalanced-learn](https://imbalanced-learn.readthedocs.io/en/stable/index.html) package that works well with scikit-learn. We have pre-installed the package for this kernel, but if you need it for a different Jupyter kernel you can install it by running `pip install --upgrade imbalanced-learn` within the conda environment you need.\n",
    "\n",
    "We will be using [Sythetic Minority Over-sampling](https://arxiv.org/abs/1106.1813) (SMOTE), which oversamples the minority class by interpolating new data points between existing ones."
   ]
  },
  {
   "cell_type": "code",
   "execution_count": 29,
   "metadata": {},
   "outputs": [],
   "source": [
    "from imblearn.over_sampling import SMOTE\n",
    "\n",
    "smote = SMOTE(random_state=42)\n",
    "X_smote, y_smote = smote.fit_resample(X_train, y_train)"
   ]
  },
  {
   "cell_type": "markdown",
   "metadata": {
    "pycharm": {
     "name": "#%% md\n"
    }
   },
   "source": [
    "We can see that SMOTE has now balanced the two classes:"
   ]
  },
  {
   "cell_type": "code",
   "execution_count": 30,
   "metadata": {},
   "outputs": [
    {
     "name": "stdout",
     "output_type": "stream",
     "text": [
      "[(0.0, 255880), (1.0, 255880)]\n"
     ]
    }
   ],
   "source": [
    "from collections import Counter\n",
    "print(sorted(Counter(y_smote).items()))"
   ]
  },
  {
   "cell_type": "markdown",
   "metadata": {},
   "source": [
    "We note that this is a case of extreme oversampling of the the minority class, we went from ~0.17% to 50%. An alternative would be to use a smaller resampling ratio, such as having one minority cl\n",
    "ass sample for every `sqrt(non_fraud/fraud)` majority samples, or using more advanced resampling techniques. See the [comparison](https://imbalanced-learn.readthedocs.io/en/stable/auto_examples/over-sampling/plot_comparison_over_sampling.html#sphx-glr-auto-examples-over-sampling-plot-comparison-over-sampling-py) provided by imbalanced-learn for more over-sampling options."
   ]
  },
  {
   "cell_type": "markdown",
   "metadata": {
    "pycharm": {
     "name": "#%% md\n"
    }
   },
   "source": [
    "In our case we'll use the SMOTE dataset we just created and upload it to S3 for training."
   ]
  },
  {
   "cell_type": "code",
   "execution_count": 31,
   "metadata": {},
   "outputs": [
    {
     "name": "stdout",
     "output_type": "stream",
     "text": [
      "Uploaded training data location: s3://sagemaker-fraud-machine-learning-modeldatabucket-14xyy5p17ag8g/fraud-classifier/train/smote/fraud-dataset-smote\n",
      "Training artifacts will be uploaded to: s3://sagemaker-fraud-machine-learning-modeldatabucket-14xyy5p17ag8g/fraud-classifier/smote-output\n"
     ]
    }
   ],
   "source": [
    "smote_buf = io.BytesIO()\n",
    "\n",
    "# Dump the SMOTE data into a buffer\n",
    "sklearn.datasets.dump_svmlight_file(X_smote, y_smote, smote_buf)\n",
    "smote_buf.seek(0);\n",
    "\n",
    "# Upload from the buffer to S3\n",
    "key = 'fraud-dataset-smote'\n",
    "subdir = 'smote'\n",
    "boto3.resource('s3').Bucket(bucket).Object(os.path.join(prefix, 'train', subdir, key)).upload_fileobj(smote_buf)\n",
    "\n",
    "s3_smote_train_data = 's3://{}/{}/train/{}/{}'.format(bucket, prefix, subdir, key)\n",
    "print('Uploaded training data location: {}'.format(s3_smote_train_data))\n",
    "\n",
    "smote_output_location = 's3://{}/{}/smote-output'.format(bucket, prefix)\n",
    "print('Training artifacts will be uploaded to: {}'.format(smote_output_location))"
   ]
  },
  {
   "cell_type": "code",
   "execution_count": 32,
   "metadata": {},
   "outputs": [
    {
     "name": "stderr",
     "output_type": "stream",
     "text": [
      "WARNING:root:Parameter image_name will be renamed to image_uri in SageMaker Python SDK v2.\n"
     ]
    }
   ],
   "source": [
    "# No need to scale weights after SMOTE resampling, so we remove that parameter\n",
    "hyperparams.pop(\"scale_pos_weight\", None)\n",
    "smote_xgb = sagemaker.estimator.Estimator(container,\n",
    "                                        get_execution_role(),\n",
    "                                        hyperparameters=hyperparams,\n",
    "                                        train_instance_count=1, \n",
    "                                        train_instance_type='ml.m4.xlarge',\n",
    "                                        output_path=smote_output_location,\n",
    "                                        sagemaker_session=session)"
   ]
  },
  {
   "cell_type": "markdown",
   "metadata": {
    "pycharm": {
     "name": "#%% md\n"
    }
   },
   "source": [
    "We are now ready to fit the model, which should take around 5 minutes to complete."
   ]
  },
  {
   "cell_type": "code",
   "execution_count": 33,
   "metadata": {},
   "outputs": [
    {
     "name": "stderr",
     "output_type": "stream",
     "text": [
      "WARNING:sagemaker:'s3_input' class will be renamed to 'TrainingInput' in SageMaker Python SDK v2.\n"
     ]
    },
    {
     "name": "stdout",
     "output_type": "stream",
     "text": [
      "2020-09-21 16:10:05 Starting - Starting the training job...\n",
      "2020-09-21 16:10:08 Starting - Launching requested ML instances......\n",
      "2020-09-21 16:11:23 Starting - Preparing the instances for training......\n",
      "2020-09-21 16:12:24 Downloading - Downloading input data...\n",
      "2020-09-21 16:13:00 Training - Downloading the training image...\n",
      "2020-09-21 16:13:30 Training - Training image download completed. Training in progress..\u001b[34mINFO:sagemaker-containers:Imported framework sagemaker_xgboost_container.training\u001b[0m\n",
      "\u001b[34mINFO:sagemaker-containers:Failed to parse hyperparameter eval_metric value auc to Json.\u001b[0m\n",
      "\u001b[34mReturning the value itself\u001b[0m\n",
      "\u001b[34mINFO:sagemaker-containers:Failed to parse hyperparameter objective value binary:logistic to Json.\u001b[0m\n",
      "\u001b[34mReturning the value itself\u001b[0m\n",
      "\u001b[34mINFO:sagemaker-containers:No GPUs detected (normal if no gpus installed)\u001b[0m\n",
      "\u001b[34mINFO:sagemaker_xgboost_container.training:Running XGBoost Sagemaker in algorithm mode\u001b[0m\n",
      "\u001b[34m[16:13:33] 511760x30 matrix with 15349834 entries loaded from /opt/ml/input/data/train\u001b[0m\n",
      "\u001b[34mINFO:root:Single node training.\u001b[0m\n",
      "\u001b[34mINFO:root:Train matrix has 511760 rows\u001b[0m\n",
      "\u001b[34m[0]#011train-auc:0.992298\u001b[0m\n",
      "\u001b[34m[1]#011train-auc:0.993169\u001b[0m\n",
      "\u001b[34m[2]#011train-auc:0.993937\u001b[0m\n",
      "\u001b[34m[3]#011train-auc:0.994573\u001b[0m\n",
      "\u001b[34m[4]#011train-auc:0.994995\u001b[0m\n",
      "\u001b[34m[5]#011train-auc:0.996753\u001b[0m\n",
      "\u001b[34m[6]#011train-auc:0.997344\u001b[0m\n",
      "\u001b[34m[7]#011train-auc:0.997648\u001b[0m\n",
      "\u001b[34m[8]#011train-auc:0.998125\u001b[0m\n",
      "\u001b[34m[9]#011train-auc:0.998441\u001b[0m\n",
      "\u001b[34m[10]#011train-auc:0.998601\u001b[0m\n",
      "\u001b[34m[11]#011train-auc:0.99872\u001b[0m\n",
      "\u001b[34m[12]#011train-auc:0.998829\u001b[0m\n",
      "\u001b[34m[13]#011train-auc:0.998929\u001b[0m\n",
      "\u001b[34m[14]#011train-auc:0.999021\u001b[0m\n",
      "\u001b[34m[15]#011train-auc:0.999171\u001b[0m\n",
      "\u001b[34m[16]#011train-auc:0.999251\u001b[0m\n",
      "\u001b[34m[17]#011train-auc:0.999292\u001b[0m\n",
      "\u001b[34m[18]#011train-auc:0.99935\u001b[0m\n",
      "\u001b[34m[19]#011train-auc:0.999379\u001b[0m\n",
      "\u001b[34m[20]#011train-auc:0.999416\u001b[0m\n",
      "\u001b[34m[21]#011train-auc:0.999449\u001b[0m\n",
      "\u001b[34m[22]#011train-auc:0.999495\u001b[0m\n",
      "\u001b[34m[23]#011train-auc:0.999527\u001b[0m\n",
      "\u001b[34m[24]#011train-auc:0.999581\u001b[0m\n",
      "\u001b[34m[25]#011train-auc:0.999635\u001b[0m\n",
      "\u001b[34m[26]#011train-auc:0.999668\u001b[0m\n",
      "\u001b[34m[27]#011train-auc:0.999691\u001b[0m\n",
      "\u001b[34m[28]#011train-auc:0.999709\u001b[0m\n",
      "\u001b[34m[29]#011train-auc:0.999728\u001b[0m\n",
      "\u001b[34m[30]#011train-auc:0.999756\u001b[0m\n",
      "\u001b[34m[31]#011train-auc:0.999767\u001b[0m\n",
      "\u001b[34m[32]#011train-auc:0.999795\u001b[0m\n",
      "\u001b[34m[33]#011train-auc:0.999809\u001b[0m\n",
      "\u001b[34m[34]#011train-auc:0.999821\u001b[0m\n",
      "\u001b[34m[35]#011train-auc:0.99983\u001b[0m\n",
      "\u001b[34m[36]#011train-auc:0.999849\u001b[0m\n",
      "\u001b[34m[37]#011train-auc:0.999884\u001b[0m\n",
      "\u001b[34m[38]#011train-auc:0.999895\u001b[0m\n",
      "\u001b[34m[39]#011train-auc:0.999901\u001b[0m\n",
      "\u001b[34m[40]#011train-auc:0.999906\u001b[0m\n",
      "\u001b[34m[41]#011train-auc:0.999909\u001b[0m\n",
      "\u001b[34m[42]#011train-auc:0.99991\u001b[0m\n",
      "\u001b[34m[43]#011train-auc:0.999916\u001b[0m\n",
      "\u001b[34m[44]#011train-auc:0.999924\u001b[0m\n",
      "\u001b[34m[45]#011train-auc:0.999926\u001b[0m\n",
      "\u001b[34m[46]#011train-auc:0.999928\u001b[0m\n",
      "\u001b[34m[47]#011train-auc:0.99993\u001b[0m\n",
      "\u001b[34m[48]#011train-auc:0.999936\u001b[0m\n",
      "\u001b[34m[49]#011train-auc:0.999937\u001b[0m\n",
      "\u001b[34m[50]#011train-auc:0.999939\u001b[0m\n",
      "\u001b[34m[51]#011train-auc:0.999943\u001b[0m\n",
      "\u001b[34m[52]#011train-auc:0.999945\u001b[0m\n",
      "\u001b[34m[53]#011train-auc:0.999946\u001b[0m\n",
      "\u001b[34m[54]#011train-auc:0.999948\u001b[0m\n",
      "\u001b[34m[55]#011train-auc:0.999953\u001b[0m\n",
      "\u001b[34m[56]#011train-auc:0.999955\u001b[0m\n",
      "\u001b[34m[57]#011train-auc:0.999956\u001b[0m\n",
      "\u001b[34m[58]#011train-auc:0.999959\u001b[0m\n",
      "\u001b[34m[59]#011train-auc:0.99996\u001b[0m\n",
      "\u001b[34m[60]#011train-auc:0.99996\u001b[0m\n",
      "\u001b[34m[61]#011train-auc:0.999962\u001b[0m\n",
      "\u001b[34m[62]#011train-auc:0.999966\u001b[0m\n",
      "\u001b[34m[63]#011train-auc:0.999967\u001b[0m\n",
      "\u001b[34m[64]#011train-auc:0.999971\u001b[0m\n",
      "\u001b[34m[65]#011train-auc:0.999971\u001b[0m\n",
      "\u001b[34m[66]#011train-auc:0.999973\u001b[0m\n",
      "\u001b[34m[67]#011train-auc:0.999974\u001b[0m\n",
      "\u001b[34m[68]#011train-auc:0.999976\u001b[0m\n",
      "\u001b[34m[69]#011train-auc:0.999977\u001b[0m\n",
      "\u001b[34m[70]#011train-auc:0.999977\u001b[0m\n",
      "\u001b[34m[71]#011train-auc:0.999979\u001b[0m\n",
      "\u001b[34m[72]#011train-auc:0.999981\u001b[0m\n",
      "\u001b[34m[73]#011train-auc:0.999982\u001b[0m\n",
      "\u001b[34m[74]#011train-auc:0.999983\u001b[0m\n",
      "\u001b[34m[75]#011train-auc:0.999984\u001b[0m\n",
      "\u001b[34m[76]#011train-auc:0.999985\u001b[0m\n",
      "\u001b[34m[77]#011train-auc:0.999985\u001b[0m\n",
      "\u001b[34m[78]#011train-auc:0.999985\u001b[0m\n",
      "\u001b[34m[79]#011train-auc:0.999985\u001b[0m\n",
      "\u001b[34m[80]#011train-auc:0.999986\u001b[0m\n",
      "\u001b[34m[81]#011train-auc:0.999988\u001b[0m\n",
      "\u001b[34m[82]#011train-auc:0.999988\u001b[0m\n",
      "\u001b[34m[83]#011train-auc:0.999989\u001b[0m\n",
      "\u001b[34m[84]#011train-auc:0.999989\u001b[0m\n",
      "\u001b[34m[85]#011train-auc:0.999989\u001b[0m\n",
      "\u001b[34m[86]#011train-auc:0.99999\u001b[0m\n",
      "\u001b[34m[87]#011train-auc:0.99999\u001b[0m\n",
      "\u001b[34m[88]#011train-auc:0.999991\u001b[0m\n",
      "\u001b[34m[89]#011train-auc:0.999992\u001b[0m\n",
      "\u001b[34m[90]#011train-auc:0.999992\u001b[0m\n",
      "\u001b[34m[91]#011train-auc:0.999992\u001b[0m\n",
      "\u001b[34m[92]#011train-auc:0.999992\u001b[0m\n",
      "\u001b[34m[93]#011train-auc:0.999992\u001b[0m\n",
      "\u001b[34m[94]#011train-auc:0.999993\u001b[0m\n",
      "\u001b[34m[95]#011train-auc:0.999993\u001b[0m\n",
      "\u001b[34m[96]#011train-auc:0.999993\u001b[0m\n",
      "\u001b[34m[97]#011train-auc:0.999994\u001b[0m\n",
      "\u001b[34m[98]#011train-auc:0.999995\u001b[0m\n",
      "\u001b[34m[99]#011train-auc:0.999995\u001b[0m\n",
      "\n",
      "2020-09-21 16:15:26 Uploading - Uploading generated training model\n",
      "2020-09-21 16:15:26 Completed - Training job completed\n",
      "Training seconds: 182\n",
      "Billable seconds: 182\n"
     ]
    }
   ],
   "source": [
    "smote_xgb.fit({'train': s3_smote_train_data})"
   ]
  },
  {
   "cell_type": "markdown",
   "metadata": {},
   "source": [
    "After fitting the model we can check its performance to compare it against the base XGBoost model. The deployment will take around 10 minutes."
   ]
  },
  {
   "cell_type": "code",
   "execution_count": null,
   "metadata": {
    "pycharm": {
     "name": "#%%\n"
    }
   },
   "outputs": [
    {
     "name": "stderr",
     "output_type": "stream",
     "text": [
      "WARNING:sagemaker:Parameter image will be renamed to image_uri in SageMaker Python SDK v2.\n"
     ]
    },
    {
     "name": "stdout",
     "output_type": "stream",
     "text": [
      "-----------"
     ]
    }
   ],
   "source": [
    "smote_predictor = smote_xgb.deploy(initial_instance_count=1,\n",
    "                       model_name=\"{}-xgb-smote\".format(config.STACK_NAME),\n",
    "                       endpoint_name=\"{}-xgb-smote\".format(config.STACK_NAME),\n",
    "                       instance_type='ml.m4.xlarge')\n",
    "\n",
    "# Specify input and output formats.\n",
    "smote_predictor.content_type = 'text/csv'\n",
    "smote_predictor.serializer = csv_serializer\n",
    "smote_predictor.deserializer = None"
   ]
  },
  {
   "cell_type": "code",
   "execution_count": null,
   "metadata": {},
   "outputs": [],
   "source": [
    "smote_raw_preds = predict(smote_predictor, X_test)\n",
    "smote_preds = np.where(smote_raw_preds > 0.5, 1, 0)"
   ]
  },
  {
   "cell_type": "code",
   "execution_count": null,
   "metadata": {
    "pycharm": {
     "name": "#%%\n"
    }
   },
   "outputs": [],
   "source": [
    "print(\"Balanced accuracy = {}\".format(balanced_accuracy_score(y_test, smote_preds)))\n",
    "print(\"Cohen's Kappa = {}\".format(cohen_kappa_score(y_test, smote_preds)))"
   ]
  },
  {
   "cell_type": "code",
   "execution_count": null,
   "metadata": {
    "pycharm": {
     "name": "#%%\n"
    }
   },
   "outputs": [],
   "source": [
    "plot_confusion_matrix(y_test, smote_preds)"
   ]
  },
  {
   "cell_type": "code",
   "execution_count": null,
   "metadata": {},
   "outputs": [],
   "source": [
    "print(classification_report(\n",
    "    y_test, smote_preds, target_names=['non-fraud', 'fraud']))"
   ]
  },
  {
   "cell_type": "markdown",
   "metadata": {},
   "source": [
    "Due to the randomness of XGBoost your results may vary, but overall, you should see a large increase in non-fraud cases being classified as fraud (false positives). The reason this happens is because SMOTE has oversampled the fraud class so much that it's increased its overlap in feature space with the non-fraud cases.\n",
    "Since Cohen's Kappa gives more weight to false positives than balanced accuracy does, the metric drops significantly, as does the precision and F1 score for fraud cases. However, we can bring a balance between the metrics again by adjusting our classification threshold."
   ]
  },
  {
   "cell_type": "markdown",
   "metadata": {},
   "source": [
    "So far we've been using 0.5 as the threshold between labeling a point as fraud or not. We can try different thresholds to see if they affect the result of the classification. To evaluate we'll use the balanced accuracy and Cohen's Kappa metrics."
   ]
  },
  {
   "cell_type": "code",
   "execution_count": null,
   "metadata": {
    "pycharm": {
     "name": "#%%\n"
    }
   },
   "outputs": [],
   "source": [
    "for thres in np.linspace(0.1, 0.9, num=9):\n",
    "    smote_thres_preds = np.where(smote_raw_preds > thres, 1, 0)\n",
    "    print(\"Threshold: {:.1f}\".format(thres))\n",
    "    print(\"Balanced accuracy = {:.3f}\".format(balanced_accuracy_score(y_test, smote_thres_preds)))\n",
    "    print(\"Cohen's Kappa = {:.3f}\\n\".format(cohen_kappa_score(y_test, smote_thres_preds)))"
   ]
  },
  {
   "cell_type": "markdown",
   "metadata": {},
   "source": [
    "We see that Cohen's Kappa keeps increasing along with the threshold, without a significant loss in balanced accuracy. This adds a useful knob to our model: We can keep a low threshold if we care more about not missing any fraudulent cases, or we can increase the threshold to try to minimize the number of false positives."
   ]
  },
  {
   "cell_type": "markdown",
   "metadata": {},
   "source": [
    "## Clean up\n",
    "\n",
    "We will leave the unsupervised and base XGBoost endpoints running at the end of this notebook so we can handle incoming event streams. However, don't forget to delete the prediction endpoints when you're done. You can do that at the Amazon SageMaker console in the Endpoints page. Or you can run `predictor_name.delete_endpoint()`"
   ]
  },
  {
   "cell_type": "code",
   "execution_count": null,
   "metadata": {},
   "outputs": [],
   "source": [
    "# Uncomment to clean up endpoints\n",
    "# rcf_predictor.delete_model()\n",
    "# rcf_predictor.delete_endpoint()\n",
    "# predictor.delete_endpoint()\n",
    "# predictor.delete_model()\n",
    "smote_predictor.delete_model()\n",
    "smote_predictor.delete_endpoint()"
   ]
  },
  {
   "cell_type": "markdown",
   "metadata": {},
   "source": [
    "\n",
    "## Data Acknowledgements\n",
    "\n",
    "The dataset used to demonstrated the fraud detection solution has been collected and analysed during a research collaboration of Worldline and the Machine Learning Group (http://mlg.ulb.ac.be) of ULB (Université Libre de Bruxelles) on big data mining and fraud detection. More details on current and past projects on related topics are available on https://www.researchgate.net/project/Fraud-detection-5 and the page of the [DefeatFraud](https://mlg.ulb.ac.be/wordpress/portfolio_page/defeatfraud-assessment-and-validation-of-deep-feature-engineering-and-learning-solutions-for-fraud-detection/) project\n",
    "We cite the following works:\n",
    "* Andrea Dal Pozzolo, Olivier Caelen, Reid A. Johnson and Gianluca Bontempi. Calibrating Probability with Undersampling for Unbalanced Classification. In Symposium on Computational Intelligence and Data Mining (CIDM), IEEE, 2015\n",
    "* Dal Pozzolo, Andrea; Caelen, Olivier; Le Borgne, Yann-Ael; Waterschoot, Serge; Bontempi, Gianluca. Learned lessons in credit card fraud detection from a practitioner perspective, Expert systems with applications,41,10,4915-4928,2014, Pergamon\n",
    "* Dal Pozzolo, Andrea; Boracchi, Giacomo; Caelen, Olivier; Alippi, Cesare; Bontempi, Gianluca. Credit card fraud detection: a realistic modeling and a novel learning strategy, IEEE transactions on neural networks and learning systems,29,8,3784-3797,2018,IEEE\n",
    "* Dal Pozzolo, Andrea Adaptive Machine learning for credit card fraud detection ULB MLG PhD thesis (supervised by G. Bontempi)\n",
    "* Carcillo, Fabrizio; Dal Pozzolo, Andrea; Le Borgne, Yann-Aël; Caelen, Olivier; Mazzer, Yannis; Bontempi, Gianluca. Scarff: a scalable framework for streaming credit card fraud detection with Spark, Information fusion,41, 182-194,2018,Elsevier\n",
    "* Carcillo, Fabrizio; Le Borgne, Yann-Aël; Caelen, Olivier; Bontempi, Gianluca. Streaming active learning strategies for real-life credit card fraud detection: assessment and visualization, International Journal of Data Science and Analytics, 5,4,285-300,2018,Springer International Publishing"
   ]
  },
  {
   "cell_type": "code",
   "execution_count": null,
   "metadata": {},
   "outputs": [],
   "source": []
  },
  {
   "cell_type": "code",
   "execution_count": null,
   "metadata": {},
   "outputs": [],
   "source": []
  }
 ],
 "metadata": {
  "kernelspec": {
   "display_name": "conda_python3",
   "language": "python",
   "name": "conda_python3"
  },
  "language_info": {
   "codemirror_mode": {
    "name": "ipython",
    "version": 3
   },
   "file_extension": ".py",
   "mimetype": "text/x-python",
   "name": "python",
   "nbconvert_exporter": "python",
   "pygments_lexer": "ipython3",
   "version": "3.6.10"
  }
 },
 "nbformat": 4,
 "nbformat_minor": 4
}
